{
 "cells": [
  {
   "cell_type": "markdown",
   "metadata": {},
   "source": [
    "## yelpReviewsTopicModelling"
   ]
  },
  {
   "cell_type": "code",
   "execution_count": 1,
   "metadata": {},
   "outputs": [],
   "source": [
    "## IMPORT NECESSARY PACKAGES #1\n",
    "\n",
    "from pprint import pprint\n",
    "# import pandasql as ps\n",
    "import numpy as np\n",
    "import pandas as pd\n",
    "import requests\n",
    "import matplotlib.pyplot as plt\n",
    "%matplotlib inline\n",
    "import seaborn as sns\n",
    "from zipfile import ZipFile\n",
    "from io import BytesIO\n",
    "from IPython.core.interactiveshell import InteractiveShell\n",
    "from IPython.display import display, HTML\n",
    "# InteractiveShell.ast_node_interactivity = \"all\"\n",
    "# CSS = \"\"\"\n",
    "# .output {\n",
    "#     flex-direction: row;\n",
    "# }\n",
    "# \"\"\"\n",
    "# HTML('<style>{}</style>'.format(CSS))\n",
    "\n",
    "sns.set()"
   ]
  },
  {
   "cell_type": "code",
   "execution_count": 224,
   "metadata": {},
   "outputs": [
    {
     "name": "stderr",
     "output_type": "stream",
     "text": [
      "C:\\Users\\User\\Anaconda3\\lib\\site-packages\\IPython\\core\\interactiveshell.py:2785: DtypeWarning: Columns (2,3) have mixed types. Specify dtype option on import or set low_memory=False.\n",
      "  interactivity=interactivity, compiler=compiler, result=result)\n"
     ]
    }
   ],
   "source": [
    "## LOAD TORONTO DATASETS & DELETE WEIRD \n",
    "\n",
    "restaurants_df = pd.read_csv(\"datasets/odyssey_restaurants.csv\")\n",
    "reviews_df = pd.read_csv(\"datasets/odyssey_sentiment.csv\")\n",
    "\n",
    "del(restaurants_df['Unnamed: 0'])\n",
    "# del(reviews_df['Unnamed: 0'])\n",
    "\n",
    "# restaurants_df = restaurants_df[restaurants_df['RestaurantsPriceRange2'] == 2]\n",
    "# reviews_df = reviews_df.loc[reviews_df['business_id'].isin(restaurants_df.business_id)]\n"
   ]
  },
  {
   "cell_type": "code",
   "execution_count": 225,
   "metadata": {},
   "outputs": [],
   "source": [
    "reviews_df = reviews_df.merge(restaurants_df[['business_id', 'name', 'city','latitude','longitude','cuisine']], left_on='business_id', \n",
    "                               right_on='business_id')[['business_id', 'name', 'city','latitude','longitude','cuisine', 'stars', 'text','label']]"
   ]
  },
  {
   "cell_type": "code",
   "execution_count": 226,
   "metadata": {},
   "outputs": [],
   "source": [
    "reviews_df= reviews_df.drop_duplicates()"
   ]
  },
  {
   "cell_type": "code",
   "execution_count": 227,
   "metadata": {},
   "outputs": [
    {
     "name": "stdout",
     "output_type": "stream",
     "text": [
      "Number of categories listed 3\n"
     ]
    },
    {
     "data": {
      "text/plain": [
       "array([1, 3, 5, 4, 2, '1', '5', '3', '4', '2'], dtype=object)"
      ]
     },
     "execution_count": 227,
     "metadata": {},
     "output_type": "execute_result"
    }
   ],
   "source": [
    "print('Number of categories listed',restaurants_df['city'].nunique())\n",
    "\n",
    "reviews_df['stars'].unique()\n",
    "\n",
    "# reviews_df = reviews_df[reviews_df['stars'] != 'stars']"
   ]
  },
  {
   "cell_type": "code",
   "execution_count": 228,
   "metadata": {},
   "outputs": [
    {
     "data": {
      "text/plain": [
       "array([1, 3, 5, 4, 2], dtype=int64)"
      ]
     },
     "execution_count": 228,
     "metadata": {},
     "output_type": "execute_result"
    }
   ],
   "source": [
    "reviews_df['stars'] = reviews_df['stars'].map({'5': 5, '4': 4, '3': 3, '2': 2, '1': 1, 5: 5, 4: 4, 3: 3, 2: 2, 1: 1})\n",
    "\n",
    "reviews_df['stars'].unique()"
   ]
  },
  {
   "cell_type": "code",
   "execution_count": 229,
   "metadata": {},
   "outputs": [
    {
     "data": {
      "text/plain": [
       "4642"
      ]
     },
     "execution_count": 229,
     "metadata": {},
     "output_type": "execute_result"
    }
   ],
   "source": [
    "len(restaurants_df)"
   ]
  },
  {
   "cell_type": "code",
   "execution_count": 330,
   "metadata": {},
   "outputs": [
    {
     "data": {
      "image/png": "[encoded data removed]",
      "text/plain": [
       "<Figure size 1080x216 with 5 Axes>"
      ]
     },
     "metadata": {},
     "output_type": "display_data"
    }
   ],
   "source": [
    "# check how the review lengths are distributed\n",
    "reviews_df['review_length'] = reviews_df.text.map(len)\n",
    "\n",
    "ax = sns.FacetGrid(data=reviews_df, col='stars', xlim=(0, 2000)).map(plt.hist, 'review_length', bins=50)\n",
    "\n",
    "ax.axes[0][1].set(ylabel='number of reviews');"
   ]
  },
  {
   "cell_type": "markdown",
   "metadata": {},
   "source": [
    "## Run for specific City+Cuisine"
   ]
  },
  {
   "cell_type": "code",
   "execution_count": 580,
   "metadata": {},
   "outputs": [
    {
     "name": "stdout",
     "output_type": "stream",
     "text": [
      "Postive Reviews:  26,480\n",
      "Negative Reviews:  5,134\n"
     ]
    }
   ],
   "source": [
    "pos_reviews = reviews_df.text[(reviews_df.city == 'Toronto') & (reviews_df.cuisine == 'american') &\\\n",
    "                              (reviews_df.label == 1)].values\n",
    "\n",
    "neg_reviews = reviews_df.text[(reviews_df.city == 'Toronto') & (reviews_df.cuisine == 'american') &\\\n",
    "                              (reviews_df.label == -1)].values\n",
    "\n",
    "print('Postive Reviews:  {:,}'.format(len(pos_reviews)))\n",
    "print('Negative Reviews:  {:,}'.format(len(neg_reviews)))"
   ]
  },
  {
   "cell_type": "code",
   "execution_count": 551,
   "metadata": {},
   "outputs": [
    {
     "data": {
      "text/plain": [
       "array(['Las Vegas', 'Toronto', 'Calgary'], dtype=object)"
      ]
     },
     "execution_count": 551,
     "metadata": {},
     "output_type": "execute_result"
    }
   ],
   "source": [
    "reviews_df['city'].unique()"
   ]
  },
  {
   "cell_type": "code",
   "execution_count": 581,
   "metadata": {},
   "outputs": [],
   "source": [
    "# additional stopwords\n",
    "from sklearn.feature_extraction import text \n",
    "extra_words = ['ve', 'like', 'got', 'american','toronto','just', \n",
    "               'don', 'really', 'said', 'told', 'ok',\n",
    "               'came', 'went', 'did', 'didn', 'good', 'kim', 'pho']\n",
    "stop_words = text.ENGLISH_STOP_WORDS.union(extra_words)"
   ]
  },
  {
   "cell_type": "code",
   "execution_count": 582,
   "metadata": {},
   "outputs": [
    {
     "name": "stdout",
     "output_type": "stream",
     "text": [
      "Wall time: 3.29 s\n"
     ]
    }
   ],
   "source": [
    "%%time\n",
    "from sklearn.feature_extraction.text import TfidfVectorizer\n",
    "\n",
    "# Create a vectorizer object to generate term document counts\n",
    "tfidf_pos = TfidfVectorizer(stop_words=stop_words, min_df=10, max_df=0.5, \n",
    "                        ngram_range=(1,1), token_pattern='[a-z][a-z]+')\n",
    "\n",
    "tfidf_neg = TfidfVectorizer(stop_words=stop_words, min_df=10, max_df=0.5, \n",
    "                        ngram_range=(1,1), token_pattern='[a-z][a-z]+')\n",
    "\n",
    "# Get random subset of reviews\n",
    "np.random.seed(38)\n",
    "num_reviews = 20000\n",
    "random_neg = np.random.choice(neg_reviews, size=num_reviews)\n",
    "random_pos = np.random.choice(pos_reviews, size=num_reviews)\n",
    "\n",
    "dicty = {'pizzas':'pizza', 'burgers':'burger', 'ordered':'order',\n",
    "         'prices':'price', 'topping':'toppings', 'noodle':'noodles', 'dumpling':'dumplings'}\n",
    "def replace_words(text, dicty):\n",
    "    '''Returns text with word substitutions made according\n",
    "       to the passed `dicty` dictionary'''\n",
    "    for i,j in dicty.items():\n",
    "        text = text.replace(i,j)\n",
    "    return text\n",
    "\n",
    "random_neg = [replace_words(w, dicty) for w in random_neg]\n",
    "random_pos = [replace_words(w, dicty) for w in random_pos]\n",
    "\n",
    "# Get the vectors\n",
    "neg_vectors = tfidf_neg.fit_transform(random_neg)\n",
    "pos_vectors = tfidf_pos.fit_transform(random_pos)"
   ]
  },
  {
   "cell_type": "code",
   "execution_count": 583,
   "metadata": {},
   "outputs": [],
   "source": [
    "# Store TFIDF vectors in a Pandas DataFrame to investigate further\n",
    "neg_df = pd.DataFrame(neg_vectors.todense(), columns=[tfidf_neg.get_feature_names()])\n",
    "pos_df = pd.DataFrame(pos_vectors.todense(), columns=[tfidf_pos.get_feature_names()])\n",
    "\n",
    "# get mean for each column (word): highest means are most important words\n",
    "col_means_neg = {}\n",
    "for col in neg_df:\n",
    "    col_means_neg[col] = neg_df[col].mean()\n",
    "\n",
    "col_means_pos = {}\n",
    "for col in pos_df:\n",
    "    col_means_pos[col] = pos_df[col].mean()"
   ]
  },
  {
   "cell_type": "code",
   "execution_count": 584,
   "metadata": {
    "scrolled": true
   },
   "outputs": [
    {
     "name": "stdout",
     "output_type": "stream",
     "text": [
      "Top 10 words in POSITIVE reviews:[('great',), ('place',), ('service',), ('order',), ('chicken',), ('nice',), ('time',), ('menu',), ('burger',), ('restaurant',)]\n",
      "Top 10 words in NEGATIVE reviews:[('service',), ('place',), ('order',), ('time',), ('chicken',), ('restaurant',), ('burger',), ('bad',), ('server',), ('table',)]\n"
     ]
    }
   ],
   "source": [
    "no_top_words = 10\n",
    "\n",
    "print('Top %d words in POSITIVE reviews:' %no_top_words, end='')\n",
    "print(sorted(col_means_pos, key=col_means_pos.get, reverse=True)[:no_top_words])\n",
    "\n",
    "print('Top %d words in NEGATIVE reviews:' %no_top_words, end='')\n",
    "print(sorted(col_means_neg, key=col_means_neg.get, reverse=True)[:no_top_words])"
   ]
  },
  {
   "cell_type": "code",
   "execution_count": 585,
   "metadata": {},
   "outputs": [],
   "source": [
    "# delete dataframes to save memory\n",
    "del neg_df\n",
    "del pos_df"
   ]
  },
  {
   "cell_type": "code",
   "execution_count": 586,
   "metadata": {},
   "outputs": [],
   "source": [
    "# LSA\n",
    "from gensim import corpora, models, similarities, matutils\n",
    "\n",
    "# Convert sparse matrix of counts to a gensim corpus\n",
    "# Need to transpose it for gensim which wants terms by docs instead of docs by terms\n",
    "tfidf_pos_corpus = matutils.Sparse2Corpus(pos_vectors.transpose())\n",
    "tfidf_neg_corpus = matutils.Sparse2Corpus(neg_vectors.transpose())\n",
    "\n",
    "# Row indices\n",
    "id2word_pos = dict((v,k) for k,v in tfidf_pos.vocabulary_.items())\n",
    "id2word_neg = dict((v,k) for k,v in tfidf_neg.vocabulary_.items())\n",
    "\n",
    "# This is a hack for Python 3!\n",
    "id2word_pos = corpora.Dictionary.from_corpus(tfidf_pos_corpus, id2word=id2word_pos)\n",
    "id2word_neg = corpora.Dictionary.from_corpus(tfidf_neg_corpus, id2word=id2word_neg)"
   ]
  },
  {
   "cell_type": "code",
   "execution_count": 587,
   "metadata": {},
   "outputs": [],
   "source": [
    "# create LSA model\n",
    "num_topics = 7\n",
    "lsi_pos = models.LsiModel(tfidf_pos_corpus, id2word=id2word_pos, num_topics=num_topics)\n",
    "lsi_neg = models.LsiModel(tfidf_neg_corpus, id2word=id2word_neg, num_topics=num_topics)"
   ]
  },
  {
   "cell_type": "code",
   "execution_count": 588,
   "metadata": {},
   "outputs": [
    {
     "data": {
      "image/png": "[encoded data removed]",
      "text/plain": [
       "<Figure size 864x360 with 1 Axes>"
      ]
     },
     "metadata": {},
     "output_type": "display_data"
    }
   ],
   "source": [
    "# elbow plot\n",
    "singular_values_pos = lsi_pos.projection.s.tolist()\n",
    "singular_values_pos_rel = [sv/singular_values_pos[-1] for sv in singular_values_pos]\n",
    "singular_values_neg = lsi_neg.projection.s.tolist()\n",
    "singular_values_neg_rel = [sv/singular_values_neg[-1] for sv in singular_values_neg]\n",
    "\n",
    "plt.style.use('fivethirtyeight')\n",
    "plt.figure(figsize=(12,5))\n",
    "plt.plot(range(len(singular_values_pos)), singular_values_pos_rel, label='Positive Reviews', alpha=1.0)\n",
    "plt.plot(range(len(singular_values_neg)), singular_values_neg_rel, label='Negative Reviews', alpha=0.7)\n",
    "plt.xticks(range(len(singular_values_pos)), range(len(singular_values_pos)))\n",
    "plt.xlabel('Topic #')\n",
    "plt.ylabel('Relative Strength')\n",
    "plt.title('LSI Topic Strengths (Relative)')\n",
    "plt.legend(loc=0, fontsize='medium');"
   ]
  },
  {
   "cell_type": "code",
   "execution_count": 589,
   "metadata": {},
   "outputs": [],
   "source": [
    "topics_to_print = 5"
   ]
  },
  {
   "cell_type": "code",
   "execution_count": 590,
   "metadata": {},
   "outputs": [
    {
     "name": "stdout",
     "output_type": "stream",
     "text": [
      "Top 5 topics for POSITIVE reviews\n",
      "---------------------------------\n",
      "[(0,\n",
      "  '0.210*\"great\" + 0.199*\"place\" + 0.161*\"service\" + 0.151*\"order\" + '\n",
      "  '0.138*\"chicken\" + 0.128*\"time\" + 0.126*\"nice\" + 0.122*\"burger\" + '\n",
      "  '0.121*\"menu\" + 0.114*\"restaurant\"'),\n",
      " (1,\n",
      "  '-0.409*\"great\" + 0.369*\"chicken\" + 0.213*\"burger\" + -0.186*\"place\" + '\n",
      "  '0.174*\"fried\" + 0.166*\"fries\" + -0.162*\"service\" + 0.143*\"order\" + '\n",
      "  '-0.138*\"drinks\" + 0.138*\"sauce\"'),\n",
      " (2,\n",
      "  '-0.615*\"burger\" + -0.219*\"fries\" + -0.193*\"great\" + -0.193*\"wings\" + '\n",
      "  '-0.159*\"beer\" + -0.159*\"place\" + 0.135*\"restaurant\" + 0.132*\"brunch\" + '\n",
      "  '0.117*\"dessert\" + -0.113*\"chicken\"'),\n",
      " (3,\n",
      "  '0.370*\"chicken\" + -0.356*\"burger\" + 0.341*\"brunch\" + 0.239*\"great\" + '\n",
      "  '0.167*\"breakfast\" + 0.162*\"fried\" + 0.158*\"eggs\" + 0.155*\"pancakes\" + '\n",
      "  '0.152*\"waffles\" + -0.109*\"restaurant\"'),\n",
      " (4,\n",
      "  '-0.439*\"burger\" + -0.375*\"brunch\" + 0.302*\"wings\" + 0.284*\"chicken\" + '\n",
      "  '-0.216*\"eggs\" + -0.205*\"breakfast\" + -0.180*\"pancakes\" + 0.140*\"bar\" + '\n",
      "  '0.137*\"beer\" + -0.133*\"wait\"')]\n"
     ]
    }
   ],
   "source": [
    "# look at top positive topics\n",
    "print('Top %d topics for POSITIVE reviews' %(topics_to_print))\n",
    "print('-'*33)\n",
    "pprint(lsi_pos.show_topics()[0:topics_to_print])"
   ]
  },
  {
   "cell_type": "code",
   "execution_count": 591,
   "metadata": {},
   "outputs": [
    {
     "name": "stdout",
     "output_type": "stream",
     "text": [
      "Top 5 topics for NEGATIVE reviews\n",
      "---------------------------------\n",
      "[(0,\n",
      "  '0.225*\"service\" + 0.205*\"order\" + 0.193*\"place\" + 0.163*\"time\" + '\n",
      "  '0.131*\"minutes\" + 0.130*\"restaurant\" + 0.127*\"server\" + 0.126*\"table\" + '\n",
      "  '0.123*\"chicken\" + 0.121*\"bad\"'),\n",
      " (1,\n",
      "  '0.422*\"burger\" + 0.306*\"chicken\" + -0.229*\"minutes\" + 0.205*\"fries\" + '\n",
      "  '-0.187*\"table\" + 0.135*\"dry\" + -0.125*\"service\" + -0.121*\"wait\" + '\n",
      "  '-0.114*\"server\" + -0.114*\"waited\"'),\n",
      " (2,\n",
      "  '0.382*\"chicken\" + -0.354*\"place\" + 0.271*\"order\" + -0.241*\"bar\" + '\n",
      "  '0.190*\"minutes\" + -0.186*\"service\" + -0.155*\"beer\" + -0.124*\"great\" + '\n",
      "  '0.122*\"took\" + 0.104*\"server\"'),\n",
      " (3,\n",
      "  '0.732*\"burger\" + -0.353*\"chicken\" + -0.243*\"wings\" + 0.142*\"minutes\" + '\n",
      "  '0.112*\"fries\" + -0.098*\"place\" + -0.093*\"waffles\" + 0.086*\"took\" + '\n",
      "  '-0.078*\"great\" + 0.072*\"patty\"'),\n",
      " (4,\n",
      "  '-0.627*\"wings\" + -0.272*\"bar\" + -0.219*\"beer\" + 0.147*\"eggs\" + '\n",
      "  '0.132*\"restaurant\" + 0.130*\"steak\" + -0.121*\"burger\" + 0.114*\"brunch\" + '\n",
      "  '-0.111*\"sports\" + 0.107*\"breakfast\"')]\n"
     ]
    }
   ],
   "source": [
    "\n",
    "# look at top negative topics\n",
    "print('Top %d topics for NEGATIVE reviews' %(topics_to_print))\n",
    "print('-'*33)\n",
    "pprint(lsi_neg.show_topics()[0:topics_to_print])"
   ]
  },
  {
   "cell_type": "code",
   "execution_count": 592,
   "metadata": {},
   "outputs": [
    {
     "name": "stdout",
     "output_type": "stream",
     "text": [
      "Wall time: 3.92 s\n"
     ]
    }
   ],
   "source": [
    "\n",
    "%%time\n",
    "# negative values in LSA topics are annoying\n",
    "# let's see if we can fix that with NMF\n",
    "from sklearn.decomposition import NMF\n",
    "\n",
    "# change num_topics\n",
    "num_topics = 6\n",
    "\n",
    "nmf_pos = NMF(n_components=num_topics)\n",
    "W_pos = nmf_pos.fit_transform(pos_vectors)\n",
    "H_pos = nmf_pos.components_\n",
    "\n",
    "nmf_neg = NMF(n_components=num_topics)\n",
    "W_neg = nmf_neg.fit_transform(neg_vectors)\n",
    "H_neg = nmf_neg.components_"
   ]
  },
  {
   "cell_type": "code",
   "execution_count": 593,
   "metadata": {},
   "outputs": [
    {
     "name": "stdout",
     "output_type": "stream",
     "text": [
      "Top topics + words for POSITIVE reviews\n",
      "---------------------------------------\n",
      "Topic 0:   0.952*restaurant, 0.861*order, 0.772*menu, 0.666*dessert, 0.654*experience, 0.634*meal, 0.575*dinner, 0.553*salad, 0.534*time, 0.514*table\n",
      "Topic 1:   2.155*chicken, 0.928*fried, 0.582*ribs, 0.525*pork, 0.522*fries, 0.515*sauce, 0.511*waffles, 0.509*sandwich, 0.476*bbq, 0.393*brisket\n",
      "Topic 2:   3.006*burger, 0.809*fries, 0.292*rings, 0.279*cheese, 0.278*onion, 0.275*bun, 0.248*patty, 0.215*order, 0.208*poutine, 0.194*beef\n",
      "Topic 3:   1.472*place, 1.153*bar, 0.915*drinks, 0.879*beer, 0.696*wings, 0.593*nice, 0.590*night, 0.529*patio, 0.524*pretty, 0.518*drink\n",
      "Topic 4:   1.873*brunch, 1.032*eggs, 0.938*breakfast, 0.867*pancakes, 0.652*wait, 0.579*toast, 0.479*bacon, 0.476*coffee, 0.411*french, 0.394*benedict\n",
      "Topic 5:   2.455*great, 0.852*service, 0.627*atmosphere, 0.626*friendly, 0.614*staff, 0.576*amazing, 0.380*place, 0.354*excellent, 0.351*definitely, 0.308*recommend\n",
      "\n",
      "Top topics + words for NEGATIVE reviews\n",
      "---------------------------------------\n",
      "Topic 0:   1.349*minutes, 1.172*table, 1.110*order, 0.955*server, 0.903*time, 0.854*asked, 0.844*took, 0.843*wait, 0.664*waited, 0.644*waitress\n",
      "Topic 1:   1.919*chicken, 0.683*order, 0.670*sandwich, 0.624*salad, 0.542*steak, 0.488*fries, 0.484*dry, 0.432*fried, 0.410*cheese, 0.407*tasted\n",
      "Topic 2:   1.650*place, 0.997*bar, 0.600*beer, 0.387*drinks, 0.371*people, 0.353*sports, 0.314*night, 0.298*patio, 0.297*decent, 0.294*drink\n",
      "Topic 3:   2.894*burger, 0.698*fries, 0.350*cheese, 0.294*patty, 0.266*bun, 0.256*rings, 0.255*dry, 0.254*onion, 0.220*order, 0.204*poutine\n",
      "Topic 4:   2.634*wings, 0.294*sauce, 0.275*beer, 0.243*wing, 0.239*order, 0.199*fries, 0.195*lb, 0.190*pound, 0.189*louis, 0.171*night\n",
      "Topic 5:   2.240*service, 0.927*slow, 0.723*terrible, 0.712*bad, 0.541*horrible, 0.514*great, 0.494*poor, 0.429*overpriced, 0.415*restaurant, 0.389*location\n"
     ]
    }
   ],
   "source": [
    "def display_topics(model, feature_names, num_topics, no_top_words):\n",
    "    for topic_idx, topic in enumerate(model.components_):\n",
    "        if topic_idx < num_topics:\n",
    "            print(\"{:11}\".format(\"Topic %d:\" %(topic_idx)), end='')\n",
    "            print(\", \".join(['{:04.3f}*'.format(topic[i])+feature_names[i] \\\n",
    "                             for i in topic.argsort()[:-no_top_words-1:-1]]))\n",
    "\n",
    "no_topics = num_topics\n",
    "no_top_words = 10\n",
    "\n",
    "print('Top topics + words for POSITIVE reviews')\n",
    "print('-'*39)\n",
    "display_topics(nmf_pos, tfidf_pos.get_feature_names(), no_topics, no_top_words)\n",
    "\n",
    "print('\\nTop topics + words for NEGATIVE reviews')\n",
    "print('-'*39)\n",
    "display_topics(nmf_neg, tfidf_neg.get_feature_names(), no_topics, no_top_words)"
   ]
  },
  {
   "cell_type": "code",
   "execution_count": 594,
   "metadata": {},
   "outputs": [
    {
     "name": "stdout",
     "output_type": "stream",
     "text": [
      "17090\n",
      "Had a business B'fast yesterday. It was great. The place was clean bright and the staff pleasant. The food was plain but well-prepared and tasty. The T-bone steak and eggar was prepared properly, medium rare. Overall was a good experience.\n"
     ]
    }
   ],
   "source": [
    "# look at a random positive review\n",
    "review_num = np.random.randint(0, high=len(random_pos))\n",
    "print(review_num)\n",
    "print(random_pos[review_num])\n"
   ]
  },
  {
   "cell_type": "code",
   "execution_count": 595,
   "metadata": {},
   "outputs": [
    {
     "name": "stdout",
     "output_type": "stream",
     "text": [
      "10205\n",
      "Scoff!\r",
      "\r\n",
      "\r",
      "\r\n",
      "They're not open for the dinner crowd.  Finally made it there for lunch one day and there was a lineup of 3 couples.  Nobody so much as acknowledged anyone in the line.  I noticed a few of the wait staff glanced over but didn't make any effort to serve us or let a host/hostess know we were there.\r",
      "\r\n",
      "\r",
      "\r\n",
      "After waiting 20 mins without even being acknowledged, we left.\r",
      "\r\n",
      "\r",
      "\r\n",
      "TERRIBLE first impression.  TERRIBLE service.  Never setting foot in there again!\n"
     ]
    }
   ],
   "source": [
    "# look at a random negative review\n",
    "review_num = np.random.randint(0, high=len(random_neg))\n",
    "print(review_num)\n",
    "print(random_neg[review_num])\n"
   ]
  },
  {
   "cell_type": "code",
   "execution_count": 596,
   "metadata": {},
   "outputs": [],
   "source": [
    "\n",
    "# compute cosine similarities of this review with all other reviews in the new space\n",
    "import sklearn.metrics.pairwise as smp\n",
    "\n",
    "cosines = {}\n",
    "for ind, review in enumerate(W_pos):\n",
    "    similarity = smp.cosine_similarity(W_pos[review_num].reshape(1,-1), review.reshape(1,-1))\n",
    "    cosines[ind] = similarity[0][0]"
   ]
  },
  {
   "cell_type": "code",
   "execution_count": 597,
   "metadata": {},
   "outputs": [
    {
     "name": "stdout",
     "output_type": "stream",
     "text": [
      "--------------------------------------------------\n",
      ">> Similarity 1.000\n",
      "So many choices... too many choices. I like places that kind of specialize in a few foods.. this place served everything! It wasn't bad. Whatever my girlfriend had had way too many onions and her breath smelled bad for the rest of the night. I had some pasta which was pretty good. It's about as expensive as you'd expect for Toronto, nothing outrageous.\n",
      "--------------------------------------------------\n",
      ">> Similarity 0.998\n",
      "I came to Beer Bistro with some high hopes after reading their beer list online and seeing their menu. Tons of bottles and drafts to choose from. Hey, they even have Brooklyn! Can't find that at Esplanade Bier Markt. And I went during mussels month with all types of moules frites specials. Well, nothing wrong with the beer. In fact, they even offer samplers so you can try more and more types and varieties. But the food was the problem. The frites were decent but the moules were super-chewy with not much taste. I sent them back and to their credit, the head chef came out to apologize. However, he tried to defend his dish saying noone else had sent it back. Well, I'm a Yelper so I'm not everyone else, am I? Had a dinner salad instead which was only fair. I think if I come back here again, I'll just come for the beers but food? I'll stick to Esplanade.\n",
      "--------------------------------------------------\n",
      ">> Similarity 0.998\n",
      "Nice classy environment. It was my first time here and sat in the bar/lounge which is kind of separated from the dining area. We tried their NB bar menu which consisted of snacks. Some notable mentions - beef slider, tourtière, sashimi, maitake mushroom. Also had the duck taco but was was really dry and I didn't even finish it - tasted gross. Overall, environment was good, but food was alright.\n",
      "--------------------------------------------------\n"
     ]
    }
   ],
   "source": [
    "\n",
    "# get top 3 matching reviews\n",
    "for n in sorted(cosines, key=cosines.get, reverse=True)[1:4]:\n",
    "    print('-'*50)\n",
    "    print('>> Similarity {:.3f}'.format(cosines[n]))\n",
    "    print(random_pos[n])\n",
    "print('-'*50)"
   ]
  },
  {
   "cell_type": "code",
   "execution_count": 598,
   "metadata": {},
   "outputs": [],
   "source": [
    "from sklearn.feature_extraction.text import CountVectorizer\n",
    "\n",
    "# Create a vectorizer object to generate term document counts\n",
    "cv_pos = CountVectorizer(stop_words=stop_words, min_df=10, max_df=0.5, \n",
    "                        ngram_range=(1,1), token_pattern='[a-z][a-z]+')\n",
    "\n",
    "cv_neg = CountVectorizer(stop_words=stop_words, min_df=10, max_df=0.5, \n",
    "                        ngram_range=(1,1), token_pattern='[a-z][a-z]+')\n",
    "\n",
    "# Get random subset of reviews\n",
    "np.random.seed(38)\n",
    "num_reviews = 15000\n",
    "cv_random_neg = np.random.choice(neg_reviews, size=num_reviews)\n",
    "cv_random_pos = np.random.choice(pos_reviews, size=num_reviews)\n",
    "\n",
    "# replace words from defined dictionary 'dicty'\n",
    "cv_random_neg = [replace_words(w, dicty) for w in cv_random_neg]\n",
    "cv_random_pos = [replace_words(w, dicty) for w in cv_random_pos]\n",
    "\n",
    "# Get the cv vectors\n",
    "cv_neg_vectors = cv_neg.fit_transform(cv_random_neg).transpose()\n",
    "cv_pos_vectors = cv_pos.fit_transform(cv_random_pos).transpose()"
   ]
  },
  {
   "cell_type": "code",
   "execution_count": 599,
   "metadata": {},
   "outputs": [],
   "source": [
    "# Convert sparse matrix of counts to a gensim corpus\n",
    "corpus_neg = matutils.Sparse2Corpus(cv_neg_vectors)\n",
    "corpus_pos = matutils.Sparse2Corpus(cv_pos_vectors)\n",
    "\n",
    "# save a mapping (dict) of row id to word (token) for later use by gensim \n",
    "id2word_cv_pos = dict((v, k) for k, v in cv_pos.vocabulary_.items())\n",
    "id2word_cv_neg = dict((v, k) for k, v in cv_neg.vocabulary_.items())"
   ]
  },
  {
   "cell_type": "code",
   "execution_count": 600,
   "metadata": {},
   "outputs": [
    {
     "name": "stdout",
     "output_type": "stream",
     "text": [
      "Wall time: 2min 26s\n"
     ]
    }
   ],
   "source": [
    "%%time\n",
    "# create lda multicore model\n",
    "lda_pos = models.ldamulticore.LdaMulticore(corpus=corpus_pos, num_topics=5, \n",
    "                                           id2word=id2word_cv_pos, passes=10, workers=15)\n",
    "lda_neg = models.ldamulticore.LdaMulticore(corpus=corpus_neg, num_topics=5, \n",
    "                                           id2word=id2word_cv_neg, passes=10, workers=15)"
   ]
  },
  {
   "cell_type": "code",
   "execution_count": 601,
   "metadata": {},
   "outputs": [
    {
     "name": "stdout",
     "output_type": "stream",
     "text": [
      "Top topics + words for POSITIVE reviews\n",
      "---------------------------------------\n",
      "[(0,\n",
      "  '0.023*\"place\" + 0.014*\"great\" + 0.011*\"bar\" + 0.010*\"service\" + '\n",
      "  '0.007*\"drinks\" + 0.007*\"night\" + 0.007*\"time\"'),\n",
      " (1,\n",
      "  '0.014*\"great\" + 0.013*\"brunch\" + 0.009*\"service\" + 0.009*\"place\" + '\n",
      "  '0.008*\"menu\" + 0.008*\"eggs\" + 0.007*\"order\"'),\n",
      " (2,\n",
      "  '0.018*\"chicken\" + 0.015*\"burger\" + 0.015*\"order\" + 0.010*\"fries\" + '\n",
      "  '0.008*\"time\" + 0.008*\"place\" + 0.008*\"sauce\"'),\n",
      " (3,\n",
      "  '0.013*\"service\" + 0.012*\"restaurant\" + 0.010*\"order\" + 0.009*\"great\" + '\n",
      "  '0.008*\"menu\" + 0.007*\"time\" + 0.006*\"experience\"'),\n",
      " (4,\n",
      "  '0.008*\"great\" + 0.007*\"delicious\" + 0.007*\"place\" + 0.006*\"service\" + '\n",
      "  '0.006*\"order\" + 0.006*\"pork\" + 0.006*\"nice\"')]\n",
      "\n",
      "Top topics + words for NEGATIVE reviews\n",
      "---------------------------------------\n",
      "[(0,\n",
      "  '0.023*\"service\" + 0.012*\"time\" + 0.012*\"place\" + 0.010*\"order\" + '\n",
      "  '0.008*\"bar\" + 0.007*\"table\" + 0.007*\"wait\"'),\n",
      " (1,\n",
      "  '0.014*\"order\" + 0.013*\"service\" + 0.013*\"place\" + 0.009*\"server\" + '\n",
      "  '0.008*\"time\" + 0.006*\"menu\" + 0.006*\"asked\"'),\n",
      " (2,\n",
      "  '0.015*\"place\" + 0.012*\"chicken\" + 0.011*\"order\" + 0.010*\"burger\" + '\n",
      "  '0.009*\"service\" + 0.007*\"fries\" + 0.006*\"restaurant\"'),\n",
      " (3,\n",
      "  '0.016*\"order\" + 0.011*\"table\" + 0.010*\"restaurant\" + 0.009*\"service\" + '\n",
      "  '0.008*\"place\" + 0.008*\"server\" + 0.008*\"minutes\"'),\n",
      " (4,\n",
      "  '0.017*\"service\" + 0.010*\"time\" + 0.008*\"order\" + 0.006*\"restaurant\" + '\n",
      "  '0.006*\"place\" + 0.006*\"chicken\" + 0.005*\"server\"')]\n"
     ]
    }
   ],
   "source": [
    "print('Top topics + words for POSITIVE reviews')\n",
    "print('-'*39)\n",
    "pprint(lda_pos.print_topics(num_words=7))\n",
    "\n",
    "print('\\nTop topics + words for NEGATIVE reviews')\n",
    "print('-'*39)\n",
    "pprint(lda_neg.print_topics(num_words=7))"
   ]
  },
  {
   "cell_type": "markdown",
   "metadata": {},
   "source": [
    "## Continuing with NMF"
   ]
  },
  {
   "cell_type": "code",
   "execution_count": 602,
   "metadata": {},
   "outputs": [
    {
     "name": "stdout",
     "output_type": "stream",
     "text": [
      "Top topics + words for POSITIVE reviews\n",
      "---------------------------------------\n",
      "Topic 0:   0.952*restaurant, 0.861*order, 0.772*menu, 0.666*dessert, 0.654*experience, 0.634*meal, 0.575*dinner, 0.553*salad, 0.534*time, 0.514*table\n",
      "Topic 1:   2.155*chicken, 0.928*fried, 0.582*ribs, 0.525*pork, 0.522*fries, 0.515*sauce, 0.511*waffles, 0.509*sandwich, 0.476*bbq, 0.393*brisket\n",
      "Topic 2:   3.006*burger, 0.809*fries, 0.292*rings, 0.279*cheese, 0.278*onion, 0.275*bun, 0.248*patty, 0.215*order, 0.208*poutine, 0.194*beef\n",
      "Topic 3:   1.472*place, 1.153*bar, 0.915*drinks, 0.879*beer, 0.696*wings, 0.593*nice, 0.590*night, 0.529*patio, 0.524*pretty, 0.518*drink\n",
      "Topic 4:   1.873*brunch, 1.032*eggs, 0.938*breakfast, 0.867*pancakes, 0.652*wait, 0.579*toast, 0.479*bacon, 0.476*coffee, 0.411*french, 0.394*benedict\n",
      "Topic 5:   2.455*great, 0.852*service, 0.627*atmosphere, 0.626*friendly, 0.614*staff, 0.576*amazing, 0.380*place, 0.354*excellent, 0.351*definitely, 0.308*recommend\n"
     ]
    }
   ],
   "source": [
    "# let's remind ourselves of the POSITIVE topics\n",
    "print('Top topics + words for POSITIVE reviews')\n",
    "print('-'*39)\n",
    "display_topics(nmf_pos, tfidf_pos.get_feature_names(), no_topics, no_top_words)"
   ]
  },
  {
   "cell_type": "code",
   "execution_count": 603,
   "metadata": {},
   "outputs": [
    {
     "name": "stdout",
     "output_type": "stream",
     "text": [
      "Positive Review #18127\n",
      "-------------------------\n",
      "I am in love with this place!! Started with a strawberry daiquiri and I must say it is the best one I have ever had. They have a huge patio that overlooks the beach which is perfect for a nice sunny day. The food was also delicious and the waitstaff was hilarious and efficient.  I would go everyday if I could.\n",
      "-------------------------\n",
      "Topic 3: 0.0224\n",
      "Topic 4: 0.0114\n",
      "Topic 5: 0.0104\n",
      "Topic 1: 0.0047\n",
      "Topic 0: 0.0027\n",
      "Topic 2: 0.0013\n"
     ]
    }
   ],
   "source": [
    "# we can investigate a random positive review and see how it's distributed across those topics\n",
    "review_num = np.random.randint(0, high=len(random_pos))\n",
    "print('Positive Review #%d' %review_num)\n",
    "print('-'*25)\n",
    "print(random_pos[review_num])\n",
    "print('-'*25)\n",
    "topic_dict = {}\n",
    "for ind, w in enumerate(W_pos[review_num]):\n",
    "    topic_dict[ind] = w\n",
    "for k in sorted(topic_dict, key=topic_dict.get, reverse=True):\n",
    "     print('Topic {}: {:.4f}'.format(k, topic_dict[k]))"
   ]
  },
  {
   "cell_type": "code",
   "execution_count": 604,
   "metadata": {},
   "outputs": [
    {
     "name": "stdout",
     "output_type": "stream",
     "text": [
      "Top topics + words for NEGATIVE reviews\n",
      "---------------------------------------\n",
      "Topic 0:   1.349*minutes, 1.172*table, 1.110*order, 0.955*server, 0.903*time, 0.854*asked, 0.844*took, 0.843*wait, 0.664*waited, 0.644*waitress\n",
      "Topic 1:   1.919*chicken, 0.683*order, 0.670*sandwich, 0.624*salad, 0.542*steak, 0.488*fries, 0.484*dry, 0.432*fried, 0.410*cheese, 0.407*tasted\n",
      "Topic 2:   1.650*place, 0.997*bar, 0.600*beer, 0.387*drinks, 0.371*people, 0.353*sports, 0.314*night, 0.298*patio, 0.297*decent, 0.294*drink\n",
      "Topic 3:   2.894*burger, 0.698*fries, 0.350*cheese, 0.294*patty, 0.266*bun, 0.256*rings, 0.255*dry, 0.254*onion, 0.220*order, 0.204*poutine\n",
      "Topic 4:   2.634*wings, 0.294*sauce, 0.275*beer, 0.243*wing, 0.239*order, 0.199*fries, 0.195*lb, 0.190*pound, 0.189*louis, 0.171*night\n",
      "Topic 5:   2.240*service, 0.927*slow, 0.723*terrible, 0.712*bad, 0.541*horrible, 0.514*great, 0.494*poor, 0.429*overpriced, 0.415*restaurant, 0.389*location\n"
     ]
    }
   ],
   "source": [
    "print('Top topics + words for NEGATIVE reviews')\n",
    "print('-'*39)\n",
    "display_topics(nmf_neg, tfidf_neg.get_feature_names(), no_topics, no_top_words)"
   ]
  },
  {
   "cell_type": "code",
   "execution_count": 605,
   "metadata": {},
   "outputs": [
    {
     "name": "stdout",
     "output_type": "stream",
     "text": [
      "Negative Review #3695\n",
      "-------------------------\n",
      "Without question one of the worst meals I've ever had.\r",
      "\r\n",
      "\r",
      "\r\n",
      "Packed full of people because it's the only restaurant in High Park, the Grenadier has really gone slack on their customer service / quality of food. \r",
      "\r\n",
      "\r",
      "\r\n",
      "50+ minute wait for food (breakfast food), non-apologetic wait staff, wrong orders, coffee that tasted like horse piss. \r",
      "\r\n",
      "\r",
      "\r\n",
      "negative 5 pats out of a possible positive 5 pats\r",
      "\r\n",
      "\r",
      "\r\n",
      "taptaptaptaptap\n",
      "-------------------------\n",
      "Topic 5: 0.0346\n",
      "Topic 0: 0.0228\n",
      "Topic 1: 0.0043\n",
      "Topic 2: 0.0016\n",
      "Topic 3: 0.0000\n",
      "Topic 4: 0.0000\n"
     ]
    }
   ],
   "source": [
    "# now investigate a random negative review and see how it's distributed across those topics\n",
    "review_num = np.random.randint(0, high=len(random_neg))\n",
    "print('Negative Review #%d' %review_num)\n",
    "print('-'*25)\n",
    "print(random_neg[review_num])\n",
    "print('-'*25)\n",
    "topic_dict = {}\n",
    "for ind, w in enumerate(W_neg[review_num]):\n",
    "    topic_dict[ind] = w\n",
    "for k in sorted(topic_dict, key=topic_dict.get, reverse=True):\n",
    "     print('Topic {}: {:.4f}'.format(k, topic_dict[k]))"
   ]
  },
  {
   "cell_type": "markdown",
   "metadata": {},
   "source": [
    "## Topic Modeling All Reviews \n",
    "At this point, we can see that our topics are relatively interpretable and match along with the reviews they're trying to categorize. Let's proceed with topic modeling all reviews and businesses using NMF."
   ]
  },
  {
   "cell_type": "code",
   "execution_count": 606,
   "metadata": {},
   "outputs": [
    {
     "name": "stdout",
     "output_type": "stream",
     "text": [
      "Postive Reviews:  26,480\n",
      "Negative Reviews:  5,134\n"
     ]
    }
   ],
   "source": [
    "print('Postive Reviews:  {:,}'.format(len(pos_reviews)))\n",
    "print('Negative Reviews:  {:,}'.format(len(neg_reviews)))"
   ]
  },
  {
   "cell_type": "code",
   "execution_count": 607,
   "metadata": {},
   "outputs": [
    {
     "name": "stdout",
     "output_type": "stream",
     "text": [
      "Wall time: 2.91 s\n"
     ]
    }
   ],
   "source": [
    "%%time\n",
    "# Create a vectorizer object to generate term document counts\n",
    "tfidf_pos = TfidfVectorizer(stop_words=stop_words, min_df=10, max_df=0.5, \n",
    "                        ngram_range=(1,1), token_pattern='[a-z][a-z]+')\n",
    "\n",
    "tfidf_neg = TfidfVectorizer(stop_words=stop_words, min_df=10, max_df=0.5, \n",
    "                        ngram_range=(1,1), token_pattern='[a-z][a-z]+')\n",
    "\n",
    "# replace words with defined dictionary 'dicty'\n",
    "pos_reviews = [replace_words(w, dicty) for w in pos_reviews]\n",
    "neg_reviews = [replace_words(w, dicty) for w in neg_reviews]\n",
    "\n",
    "# Get the vectors\n",
    "neg_vectors = tfidf_neg.fit_transform(neg_reviews)\n",
    "pos_vectors = tfidf_pos.fit_transform(pos_reviews)"
   ]
  },
  {
   "cell_type": "code",
   "execution_count": 608,
   "metadata": {},
   "outputs": [
    {
     "name": "stdout",
     "output_type": "stream",
     "text": [
      "Wall time: 4.65 s\n"
     ]
    }
   ],
   "source": [
    "%%time\n",
    "# NMF for all reviews\n",
    "from sklearn.decomposition import NMF\n",
    "\n",
    "# change num_topics\n",
    "num_topics = 6\n",
    "\n",
    "nmf_pos = NMF(n_components=num_topics)\n",
    "W_pos = nmf_pos.fit_transform(pos_vectors)\n",
    "H_pos = nmf_pos.components_\n",
    "\n",
    "nmf_neg = NMF(n_components=num_topics)\n",
    "W_neg = nmf_neg.fit_transform(neg_vectors)\n",
    "H_neg = nmf_neg.components_"
   ]
  },
  {
   "cell_type": "code",
   "execution_count": 609,
   "metadata": {},
   "outputs": [
    {
     "name": "stdout",
     "output_type": "stream",
     "text": [
      "Topics for POSITIVE reviews\n",
      "---------------------------------------\n",
      "Topic 0:   1.732*place, 1.319*bar, 1.166*beer, 0.941*drinks, 0.895*wings, 0.652*night, 0.636*pretty, 0.619*nice, 0.610*patio, 0.579*drink\n",
      "Topic 1:   2.511*great, 0.900*service, 0.654*atmosphere, 0.614*amazing, 0.610*staff, 0.572*friendly, 0.373*definitely, 0.368*place, 0.363*recommend, 0.350*excellent\n",
      "Topic 2:   3.279*burger, 0.910*fries, 0.326*rings, 0.309*onion, 0.281*patty, 0.270*cheese, 0.262*bun, 0.220*order, 0.191*beef, 0.174*potato\n",
      "Topic 3:   2.570*chicken, 1.077*fried, 0.729*ribs, 0.662*sandwich, 0.648*sauce, 0.621*fries, 0.612*pork, 0.602*waffles, 0.531*bbq, 0.463*brisket\n",
      "Topic 4:   1.939*brunch, 1.065*eggs, 0.983*breakfast, 0.931*pancakes, 0.672*wait, 0.597*toast, 0.511*coffee, 0.461*bacon, 0.445*french, 0.373*benedict\n",
      "Topic 5:   0.831*order, 0.824*restaurant, 0.670*menu, 0.568*meal, 0.565*dessert, 0.550*experience, 0.515*time, 0.503*salad, 0.498*table, 0.470*steak\n",
      "\n",
      "Topics for NEGATIVE reviews\n",
      "---------------------------------------\n",
      "Topic 0:   0.989*minutes, 0.916*table, 0.810*order, 0.708*server, 0.670*time, 0.638*asked, 0.616*wait, 0.599*took, 0.507*waited, 0.489*waitress\n",
      "Topic 1:   1.350*chicken, 0.533*order, 0.479*sandwich, 0.474*salad, 0.376*fries, 0.371*steak, 0.352*cheese, 0.334*dry, 0.311*tasted, 0.307*fried\n",
      "Topic 2:   1.264*place, 0.705*bar, 0.459*beer, 0.316*drinks, 0.289*people, 0.270*night, 0.251*patio, 0.233*drink, 0.223*decent, 0.219*sports\n",
      "Topic 3:   2.060*burger, 0.531*fries, 0.232*cheese, 0.208*patty, 0.201*bun, 0.192*dry, 0.167*onion, 0.155*rings, 0.145*bacon, 0.138*order\n",
      "Topic 4:   1.968*wings, 0.239*sauce, 0.200*wing, 0.167*louis, 0.161*beer, 0.149*order, 0.148*st, 0.146*fries, 0.141*dry, 0.126*night\n",
      "Topic 5:   1.741*service, 0.665*slow, 0.560*bad, 0.539*terrible, 0.465*horrible, 0.399*poor, 0.377*great, 0.328*restaurant, 0.274*worst, 0.266*location\n"
     ]
    }
   ],
   "source": [
    "no_topics = num_topics\n",
    "no_top_words = 10\n",
    "\n",
    "print('Topics for POSITIVE reviews')\n",
    "print('-'*39)\n",
    "display_topics(nmf_pos, tfidf_pos.get_feature_names(), no_topics, no_top_words)\n",
    "\n",
    "print('\\nTopics for NEGATIVE reviews')\n",
    "print('-'*39)\n",
    "display_topics(nmf_neg, tfidf_neg.get_feature_names(), no_topics, no_top_words)"
   ]
  },
  {
   "cell_type": "markdown",
   "metadata": {},
   "source": [
    "# ONLY RUN FOR THE CITY+CUISINE APPLICABLE TO YOURS"
   ]
  },
  {
   "cell_type": "code",
   "execution_count": 610,
   "metadata": {},
   "outputs": [],
   "source": [
    "# TORONTO AMERICAN TOPICS\n",
    "\n",
    "# create topic dictionaries to summarize the topic meanings\n",
    "pos_topics = {0:'Bar/Beer', 1:'Customer Service/Atmosphere', 2:'Burger/Fries', \n",
    "              3:'Chicken/Ribs/Sandwich', 4:'Brunch/Eggs', 5:'Order/Waiting Time'}\n",
    "\n",
    "neg_topics = {0:'Waiting Time', 1:'Chicken/Sandwich', 2:'Beer/Bar/Drinks', \n",
    "              3:'BUrger/Fries', 4:'Wings/Sauce', 5:'Customer Service'}\n",
    "\n",
    "t_amer_pos_topics = pos_topics\n",
    "t_amer_neg_topics = neg_topics"
   ]
  },
  {
   "cell_type": "code",
   "execution_count": null,
   "metadata": {},
   "outputs": [],
   "source": [
    "# CALGARY ITALIAN TOPICS\n",
    "\n",
    "# create topic dictionaries to summarize the topic meanings\n",
    "pos_topics = {0:'', 1:'', 2:'', \n",
    "              3:'', 4:'', 5:''}\n",
    "\n",
    "neg_topics = {0:'', 1:'', 2:'', \n",
    "              3:'', 4:'', 5:''}\n",
    "\n",
    "c_ita_pos_topics = pos_topics\n",
    "c_ita_neg_topics = neg_topics"
   ]
  },
  {
   "cell_type": "code",
   "execution_count": 530,
   "metadata": {},
   "outputs": [],
   "source": [
    "# CALGARY CHINESE TOPICS\n",
    "\n",
    "# create topic dictionaries to summarize the topic meanings\n",
    "pos_topics = {0:'Soup/Pork', 1:'Dim Sum', 2:'Customer Service', \n",
    "              3:'Ginger Beef/Chicken', 4:'Pad Thai/Curry', 5:'Bubble Tea'}\n",
    "\n",
    "neg_topics = {0:'Buffet/Atmosphere', 1:'Chicken/Soup', 2:'Dim Sum', \n",
    "              3:'Order/Waiting Time', 4:'Ginger Beef/Pork', 5:'Customer Service'}\n",
    "\n",
    "c_chi_pos_topics = pos_topics\n",
    "c_chi_neg_topics = neg_topics"
   ]
  },
  {
   "cell_type": "code",
   "execution_count": 476,
   "metadata": {},
   "outputs": [],
   "source": [
    "# TORONTO ITALIAN TOPICS\n",
    "\n",
    "# create topic dictionaries to summarize the topic meanings\n",
    "pos_topics = {0:'Order/Waiting Time', 1:'Pizza', 2:'Customer Service', \n",
    "              3:'Pasta', 4:'Atmosphere'}\n",
    "\n",
    "neg_topics = {0:'Customer Service', 1:'Pizza', 2:'Pasta', \n",
    "              3:'Order/Waiting Time', 4:'Atmosphere'}\n",
    "\n",
    "t_ita_pos_topics = pos_topics\n",
    "t_ita_neg_topics = neg_topics"
   ]
  },
  {
   "cell_type": "code",
   "execution_count": 363,
   "metadata": {},
   "outputs": [],
   "source": [
    "# TORONTO CHINESE TOPICS\n",
    "\n",
    "# create topic dictionaries to summarize the topic meanings\n",
    "pos_topics = {0:'Waiting Time', 1:'Dim Sum', 2:'Dumplings', \n",
    "              3:'Noodles/Soup', 4:'Chicken Rice', 5:'Customer Service'}\n",
    "\n",
    "neg_topics = {0:'Waiting Time', 1:'Dim Sum', 2:'Customer Service', \n",
    "              3:'Dumplings', 4:'Chicken Rice', 5:'Noodles/Soup'}\n",
    "\n",
    "t_chi_pos_topics = pos_topics\n",
    "t_chi_neg_topics = neg_topics"
   ]
  },
  {
   "cell_type": "code",
   "execution_count": 295,
   "metadata": {},
   "outputs": [],
   "source": [
    "# LAS VEGAS CHINESE TOPICS\n",
    "\n",
    "# create topic dictionaries to summarize the topic meanings\n",
    "pos_topics = {0:'Chicken Rice/Shrimp', 1:'Dim Sum', 2:'Customer Service', \n",
    "              3:'Noodles/Soup', 4:'Waiting Time', 5:'Pad Thai/Curry'}\n",
    "\n",
    "neg_topics = {0:'Price', 1:'Chicken Rice', 2:'Dim Sum', \n",
    "              3:'Waiting Time', 4:'Soup/Noodle', 5:'Customer Service'}\n",
    "\n",
    "v_chi_pos_topics = pos_topics\n",
    "v_chi_neg_topics = neg_topics"
   ]
  },
  {
   "cell_type": "code",
   "execution_count": 129,
   "metadata": {},
   "outputs": [],
   "source": [
    "# LAS VEGAS AMERICAN TOPICS\n",
    "\n",
    "# create topic dictionaries to summarize the topic meanings\n",
    "pos_topics = {0:'Waiting Time', 1:'Burger/Fries/Shake', 2:'Customer Service', \n",
    "              3:'Breakfast/Eggs/Pancakes', 4:'Chicken/Waffles', 5:'Atmosphere'}\n",
    "\n",
    "neg_topics = {0:'Atmosphere', 1:'Burger/Fries', 2:'Waiting Time', \n",
    "              3:'Chicken/Steak', 4:'Customer Service', 5:'Buffet/Price'}\n",
    "\n",
    "v_amer_pos_topics = pos_topics\n",
    "v_amer_neg_topics = neg_topics"
   ]
  },
  {
   "cell_type": "code",
   "execution_count": 130,
   "metadata": {},
   "outputs": [],
   "source": [
    "# LAS VEGAS ITALIAN TOPICS\n",
    "\n",
    "# create topic dictionaries to summarize the topic meanings\n",
    "pos_topics = {0:'Waiting Time', 1:'Pizza', 2:'Price', \n",
    "              3:'Pasta/Chicken', 4:'Customer Service', 5:'Atmosphere'}\n",
    "\n",
    "neg_topics = {0:'Waiting Time', 1:'Pizza', 2:'Delivery/Reservation', \n",
    "              3:'Chicken/Pasta', 4:'Customer Service', 5:'Atmosphere'}\n",
    "\n",
    "v_ita_pos_topics = pos_topics\n",
    "v_ita_neg_topics = neg_topics"
   ]
  },
  {
   "cell_type": "code",
   "execution_count": null,
   "metadata": {},
   "outputs": [],
   "source": [
    "# CALGARY AMERICAN TOPICS\n",
    "\n",
    "# create topic dictionaries to summarize the topic meanings\n",
    "pos_topics = {0:'', 1:'', 2:'', \n",
    "              3:'', 4:'', 5:''}\n",
    "\n",
    "neg_topics = {0:'', 1:'', 2:'', \n",
    "              3:'', 4:'', 5:''}\n",
    "\n",
    "c_amer_pos_topics = pos_topics\n",
    "c_amer_neg_topics = neg_topics"
   ]
  },
  {
   "cell_type": "code",
   "execution_count": 531,
   "metadata": {
    "scrolled": true
   },
   "outputs": [
    {
     "name": "stdout",
     "output_type": "stream",
     "text": [
      "Topic Dictionaries for POSITIVE reviews\n",
      "---------------------------------------\n"
     ]
    },
    {
     "data": {
      "text/plain": [
       "{0: 'Soup/Pork',\n",
       " 1: 'Dim Sum',\n",
       " 2: 'Customer Service',\n",
       " 3: 'Ginger Beef/Chicken',\n",
       " 4: 'Pad Thai/Curry',\n",
       " 5: 'Bubble Tea'}"
      ]
     },
     "execution_count": 531,
     "metadata": {},
     "output_type": "execute_result"
    }
   ],
   "source": [
    "print('Topic Dictionaries for POSITIVE reviews')\n",
    "print('-'*39)\n",
    "pos_topics\n",
    "\n"
   ]
  },
  {
   "cell_type": "code",
   "execution_count": 532,
   "metadata": {},
   "outputs": [
    {
     "name": "stdout",
     "output_type": "stream",
     "text": [
      "Topic Dictionaries for NEGATIVE reviews\n",
      "---------------------------------------\n"
     ]
    },
    {
     "data": {
      "text/plain": [
       "{0: 'Buffet/Atmosphere',\n",
       " 1: 'Chicken/Soup',\n",
       " 2: 'Dim Sum',\n",
       " 3: 'Order/Waiting Time',\n",
       " 4: 'Ginger Beef/Pork',\n",
       " 5: 'Customer Service'}"
      ]
     },
     "execution_count": 532,
     "metadata": {},
     "output_type": "execute_result"
    }
   ],
   "source": [
    "print('Topic Dictionaries for NEGATIVE reviews')\n",
    "print('-'*39)\n",
    "neg_topics"
   ]
  },
  {
   "cell_type": "markdown",
   "metadata": {},
   "source": [
    "## Adding Topic Weights to Pandas DataFrame"
   ]
  },
  {
   "cell_type": "code",
   "execution_count": 533,
   "metadata": {},
   "outputs": [],
   "source": [
    "# we create dataframes for positive & negative reviews that we can\n",
    "# later add topic information to\n",
    "df_pos = reviews_df[['business_id', 'stars', 'text', 'review_length']][(reviews_df.city == 'Calgary') & (reviews_df.cuisine == 'italian') &\\\n",
    "                              (reviews_df.label == 1)].reset_index()\n",
    "df_neg = reviews_df[['business_id', 'stars', 'text', 'review_length']][(reviews_df.city == 'Calgary') & (reviews_df.cuisine == 'italian') &\\\n",
    "                              (reviews_df.label == -1)].reset_index()\n",
    "df_pos.drop(labels='index', axis=1, inplace=True)\n",
    "df_neg.drop(labels='index', axis=1, inplace=True)"
   ]
  },
  {
   "cell_type": "code",
   "execution_count": 534,
   "metadata": {},
   "outputs": [
    {
     "name": "stdout",
     "output_type": "stream",
     "text": [
      "Topic weights :  [0.02613094 0.000437   0.08457819 0.0947894  0.         0.        ]\n",
      "Sum of weights:  0.205935531591685\n"
     ]
    }
   ],
   "source": [
    "print('Topic weights : ', W_pos[0])\n",
    "print('Sum of weights: ', W_pos[0].sum())"
   ]
  },
  {
   "cell_type": "code",
   "execution_count": 535,
   "metadata": {},
   "outputs": [
    {
     "name": "stdout",
     "output_type": "stream",
     "text": [
      "Normalized Topic weights :  [[0.12688895 0.00212201 0.41070225 0.46028679 0.         0.        ]]\n",
      "Sum of normalized weights:  1.0\n"
     ]
    }
   ],
   "source": [
    "from sklearn.preprocessing import normalize\n",
    "print('Normalized Topic weights : ', normalize(W_pos[0].reshape(1,-1), norm='l1'))\n",
    "print('Sum of normalized weights: ', normalize(W_pos[0].reshape(1,-1), norm='l1').sum())"
   ]
  },
  {
   "cell_type": "code",
   "execution_count": 536,
   "metadata": {},
   "outputs": [],
   "source": [
    "# add normalized topic weights to each review\n",
    "df_pos = pd.concat([df_pos, pd.DataFrame(normalize(W_pos, norm='l1'))], axis=1)\n",
    "df_neg = pd.concat([df_neg, pd.DataFrame(normalize(W_neg, norm='l1'))], axis=1)"
   ]
  },
  {
   "cell_type": "code",
   "execution_count": 537,
   "metadata": {},
   "outputs": [
    {
     "data": {
      "text/html": [
       "<div>\n",
       "<style scoped>\n",
       "    .dataframe tbody tr th:only-of-type {\n",
       "        vertical-align: middle;\n",
       "    }\n",
       "\n",
       "    .dataframe tbody tr th {\n",
       "        vertical-align: top;\n",
       "    }\n",
       "\n",
       "    .dataframe thead th {\n",
       "        text-align: right;\n",
       "    }\n",
       "</style>\n",
       "<table border=\"1\" class=\"dataframe\">\n",
       "  <thead>\n",
       "    <tr style=\"text-align: right;\">\n",
       "      <th></th>\n",
       "      <th>business_id</th>\n",
       "      <th>stars</th>\n",
       "      <th>text</th>\n",
       "      <th>review_length</th>\n",
       "      <th>0</th>\n",
       "      <th>1</th>\n",
       "      <th>2</th>\n",
       "      <th>3</th>\n",
       "      <th>4</th>\n",
       "      <th>5</th>\n",
       "    </tr>\n",
       "  </thead>\n",
       "  <tbody>\n",
       "    <tr>\n",
       "      <th>0</th>\n",
       "      <td>QiRWdm4GkmtEMO_npOyBjA</td>\n",
       "      <td>2</td>\n",
       "      <td>We went on Boxing Day, they were busy and the ...</td>\n",
       "      <td>437</td>\n",
       "      <td>0.196476</td>\n",
       "      <td>0.046365</td>\n",
       "      <td>0.058278</td>\n",
       "      <td>0.088875</td>\n",
       "      <td>0.000000</td>\n",
       "      <td>0.610006</td>\n",
       "    </tr>\n",
       "    <tr>\n",
       "      <th>1</th>\n",
       "      <td>jg37O7ANF7hqggS6bxUpcQ</td>\n",
       "      <td>1</td>\n",
       "      <td>Bland soup and terrible service. I don't know ...</td>\n",
       "      <td>131</td>\n",
       "      <td>0.288655</td>\n",
       "      <td>0.219540</td>\n",
       "      <td>0.000000</td>\n",
       "      <td>0.000000</td>\n",
       "      <td>0.000000</td>\n",
       "      <td>0.491805</td>\n",
       "    </tr>\n",
       "    <tr>\n",
       "      <th>2</th>\n",
       "      <td>jg37O7ANF7hqggS6bxUpcQ</td>\n",
       "      <td>2</td>\n",
       "      <td>Terrible service , the servers were not friend...</td>\n",
       "      <td>288</td>\n",
       "      <td>0.000000</td>\n",
       "      <td>0.167955</td>\n",
       "      <td>0.000000</td>\n",
       "      <td>0.266047</td>\n",
       "      <td>0.339004</td>\n",
       "      <td>0.226993</td>\n",
       "    </tr>\n",
       "    <tr>\n",
       "      <th>3</th>\n",
       "      <td>jg37O7ANF7hqggS6bxUpcQ</td>\n",
       "      <td>2</td>\n",
       "      <td>This place is not as good as other viet restau...</td>\n",
       "      <td>110</td>\n",
       "      <td>0.939952</td>\n",
       "      <td>0.000000</td>\n",
       "      <td>0.000000</td>\n",
       "      <td>0.000000</td>\n",
       "      <td>0.000000</td>\n",
       "      <td>0.060048</td>\n",
       "    </tr>\n",
       "    <tr>\n",
       "      <th>4</th>\n",
       "      <td>jg37O7ANF7hqggS6bxUpcQ</td>\n",
       "      <td>5</td>\n",
       "      <td>Savory Pho with Chicken, so good!!!!</td>\n",
       "      <td>36</td>\n",
       "      <td>0.000000</td>\n",
       "      <td>1.000000</td>\n",
       "      <td>0.000000</td>\n",
       "      <td>0.000000</td>\n",
       "      <td>0.000000</td>\n",
       "      <td>0.000000</td>\n",
       "    </tr>\n",
       "  </tbody>\n",
       "</table>\n",
       "</div>"
      ],
      "text/plain": [
       "              business_id  stars  \\\n",
       "0  QiRWdm4GkmtEMO_npOyBjA      2   \n",
       "1  jg37O7ANF7hqggS6bxUpcQ      1   \n",
       "2  jg37O7ANF7hqggS6bxUpcQ      2   \n",
       "3  jg37O7ANF7hqggS6bxUpcQ      2   \n",
       "4  jg37O7ANF7hqggS6bxUpcQ      5   \n",
       "\n",
       "                                                text  review_length         0  \\\n",
       "0  We went on Boxing Day, they were busy and the ...            437  0.196476   \n",
       "1  Bland soup and terrible service. I don't know ...            131  0.288655   \n",
       "2  Terrible service , the servers were not friend...            288  0.000000   \n",
       "3  This place is not as good as other viet restau...            110  0.939952   \n",
       "4               Savory Pho with Chicken, so good!!!!             36  0.000000   \n",
       "\n",
       "          1         2         3         4         5  \n",
       "0  0.046365  0.058278  0.088875  0.000000  0.610006  \n",
       "1  0.219540  0.000000  0.000000  0.000000  0.491805  \n",
       "2  0.167955  0.000000  0.266047  0.339004  0.226993  \n",
       "3  0.000000  0.000000  0.000000  0.000000  0.060048  \n",
       "4  1.000000  0.000000  0.000000  0.000000  0.000000  "
      ]
     },
     "execution_count": 537,
     "metadata": {},
     "output_type": "execute_result"
    }
   ],
   "source": [
    "# peek into a dataframe to ensure it worked right\n",
    "df_neg.head()"
   ]
  },
  {
   "cell_type": "code",
   "execution_count": 538,
   "metadata": {},
   "outputs": [],
   "source": [
    "# group by business_id and apply mean/count functions to columns\n",
    "df_pos_bsns = df_pos.groupby('business_id').agg({'stars':'mean', 'text':'count',\n",
    "                                                 'review_length':'mean',0:'mean', \n",
    "                                                 1:'mean', 2:'mean', 3:'mean',\n",
    "                                                 4:'mean',5:'mean'}).reset_index()\n",
    "df_neg_bsns = df_neg.groupby('business_id').agg({'stars':'mean', 'text':'count',\n",
    "                                                 'review_length':'mean',0:'mean', \n",
    "                                                 1:'mean', 2:'mean', 3:'mean',\n",
    "                                                 4:'mean',5:'mean'}).reset_index()"
   ]
  },
  {
   "cell_type": "code",
   "execution_count": 539,
   "metadata": {},
   "outputs": [
    {
     "data": {
      "text/html": [
       "<div>\n",
       "<style scoped>\n",
       "    .dataframe tbody tr th:only-of-type {\n",
       "        vertical-align: middle;\n",
       "    }\n",
       "\n",
       "    .dataframe tbody tr th {\n",
       "        vertical-align: top;\n",
       "    }\n",
       "\n",
       "    .dataframe thead th {\n",
       "        text-align: right;\n",
       "    }\n",
       "</style>\n",
       "<table border=\"1\" class=\"dataframe\">\n",
       "  <thead>\n",
       "    <tr style=\"text-align: right;\">\n",
       "      <th></th>\n",
       "      <th>business_id</th>\n",
       "      <th>stars</th>\n",
       "      <th>text</th>\n",
       "      <th>review_length</th>\n",
       "      <th>0</th>\n",
       "      <th>1</th>\n",
       "      <th>2</th>\n",
       "      <th>3</th>\n",
       "      <th>4</th>\n",
       "      <th>5</th>\n",
       "    </tr>\n",
       "  </thead>\n",
       "  <tbody>\n",
       "    <tr>\n",
       "      <th>0</th>\n",
       "      <td>-r8SvItXXG6_T3mP5GXRAw</td>\n",
       "      <td>4.625000</td>\n",
       "      <td>8</td>\n",
       "      <td>712.875000</td>\n",
       "      <td>0.191907</td>\n",
       "      <td>0.017617</td>\n",
       "      <td>0.478255</td>\n",
       "      <td>0.162229</td>\n",
       "      <td>0.069903</td>\n",
       "      <td>0.080089</td>\n",
       "    </tr>\n",
       "    <tr>\n",
       "      <th>1</th>\n",
       "      <td>0gVPTer9PnXRmSjuHt-XgQ</td>\n",
       "      <td>3.888889</td>\n",
       "      <td>9</td>\n",
       "      <td>944.222222</td>\n",
       "      <td>0.187242</td>\n",
       "      <td>0.007360</td>\n",
       "      <td>0.166207</td>\n",
       "      <td>0.594204</td>\n",
       "      <td>0.030508</td>\n",
       "      <td>0.014479</td>\n",
       "    </tr>\n",
       "    <tr>\n",
       "      <th>2</th>\n",
       "      <td>1jxxXQYOdP91LkF2Mz9Q9Q</td>\n",
       "      <td>4.000000</td>\n",
       "      <td>4</td>\n",
       "      <td>423.500000</td>\n",
       "      <td>0.265271</td>\n",
       "      <td>0.000000</td>\n",
       "      <td>0.052772</td>\n",
       "      <td>0.272512</td>\n",
       "      <td>0.079026</td>\n",
       "      <td>0.330420</td>\n",
       "    </tr>\n",
       "    <tr>\n",
       "      <th>3</th>\n",
       "      <td>1oJG7PcNNNfazaSLOxwmmQ</td>\n",
       "      <td>4.500000</td>\n",
       "      <td>2</td>\n",
       "      <td>404.500000</td>\n",
       "      <td>0.410481</td>\n",
       "      <td>0.000000</td>\n",
       "      <td>0.228052</td>\n",
       "      <td>0.253979</td>\n",
       "      <td>0.107488</td>\n",
       "      <td>0.000000</td>\n",
       "    </tr>\n",
       "    <tr>\n",
       "      <th>4</th>\n",
       "      <td>2-l_q7HBRak5i6X46l0OHw</td>\n",
       "      <td>3.388889</td>\n",
       "      <td>18</td>\n",
       "      <td>976.722222</td>\n",
       "      <td>0.137392</td>\n",
       "      <td>0.016383</td>\n",
       "      <td>0.195692</td>\n",
       "      <td>0.018200</td>\n",
       "      <td>0.038069</td>\n",
       "      <td>0.594265</td>\n",
       "    </tr>\n",
       "  </tbody>\n",
       "</table>\n",
       "</div>"
      ],
      "text/plain": [
       "              business_id     stars  text  review_length         0         1  \\\n",
       "0  -r8SvItXXG6_T3mP5GXRAw  4.625000     8     712.875000  0.191907  0.017617   \n",
       "1  0gVPTer9PnXRmSjuHt-XgQ  3.888889     9     944.222222  0.187242  0.007360   \n",
       "2  1jxxXQYOdP91LkF2Mz9Q9Q  4.000000     4     423.500000  0.265271  0.000000   \n",
       "3  1oJG7PcNNNfazaSLOxwmmQ  4.500000     2     404.500000  0.410481  0.000000   \n",
       "4  2-l_q7HBRak5i6X46l0OHw  3.388889    18     976.722222  0.137392  0.016383   \n",
       "\n",
       "          2         3         4         5  \n",
       "0  0.478255  0.162229  0.069903  0.080089  \n",
       "1  0.166207  0.594204  0.030508  0.014479  \n",
       "2  0.052772  0.272512  0.079026  0.330420  \n",
       "3  0.228052  0.253979  0.107488  0.000000  \n",
       "4  0.195692  0.018200  0.038069  0.594265  "
      ]
     },
     "execution_count": 539,
     "metadata": {},
     "output_type": "execute_result"
    }
   ],
   "source": [
    "df_pos_bsns.head()"
   ]
  },
  {
   "cell_type": "code",
   "execution_count": 540,
   "metadata": {
    "scrolled": true
   },
   "outputs": [
    {
     "data": {
      "text/html": [
       "<div>\n",
       "<style scoped>\n",
       "    .dataframe tbody tr th:only-of-type {\n",
       "        vertical-align: middle;\n",
       "    }\n",
       "\n",
       "    .dataframe tbody tr th {\n",
       "        vertical-align: top;\n",
       "    }\n",
       "\n",
       "    .dataframe thead th {\n",
       "        text-align: right;\n",
       "    }\n",
       "</style>\n",
       "<table border=\"1\" class=\"dataframe\">\n",
       "  <thead>\n",
       "    <tr style=\"text-align: right;\">\n",
       "      <th></th>\n",
       "      <th>business_id</th>\n",
       "      <th>stars</th>\n",
       "      <th>text</th>\n",
       "      <th>review_length</th>\n",
       "      <th>0</th>\n",
       "      <th>1</th>\n",
       "      <th>2</th>\n",
       "      <th>3</th>\n",
       "      <th>4</th>\n",
       "      <th>5</th>\n",
       "    </tr>\n",
       "  </thead>\n",
       "  <tbody>\n",
       "    <tr>\n",
       "      <th>0</th>\n",
       "      <td>0gVPTer9PnXRmSjuHt-XgQ</td>\n",
       "      <td>2.000000</td>\n",
       "      <td>1</td>\n",
       "      <td>704.000000</td>\n",
       "      <td>0.384271</td>\n",
       "      <td>0.177961</td>\n",
       "      <td>0.021335</td>\n",
       "      <td>0.021309</td>\n",
       "      <td>0.395124</td>\n",
       "      <td>0.000000</td>\n",
       "    </tr>\n",
       "    <tr>\n",
       "      <th>1</th>\n",
       "      <td>1jxxXQYOdP91LkF2Mz9Q9Q</td>\n",
       "      <td>1.000000</td>\n",
       "      <td>3</td>\n",
       "      <td>248.000000</td>\n",
       "      <td>0.275628</td>\n",
       "      <td>0.040522</td>\n",
       "      <td>0.000771</td>\n",
       "      <td>0.507829</td>\n",
       "      <td>0.080587</td>\n",
       "      <td>0.094664</td>\n",
       "    </tr>\n",
       "    <tr>\n",
       "      <th>2</th>\n",
       "      <td>2-l_q7HBRak5i6X46l0OHw</td>\n",
       "      <td>2.000000</td>\n",
       "      <td>3</td>\n",
       "      <td>424.000000</td>\n",
       "      <td>0.189803</td>\n",
       "      <td>0.000000</td>\n",
       "      <td>0.002240</td>\n",
       "      <td>0.571950</td>\n",
       "      <td>0.005816</td>\n",
       "      <td>0.230191</td>\n",
       "    </tr>\n",
       "    <tr>\n",
       "      <th>3</th>\n",
       "      <td>21aDJ_xLGcEDkcyQRexlOQ</td>\n",
       "      <td>1.833333</td>\n",
       "      <td>6</td>\n",
       "      <td>491.166667</td>\n",
       "      <td>0.198490</td>\n",
       "      <td>0.076140</td>\n",
       "      <td>0.034792</td>\n",
       "      <td>0.313335</td>\n",
       "      <td>0.322016</td>\n",
       "      <td>0.055227</td>\n",
       "    </tr>\n",
       "    <tr>\n",
       "      <th>4</th>\n",
       "      <td>2M3tt_0FfsDiy-DDWIH4dg</td>\n",
       "      <td>1.000000</td>\n",
       "      <td>1</td>\n",
       "      <td>197.000000</td>\n",
       "      <td>0.061496</td>\n",
       "      <td>0.000000</td>\n",
       "      <td>0.124043</td>\n",
       "      <td>0.673644</td>\n",
       "      <td>0.037946</td>\n",
       "      <td>0.102871</td>\n",
       "    </tr>\n",
       "  </tbody>\n",
       "</table>\n",
       "</div>"
      ],
      "text/plain": [
       "              business_id     stars  text  review_length         0         1  \\\n",
       "0  0gVPTer9PnXRmSjuHt-XgQ  2.000000     1     704.000000  0.384271  0.177961   \n",
       "1  1jxxXQYOdP91LkF2Mz9Q9Q  1.000000     3     248.000000  0.275628  0.040522   \n",
       "2  2-l_q7HBRak5i6X46l0OHw  2.000000     3     424.000000  0.189803  0.000000   \n",
       "3  21aDJ_xLGcEDkcyQRexlOQ  1.833333     6     491.166667  0.198490  0.076140   \n",
       "4  2M3tt_0FfsDiy-DDWIH4dg  1.000000     1     197.000000  0.061496  0.000000   \n",
       "\n",
       "          2         3         4         5  \n",
       "0  0.021335  0.021309  0.395124  0.000000  \n",
       "1  0.000771  0.507829  0.080587  0.094664  \n",
       "2  0.002240  0.571950  0.005816  0.230191  \n",
       "3  0.034792  0.313335  0.322016  0.055227  \n",
       "4  0.124043  0.673644  0.037946  0.102871  "
      ]
     },
     "execution_count": 540,
     "metadata": {},
     "output_type": "execute_result"
    }
   ],
   "source": [
    "df_neg_bsns.head()"
   ]
  },
  {
   "cell_type": "markdown",
   "metadata": {},
   "source": [
    "## Adding in Business Information "
   ]
  },
  {
   "cell_type": "code",
   "execution_count": 541,
   "metadata": {},
   "outputs": [
    {
     "data": {
      "text/plain": [
       "0      Westside\n",
       "1     Southeast\n",
       "2       Sunrise\n",
       "3      Westside\n",
       "4    Centennial\n",
       "Name: neighborhood, dtype: object"
      ]
     },
     "execution_count": 541,
     "metadata": {},
     "output_type": "execute_result"
    }
   ],
   "source": [
    "restaurants_df['neighborhood'].head()"
   ]
  },
  {
   "cell_type": "code",
   "execution_count": 542,
   "metadata": {},
   "outputs": [],
   "source": [
    "# merge business name/city with topic data\n",
    "df_pos_tot = df_pos_bsns.merge(restaurants_df[['business_id', 'name', 'city','neighborhood','latitude','longitude','cuisine','RestaurantsPriceRange2']], left_on='business_id', \n",
    "                               right_on='business_id')[['business_id', 'name', 'city','neighborhood','latitude','longitude','cuisine','RestaurantsPriceRange2', 'stars', 0, 1, 2, 3, 4,5]]\n",
    "\n",
    "df_neg_tot = df_neg_bsns.merge(restaurants_df[['business_id', 'name', 'city','neighborhood','latitude','longitude','cuisine','RestaurantsPriceRange2']], left_on='business_id', \n",
    "                               right_on='business_id')[['business_id', 'name', 'city','neighborhood','latitude','longitude','cuisine','RestaurantsPriceRange2', 'stars', 0, 1, 2, 3, 4,5]]"
   ]
  },
  {
   "cell_type": "code",
   "execution_count": 543,
   "metadata": {},
   "outputs": [
    {
     "data": {
      "text/html": [
       "<div>\n",
       "<style scoped>\n",
       "    .dataframe tbody tr th:only-of-type {\n",
       "        vertical-align: middle;\n",
       "    }\n",
       "\n",
       "    .dataframe tbody tr th {\n",
       "        vertical-align: top;\n",
       "    }\n",
       "\n",
       "    .dataframe thead th {\n",
       "        text-align: right;\n",
       "    }\n",
       "</style>\n",
       "<table border=\"1\" class=\"dataframe\">\n",
       "  <thead>\n",
       "    <tr style=\"text-align: right;\">\n",
       "      <th></th>\n",
       "      <th>business_id</th>\n",
       "      <th>stars</th>\n",
       "      <th>text</th>\n",
       "      <th>review_length</th>\n",
       "      <th>0</th>\n",
       "      <th>1</th>\n",
       "      <th>2</th>\n",
       "      <th>3</th>\n",
       "      <th>4</th>\n",
       "      <th>5</th>\n",
       "    </tr>\n",
       "  </thead>\n",
       "  <tbody>\n",
       "    <tr>\n",
       "      <th>156</th>\n",
       "      <td>jg37O7ANF7hqggS6bxUpcQ</td>\n",
       "      <td>3.861111</td>\n",
       "      <td>36</td>\n",
       "      <td>622.833333</td>\n",
       "      <td>0.197244</td>\n",
       "      <td>0.020252</td>\n",
       "      <td>0.490782</td>\n",
       "      <td>0.107854</td>\n",
       "      <td>0.098136</td>\n",
       "      <td>0.085733</td>\n",
       "    </tr>\n",
       "  </tbody>\n",
       "</table>\n",
       "</div>"
      ],
      "text/plain": [
       "                business_id     stars  text  review_length         0  \\\n",
       "156  jg37O7ANF7hqggS6bxUpcQ  3.861111    36     622.833333  0.197244   \n",
       "\n",
       "            1         2         3         4         5  \n",
       "156  0.020252  0.490782  0.107854  0.098136  0.085733  "
      ]
     },
     "execution_count": 543,
     "metadata": {},
     "output_type": "execute_result"
    }
   ],
   "source": [
    "df_pos_bsns[df_pos_bsns.business_id == 'jg37O7ANF7hqggS6bxUpcQ']"
   ]
  },
  {
   "cell_type": "code",
   "execution_count": 544,
   "metadata": {
    "scrolled": true
   },
   "outputs": [
    {
     "data": {
      "text/html": [
       "<div>\n",
       "<style scoped>\n",
       "    .dataframe tbody tr th:only-of-type {\n",
       "        vertical-align: middle;\n",
       "    }\n",
       "\n",
       "    .dataframe tbody tr th {\n",
       "        vertical-align: top;\n",
       "    }\n",
       "\n",
       "    .dataframe thead th {\n",
       "        text-align: right;\n",
       "    }\n",
       "</style>\n",
       "<table border=\"1\" class=\"dataframe\">\n",
       "  <thead>\n",
       "    <tr style=\"text-align: right;\">\n",
       "      <th></th>\n",
       "      <th>business_id</th>\n",
       "      <th>stars</th>\n",
       "      <th>text</th>\n",
       "      <th>review_length</th>\n",
       "      <th>0</th>\n",
       "      <th>1</th>\n",
       "      <th>2</th>\n",
       "      <th>3</th>\n",
       "      <th>4</th>\n",
       "      <th>5</th>\n",
       "    </tr>\n",
       "  </thead>\n",
       "  <tbody>\n",
       "    <tr>\n",
       "      <th>134</th>\n",
       "      <td>jg37O7ANF7hqggS6bxUpcQ</td>\n",
       "      <td>3.0</td>\n",
       "      <td>5</td>\n",
       "      <td>130.2</td>\n",
       "      <td>0.337006</td>\n",
       "      <td>0.304949</td>\n",
       "      <td>0.026292</td>\n",
       "      <td>0.055292</td>\n",
       "      <td>0.067801</td>\n",
       "      <td>0.20866</td>\n",
       "    </tr>\n",
       "  </tbody>\n",
       "</table>\n",
       "</div>"
      ],
      "text/plain": [
       "                business_id  stars  text  review_length         0         1  \\\n",
       "134  jg37O7ANF7hqggS6bxUpcQ    3.0     5          130.2  0.337006  0.304949   \n",
       "\n",
       "            2         3         4        5  \n",
       "134  0.026292  0.055292  0.067801  0.20866  "
      ]
     },
     "execution_count": 544,
     "metadata": {},
     "output_type": "execute_result"
    }
   ],
   "source": [
    "df_neg_bsns[df_neg_bsns.business_id == 'jg37O7ANF7hqggS6bxUpcQ']"
   ]
  },
  {
   "cell_type": "code",
   "execution_count": 376,
   "metadata": {},
   "outputs": [],
   "source": [
    "df_pos_tot = df_pos_tot.drop_duplicates()\n",
    "df_neg_tot = df_neg_tot.drop_duplicates()"
   ]
  },
  {
   "cell_type": "code",
   "execution_count": 545,
   "metadata": {},
   "outputs": [
    {
     "data": {
      "text/html": [
       "<div>\n",
       "<style scoped>\n",
       "    .dataframe tbody tr th:only-of-type {\n",
       "        vertical-align: middle;\n",
       "    }\n",
       "\n",
       "    .dataframe tbody tr th {\n",
       "        vertical-align: top;\n",
       "    }\n",
       "\n",
       "    .dataframe thead th {\n",
       "        text-align: right;\n",
       "    }\n",
       "</style>\n",
       "<table border=\"1\" class=\"dataframe\">\n",
       "  <thead>\n",
       "    <tr style=\"text-align: right;\">\n",
       "      <th></th>\n",
       "      <th>business_id</th>\n",
       "      <th>name</th>\n",
       "      <th>city</th>\n",
       "      <th>neighborhood</th>\n",
       "      <th>latitude</th>\n",
       "      <th>longitude</th>\n",
       "      <th>cuisine</th>\n",
       "      <th>RestaurantsPriceRange2</th>\n",
       "      <th>stars</th>\n",
       "      <th>0</th>\n",
       "      <th>1</th>\n",
       "      <th>2</th>\n",
       "      <th>3</th>\n",
       "      <th>4</th>\n",
       "      <th>5</th>\n",
       "    </tr>\n",
       "  </thead>\n",
       "  <tbody>\n",
       "    <tr>\n",
       "      <th>157</th>\n",
       "      <td>jg37O7ANF7hqggS6bxUpcQ</td>\n",
       "      <td>Pho Thanh Vietnamese Noodle House &amp; Restaurant</td>\n",
       "      <td>Calgary</td>\n",
       "      <td>NaN</td>\n",
       "      <td>51.11154</td>\n",
       "      <td>-114.055896</td>\n",
       "      <td>chinese</td>\n",
       "      <td>1.0</td>\n",
       "      <td>3.861111</td>\n",
       "      <td>0.197244</td>\n",
       "      <td>0.020252</td>\n",
       "      <td>0.490782</td>\n",
       "      <td>0.107854</td>\n",
       "      <td>0.098136</td>\n",
       "      <td>0.085733</td>\n",
       "    </tr>\n",
       "  </tbody>\n",
       "</table>\n",
       "</div>"
      ],
      "text/plain": [
       "                business_id                                            name  \\\n",
       "157  jg37O7ANF7hqggS6bxUpcQ  Pho Thanh Vietnamese Noodle House & Restaurant   \n",
       "\n",
       "        city neighborhood  latitude   longitude  cuisine  \\\n",
       "157  Calgary          NaN  51.11154 -114.055896  chinese   \n",
       "\n",
       "     RestaurantsPriceRange2     stars         0         1         2         3  \\\n",
       "157                     1.0  3.861111  0.197244  0.020252  0.490782  0.107854   \n",
       "\n",
       "            4         5  \n",
       "157  0.098136  0.085733  "
      ]
     },
     "execution_count": 545,
     "metadata": {},
     "output_type": "execute_result"
    }
   ],
   "source": [
    "# peek into business/topic distributions\n",
    "df_pos_tot[df_pos_tot.business_id == 'jg37O7ANF7hqggS6bxUpcQ']"
   ]
  },
  {
   "cell_type": "code",
   "execution_count": 546,
   "metadata": {
    "scrolled": true
   },
   "outputs": [
    {
     "data": {
      "text/html": [
       "<div>\n",
       "<style scoped>\n",
       "    .dataframe tbody tr th:only-of-type {\n",
       "        vertical-align: middle;\n",
       "    }\n",
       "\n",
       "    .dataframe tbody tr th {\n",
       "        vertical-align: top;\n",
       "    }\n",
       "\n",
       "    .dataframe thead th {\n",
       "        text-align: right;\n",
       "    }\n",
       "</style>\n",
       "<table border=\"1\" class=\"dataframe\">\n",
       "  <thead>\n",
       "    <tr style=\"text-align: right;\">\n",
       "      <th></th>\n",
       "      <th>business_id</th>\n",
       "      <th>name</th>\n",
       "      <th>city</th>\n",
       "      <th>neighborhood</th>\n",
       "      <th>latitude</th>\n",
       "      <th>longitude</th>\n",
       "      <th>cuisine</th>\n",
       "      <th>RestaurantsPriceRange2</th>\n",
       "      <th>stars</th>\n",
       "      <th>0</th>\n",
       "      <th>1</th>\n",
       "      <th>2</th>\n",
       "      <th>3</th>\n",
       "      <th>4</th>\n",
       "      <th>5</th>\n",
       "    </tr>\n",
       "  </thead>\n",
       "  <tbody>\n",
       "    <tr>\n",
       "      <th>135</th>\n",
       "      <td>jg37O7ANF7hqggS6bxUpcQ</td>\n",
       "      <td>Pho Thanh Vietnamese Noodle House &amp; Restaurant</td>\n",
       "      <td>Calgary</td>\n",
       "      <td>NaN</td>\n",
       "      <td>51.11154</td>\n",
       "      <td>-114.055896</td>\n",
       "      <td>chinese</td>\n",
       "      <td>1.0</td>\n",
       "      <td>3.0</td>\n",
       "      <td>0.337006</td>\n",
       "      <td>0.304949</td>\n",
       "      <td>0.026292</td>\n",
       "      <td>0.055292</td>\n",
       "      <td>0.067801</td>\n",
       "      <td>0.20866</td>\n",
       "    </tr>\n",
       "  </tbody>\n",
       "</table>\n",
       "</div>"
      ],
      "text/plain": [
       "                business_id                                            name  \\\n",
       "135  jg37O7ANF7hqggS6bxUpcQ  Pho Thanh Vietnamese Noodle House & Restaurant   \n",
       "\n",
       "        city neighborhood  latitude   longitude  cuisine  \\\n",
       "135  Calgary          NaN  51.11154 -114.055896  chinese   \n",
       "\n",
       "     RestaurantsPriceRange2  stars         0         1         2         3  \\\n",
       "135                     1.0    3.0  0.337006  0.304949  0.026292  0.055292   \n",
       "\n",
       "            4        5  \n",
       "135  0.067801  0.20866  "
      ]
     },
     "execution_count": 546,
     "metadata": {},
     "output_type": "execute_result"
    }
   ],
   "source": [
    "# peek into business/topic distributions\n",
    "df_neg_tot[df_neg_tot.name == 'Pho Thanh Vietnamese Noodle House & Restaurant']"
   ]
  },
  {
   "cell_type": "code",
   "execution_count": 121,
   "metadata": {},
   "outputs": [],
   "source": [
    "# scores = df_pos_bsns[df_pos_bsns.business_id == 'zU9w_xRlQSRIYXxGo-HSOA'].iloc[:,-6:].values\n",
    "# print(restaurants_df[restaurants_df.business_id == 'zU9w_xRlQSRIYXxGo-HSOA']['name'].values[0] + ' - Positive Reviews')\n",
    "# print('-'*36)\n",
    "# for n in pos_topics:\n",
    "#     print('Topic {}: {:18} > {:.4f}'.format(n, pos_topics[n], scores[0][n]))\n",
    "\n",
    "# print('')\n",
    "# print('')\n",
    "# print('')\n",
    "    \n",
    "# scores = df_neg_bsns[df_neg_bsns.business_id == 'zU9w_xRlQSRIYXxGo-HSOA'].iloc[:,-6:].values\n",
    "# print(restaurants_df[restaurants_df.business_id =='zU9w_xRlQSRIYXxGo-HSOA']['name'].values[0] + ' - Negative Reviews')\n",
    "# print('-'*36)\n",
    "# for n in neg_topics:\n",
    "#     print('Topic {}: {:18} > {:.4f}'.format(n, neg_topics[n], scores[0][n]))"
   ]
  },
  {
   "cell_type": "code",
   "execution_count": 137,
   "metadata": {},
   "outputs": [],
   "source": [
    "# v_amer_pos = df_pos_tot.rename(columns={'0': 'Waiting Time', '1': 'Burger/Fries/Shake', '2': 'Customer Service', '3': 'Breakfast/Eggs/Pancakes',\\\n",
    "#                                         '4': 'Chicken/Waffles', '5': 'Atmosphere'})\n",
    "\n",
    "# v_amer_neg = df_neg_tot.rename(columns={'0': 'Atmosphere', '1': 'Burger/Fries', '2': 'Waiting Time', '3': 'Chicken/Steak',\\\n",
    "#                                        '4': 'Customer Service', '5': 'Buffet/Price'})"
   ]
  },
  {
   "cell_type": "code",
   "execution_count": 219,
   "metadata": {},
   "outputs": [],
   "source": [
    "# v_ita_pos = df_pos_tot.rename(columns={0:'Waiting Time', 1:'Pizza', 2:'Price',\\\n",
    "#                                        3:'Pasta/Chicken', 4:'Customer Service', 5:'Atmosphere'})\n",
    "\n",
    "# v_ita_neg = df_neg_tot.rename(columns={0:'Waiting Time', 1:'Pizza', 2:'Delivery/Reservation',\\\n",
    "#                                        3:'Chicken/Pasta', 4:'Customer Service', 5:'Atmosphere'})"
   ]
  },
  {
   "cell_type": "code",
   "execution_count": 327,
   "metadata": {},
   "outputs": [],
   "source": [
    "v_chi_pos = df_pos_tot.rename(columns={0:'Chicken Rice/Shrimp', 1:'Dim Sum', 2:'Customer Service',\\\n",
    "                                       3:'Noodles/Soup', 4:'Waiting Time', 5:'Pad Thai/Curry'})\n",
    "\n",
    "v_chi_neg = df_neg_tot.rename(columns={0:'Price', 1:'Chicken Rice', 2:'Dim Sum', \\\n",
    "                                       3:'Waiting Time', 4:'Soup/Noodle', 5:'Customer Service'})"
   ]
  },
  {
   "cell_type": "code",
   "execution_count": 379,
   "metadata": {},
   "outputs": [],
   "source": [
    "t_chi_pos = df_pos_tot.rename(columns={0:'Waiting Time', 1:'Dim Sum', 2:'Dumplings',\\\n",
    "                                       3:'Noodles/Soup', 4:'Chicken Rice', 5:'Customer Service'})\n",
    "\n",
    "t_chi_neg = df_neg_tot.rename(columns={0:'Waiting Time', 1:'Dim Sum', 2:'Customer Service',\\\n",
    "                                       3:'Dumplings', 4:'Chicken Rice', 5:'Noodles/Soup'})"
   ]
  },
  {
   "cell_type": "code",
   "execution_count": 431,
   "metadata": {},
   "outputs": [],
   "source": [
    "t_amer_pos = df_pos_tot.rename(columns={0:'Bar/Beer', 1:'Customer Service/Atmosphere', 2:'Burger/Fries',\\\n",
    "                                        3:'Chicken/Ribs/Sandwich', 4:'', 5:'Order/Waiting Time'})\n",
    "\n",
    "t_amer_neg = df_neg_tot.rename(columns={0:'Waiting Time', 1:'Chicken/Sandwich', 2:'Beer/Bar/Drinks',\\\n",
    "                                        3:'BUrger/Fries', 4:'Wings/Sauce', 5:'Customer Service'})"
   ]
  },
  {
   "cell_type": "code",
   "execution_count": 493,
   "metadata": {},
   "outputs": [],
   "source": [
    "t_ita_pos = df_pos_tot.rename(columns={0:'Order/Waiting Time', 1:'Pizza', 2:'Customer Service',\\\n",
    "                                       3:'Pasta', 4:'Atmosphere'})\n",
    "\n",
    "t_ita_neg = df_neg_tot.rename(columns={0:'Customer Service', 1:'Pizza', 2:'Pasta',\\\n",
    "                                       3:'Order/Waiting Time', 4:'Atmosphere'})"
   ]
  },
  {
   "cell_type": "code",
   "execution_count": 548,
   "metadata": {},
   "outputs": [],
   "source": [
    "c_chi_pos = df_pos_tot.rename(columns={0:'Soup/Pork', 1:'Dim Sum', 2:'Customer Service',\\\n",
    "                                       3:'Ginger Beef/Chicken', 4:'Pad Thai/Curry', 5:'Bubble Tea'})\n",
    "\n",
    "c_chi_neg = df_neg_tot.rename(columns={0:'Buffet/Atmosphere', 1:'Chicken/Soup', 2:'Dim Sum',\\\n",
    "                                       3:'Order/Waiting Time', 4:'Ginger Beef/Pork', 5:'Customer Service'})"
   ]
  },
  {
   "cell_type": "code",
   "execution_count": 432,
   "metadata": {},
   "outputs": [
    {
     "data": {
      "text/html": [
       "<div>\n",
       "<style scoped>\n",
       "    .dataframe tbody tr th:only-of-type {\n",
       "        vertical-align: middle;\n",
       "    }\n",
       "\n",
       "    .dataframe tbody tr th {\n",
       "        vertical-align: top;\n",
       "    }\n",
       "\n",
       "    .dataframe thead th {\n",
       "        text-align: right;\n",
       "    }\n",
       "</style>\n",
       "<table border=\"1\" class=\"dataframe\">\n",
       "  <thead>\n",
       "    <tr style=\"text-align: right;\">\n",
       "      <th></th>\n",
       "      <th>business_id</th>\n",
       "      <th>name</th>\n",
       "      <th>city</th>\n",
       "      <th>neighborhood</th>\n",
       "      <th>latitude</th>\n",
       "      <th>longitude</th>\n",
       "      <th>cuisine</th>\n",
       "      <th>RestaurantsPriceRange2</th>\n",
       "      <th>stars</th>\n",
       "      <th>Bar/Beer</th>\n",
       "      <th>Customer Service/Atmosphere</th>\n",
       "      <th>Burger/Fries</th>\n",
       "      <th>Chicken/Ribs/Sandwich</th>\n",
       "      <th></th>\n",
       "      <th>Order/Waiting Time</th>\n",
       "    </tr>\n",
       "  </thead>\n",
       "  <tbody>\n",
       "    <tr>\n",
       "      <th>0</th>\n",
       "      <td>-Fq75GKdSKwhTVISzyc6rw</td>\n",
       "      <td>Three's Company Catering</td>\n",
       "      <td>Toronto</td>\n",
       "      <td>Greektown</td>\n",
       "      <td>43.678997</td>\n",
       "      <td>-79.344287</td>\n",
       "      <td>american</td>\n",
       "      <td>2.0</td>\n",
       "      <td>3.750000</td>\n",
       "      <td>0.087416</td>\n",
       "      <td>0.114967</td>\n",
       "      <td>0.015788</td>\n",
       "      <td>0.024573</td>\n",
       "      <td>0.574306</td>\n",
       "      <td>0.182950</td>\n",
       "    </tr>\n",
       "    <tr>\n",
       "      <th>1</th>\n",
       "      <td>-TjzQsimpriXVYaH3HdtQA</td>\n",
       "      <td>Fanzone Wings &amp; Ribs</td>\n",
       "      <td>Toronto</td>\n",
       "      <td>Scarborough</td>\n",
       "      <td>43.753057</td>\n",
       "      <td>-79.276234</td>\n",
       "      <td>american</td>\n",
       "      <td>2.0</td>\n",
       "      <td>4.395161</td>\n",
       "      <td>0.448432</td>\n",
       "      <td>0.160788</td>\n",
       "      <td>0.067190</td>\n",
       "      <td>0.253195</td>\n",
       "      <td>0.010440</td>\n",
       "      <td>0.059955</td>\n",
       "    </tr>\n",
       "    <tr>\n",
       "      <th>2</th>\n",
       "      <td>-W1bYeAk18xShlb6_Yb2Ig</td>\n",
       "      <td>Ciro's</td>\n",
       "      <td>Toronto</td>\n",
       "      <td>Bloordale Village</td>\n",
       "      <td>43.658482</td>\n",
       "      <td>-79.443120</td>\n",
       "      <td>american</td>\n",
       "      <td>2.0</td>\n",
       "      <td>3.083333</td>\n",
       "      <td>0.505054</td>\n",
       "      <td>0.145346</td>\n",
       "      <td>0.121909</td>\n",
       "      <td>0.023635</td>\n",
       "      <td>0.059268</td>\n",
       "      <td>0.144788</td>\n",
       "    </tr>\n",
       "    <tr>\n",
       "      <th>3</th>\n",
       "      <td>-Z7Oxv9nuPJI4ov4ufvvdA</td>\n",
       "      <td>Bon Appetit Cafe</td>\n",
       "      <td>Toronto</td>\n",
       "      <td>Downtown Core</td>\n",
       "      <td>43.652321</td>\n",
       "      <td>-79.379380</td>\n",
       "      <td>american</td>\n",
       "      <td>1.0</td>\n",
       "      <td>3.333333</td>\n",
       "      <td>0.391360</td>\n",
       "      <td>0.079380</td>\n",
       "      <td>0.042159</td>\n",
       "      <td>0.049913</td>\n",
       "      <td>0.107265</td>\n",
       "      <td>0.329922</td>\n",
       "    </tr>\n",
       "    <tr>\n",
       "      <th>4</th>\n",
       "      <td>-dOjdFq-kFhQTrG-yLYc_w</td>\n",
       "      <td>Maple Leaf Tavern</td>\n",
       "      <td>Toronto</td>\n",
       "      <td>Leslieville</td>\n",
       "      <td>43.668111</td>\n",
       "      <td>-79.339801</td>\n",
       "      <td>american</td>\n",
       "      <td>3.0</td>\n",
       "      <td>3.923077</td>\n",
       "      <td>0.169347</td>\n",
       "      <td>0.245691</td>\n",
       "      <td>0.069448</td>\n",
       "      <td>0.033048</td>\n",
       "      <td>0.091515</td>\n",
       "      <td>0.390950</td>\n",
       "    </tr>\n",
       "  </tbody>\n",
       "</table>\n",
       "</div>"
      ],
      "text/plain": [
       "              business_id                      name     city  \\\n",
       "0  -Fq75GKdSKwhTVISzyc6rw  Three's Company Catering  Toronto   \n",
       "1  -TjzQsimpriXVYaH3HdtQA      Fanzone Wings & Ribs  Toronto   \n",
       "2  -W1bYeAk18xShlb6_Yb2Ig                    Ciro's  Toronto   \n",
       "3  -Z7Oxv9nuPJI4ov4ufvvdA          Bon Appetit Cafe  Toronto   \n",
       "4  -dOjdFq-kFhQTrG-yLYc_w         Maple Leaf Tavern  Toronto   \n",
       "\n",
       "        neighborhood   latitude  longitude   cuisine  RestaurantsPriceRange2  \\\n",
       "0          Greektown  43.678997 -79.344287  american                     2.0   \n",
       "1        Scarborough  43.753057 -79.276234  american                     2.0   \n",
       "2  Bloordale Village  43.658482 -79.443120  american                     2.0   \n",
       "3      Downtown Core  43.652321 -79.379380  american                     1.0   \n",
       "4        Leslieville  43.668111 -79.339801  american                     3.0   \n",
       "\n",
       "      stars  Bar/Beer  Customer Service/Atmosphere  Burger/Fries  \\\n",
       "0  3.750000  0.087416                     0.114967      0.015788   \n",
       "1  4.395161  0.448432                     0.160788      0.067190   \n",
       "2  3.083333  0.505054                     0.145346      0.121909   \n",
       "3  3.333333  0.391360                     0.079380      0.042159   \n",
       "4  3.923077  0.169347                     0.245691      0.069448   \n",
       "\n",
       "   Chicken/Ribs/Sandwich            Order/Waiting Time  \n",
       "0               0.024573  0.574306            0.182950  \n",
       "1               0.253195  0.010440            0.059955  \n",
       "2               0.023635  0.059268            0.144788  \n",
       "3               0.049913  0.107265            0.329922  \n",
       "4               0.033048  0.091515            0.390950  "
      ]
     },
     "execution_count": 432,
     "metadata": {},
     "output_type": "execute_result"
    }
   ],
   "source": [
    "t_ita_pos.head()"
   ]
  },
  {
   "cell_type": "code",
   "execution_count": 549,
   "metadata": {},
   "outputs": [
    {
     "name": "stdout",
     "output_type": "stream",
     "text": [
      "Wall time: 31.6 ms\n"
     ]
    }
   ],
   "source": [
    "%%time\n",
    "# write to CSV\n",
    "c_chi_pos.to_csv('datasets/pos_bsns_c_chi.csv', index=False)\n",
    "c_chi_neg.to_csv('datasets/neg_bsns_c_chi.csv', index=False)\n",
    "# df_pos.to_csv('datasets/pos_reviews_v_amer.csv', index=False)\n",
    "# df_neg.to_csv('datasets/neg_reviews_v_amer.csv', index=False)"
   ]
  },
  {
   "cell_type": "code",
   "execution_count": null,
   "metadata": {},
   "outputs": [],
   "source": []
  }
 ],
 "metadata": {
  "kernelspec": {
   "display_name": "Python 3",
   "language": "python",
   "name": "python3"
  },
  "language_info": {
   "codemirror_mode": {
    "name": "ipython",
    "version": 3
   },
   "file_extension": ".py",
   "mimetype": "text/x-python",
   "name": "python",
   "nbconvert_exporter": "python",
   "pygments_lexer": "ipython3",
   "version": "3.7.0"
  }
 },
 "nbformat": 4,
 "nbformat_minor": 2
}
