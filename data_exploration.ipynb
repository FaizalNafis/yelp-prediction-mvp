{
 "cells": [
  {
   "cell_type": "markdown",
   "metadata": {},
   "source": [
    "## Data Exploration\n",
    "Parse through 'yelp_academic_dataset_business.json' and check to see which location/cuisine combination has more restaurants."
   ]
  },
  {
   "cell_type": "markdown",
   "metadata": {},
   "source": [
    "## IMPORT PACKAGES"
   ]
  },
  {
   "cell_type": "code",
   "execution_count": 1,
   "metadata": {},
   "outputs": [
    {
     "ename": "ModuleNotFoundError",
     "evalue": "No module named 'squarify'",
     "traceback": [
      "\u001b[0;31m---------------------------------------------------------------------------\u001b[0m",
      "\u001b[0;31mModuleNotFoundError\u001b[0m                       Traceback (most recent call last)",
      "\u001b[0;32m<ipython-input-1-489ae61ecda3>\u001b[0m in \u001b[0;36m<module>\u001b[0;34m()\u001b[0m\n\u001b[1;32m     11\u001b[0m \u001b[0;32mfrom\u001b[0m \u001b[0mpandas\u001b[0m\u001b[0;34m.\u001b[0m\u001b[0mio\u001b[0m\u001b[0;34m.\u001b[0m\u001b[0mjson\u001b[0m \u001b[0;32mimport\u001b[0m \u001b[0mjson_normalize\u001b[0m\u001b[0;34m\u001b[0m\u001b[0m\n\u001b[1;32m     12\u001b[0m \u001b[0;32mfrom\u001b[0m \u001b[0mwordcloud\u001b[0m \u001b[0;32mimport\u001b[0m \u001b[0mWordCloud\u001b[0m\u001b[0;34m\u001b[0m\u001b[0m\n\u001b[0;32m---> 13\u001b[0;31m \u001b[0;32mimport\u001b[0m \u001b[0msquarify\u001b[0m\u001b[0;34m\u001b[0m\u001b[0m\n\u001b[0m\u001b[1;32m     14\u001b[0m \u001b[0;32mimport\u001b[0m \u001b[0mnltk\u001b[0m\u001b[0;34m\u001b[0m\u001b[0m\n\u001b[1;32m     15\u001b[0m \u001b[0;32mfrom\u001b[0m \u001b[0mnltk\u001b[0m\u001b[0;34m.\u001b[0m\u001b[0mcorpus\u001b[0m \u001b[0;32mimport\u001b[0m \u001b[0mstopwords\u001b[0m\u001b[0;34m\u001b[0m\u001b[0m\n",
      "\u001b[0;31mModuleNotFoundError\u001b[0m: No module named 'squarify'"
     ],
     "output_type": "error"
    }
   ],
   "source": [
    "import pandas as pd\n",
    "import pandasql as ps\n",
    "import numpy as np\n",
    "import matplotlib.pyplot as plt\n",
    "import seaborn as sns\n",
    "import gc\n",
    "import json\n",
    "\n",
    "# from mpl_toolkits.basemap import Basemap\n",
    "\n",
    "from pandas.io.json import json_normalize\n",
    "from wordcloud import WordCloud\n",
    "import squarify\n",
    "import nltk\n",
    "from nltk.corpus import stopwords \n",
    "from nltk.stem.porter import PorterStemmer\n",
    "from nltk.stem.wordnet import WordNetLemmatizer\n",
    "import string\n",
    "import re \n",
    "import gensim \n",
    "from gensim import corpora\n",
    "\n",
    "%matplotlib inline\n",
    "plt.style.use('fivethirtyeight')\n",
    "plt.style.use('bmh')"
   ]
  },
  {
   "cell_type": "markdown",
   "metadata": {},
   "source": [
    "## LOAD DATA FOR ALL BUSINESSES"
   ]
  },
  {
   "cell_type": "code",
   "execution_count": null,
   "metadata": {},
   "outputs": [],
   "source": [
    "businesses = []\n",
    "with open('datasets/yelp_academic_dataset_business.json', encoding='utf8') as f:\n",
    "    for line in f:\n",
    "        businesses.append(json.loads(line))\n",
    "        \n",
    "df = json_normalize(businesses)\n",
    "df.columns = df.columns.map(lambda x: x.split(\".\")[-1])\n",
    "\n",
    "df"
   ]
  },
  {
   "cell_type": "markdown",
   "metadata": {},
   "source": [
    "### TOP WORDS (BY BUSINESS) IN YELP DATASET"
   ]
  },
  {
   "cell_type": "code",
   "execution_count": null,
   "metadata": {
    "scrolled": false
   },
   "outputs": [],
   "source": [
    "business = df\n",
    "\n",
    "cloud = WordCloud(width=1440, height= 1080,max_words= 200).generate(' '.join(business['name'].astype(str)))\n",
    "plt.figure(figsize=(20, 15))\n",
    "plt.imshow(cloud)\n",
    "plt.axis('off');"
   ]
  },
  {
   "cell_type": "markdown",
   "metadata": {},
   "source": [
    "### TOP CITIES FOR ALL BUSINESS IN YELP"
   ]
  },
  {
   "cell_type": "code",
   "execution_count": null,
   "metadata": {},
   "outputs": [],
   "source": [
    "print('Number of city listed',business['city'].nunique())\n",
    "f,ax = plt.subplots(1,2, figsize=(14,8))\n",
    "ax1,ax2, = ax.flatten()\n",
    "cnt = business['city'].value_counts()[:20].to_frame()\n",
    "\n",
    "sns.barplot(cnt['city'], cnt.index, palette = 'gist_rainbow', ax =ax1)\n",
    "ax1.set_xlabel('')\n",
    "ax1.set_title('Top city business listed in Yelp')\n",
    "\n",
    "cnt = business['state'].value_counts()[:20].to_frame()\n",
    "\n",
    "sns.barplot(cnt['state'], cnt.index, palette = 'coolwarm', ax =ax2)\n",
    "ax2.set_xlabel('')\n",
    "ax2.set_title('Top state business listed in Yelp');"
   ]
  },
  {
   "cell_type": "markdown",
   "metadata": {},
   "source": [
    "### TOP CITIES FOR RESTAURANTS IN YELP"
   ]
  },
  {
   "cell_type": "code",
   "execution_count": null,
   "metadata": {},
   "outputs": [],
   "source": [
    "all_restaurants = df[df['categories'].str.contains(\"Restaurant\") == True]\n",
    "\n",
    "print('Number of city listed',all_restaurants['city'].nunique())\n",
    "f,ax = plt.subplots(1,2, figsize=(14,8))\n",
    "ax1,ax2, = ax.flatten()\n",
    "cnt = all_restaurants['city'].value_counts()[:20].to_frame()\n",
    "\n",
    "sns.barplot(cnt['city'], cnt.index, palette = 'gist_rainbow', ax =ax1)\n",
    "ax1.set_xlabel('')\n",
    "ax1.set_title('Top city restaurants listed in Yelp')\n",
    "\n",
    "cnt = all_restaurants['state'].value_counts()[:20].to_frame()\n",
    "\n",
    "sns.barplot(cnt['state'], cnt.index, palette = 'coolwarm', ax =ax2)\n",
    "ax2.set_xlabel('')\n",
    "ax2.set_title('Top state restaurants listed in Yelp');"
   ]
  },
  {
   "cell_type": "code",
   "execution_count": null,
   "metadata": {},
   "outputs": [],
   "source": [
    "restaurants = df[df['categories'].str.contains(\"Restaurant\") == True]\n",
    "toronto_restaurants = restaurants[restaurants['city'] == 'Toronto']\n",
    "\n",
    "t_italian = toronto_restaurants[toronto_restaurants['categories'].str.contains(\"Italian\") == True]\n",
    "t_pizza = toronto_restaurants[toronto_restaurants['categories'].str.contains(\"Pizza\") == True]\n",
    "t_chinese = toronto_restaurants[toronto_restaurants['categories'].str.contains(\"Chinese\") == True]\n",
    "t_indian = toronto_restaurants[toronto_restaurants['categories'].str.contains(\"Indian\") == True]\n",
    "t_steakhouses = toronto_restaurants[toronto_restaurants['categories'].str.contains(\"Steakhouses\") == True]\n",
    "t_japanese = toronto_restaurants[toronto_restaurants['categories'].str.contains(\"Japanese\") == True]\n",
    "t_mexican = toronto_restaurants[toronto_restaurants['categories'].str.contains(\"Mexican\") == True]\n",
    "t_american_new = toronto_restaurants[toronto_restaurants['categories'].str.contains(\"American \\(New\\)\") == True]\n",
    "t_greek = toronto_restaurants[toronto_restaurants['categories'].str.contains(\"Greek\") == True]\n",
    "t_thai = toronto_restaurants[toronto_restaurants['categories'].str.contains(\"Thai\") == True]\n",
    "t_fast_food = toronto_restaurants[toronto_restaurants['categories'].str.contains(\"Fast Food\") == True]\n",
    "t_american_trad = toronto_restaurants[toronto_restaurants['categories'].str.contains(\"American \\(Traditional\\)\") == True]\n",
    "t_bakeries = toronto_restaurants[toronto_restaurants['categories'].str.contains(\"Bakeries\") == True]\n",
    "t_canadian_new = toronto_restaurants[toronto_restaurants['categories'].str.contains(\"Canadian \\(New\\)\") == True]\n",
    "t_sandwiches = toronto_restaurants[toronto_restaurants['categories'].str.contains(\"Sandiwiches\") == True]\n",
    "t_asian_fusion = toronto_restaurants[toronto_restaurants['categories'].str.contains(\"Asian Fusion\") == True]"
   ]
  },
  {
   "cell_type": "code",
   "execution_count": null,
   "metadata": {},
   "outputs": [],
   "source": [
    "vegas_restaurants = restaurants[restaurants['city'] == 'Las Vegas']\n",
    "\n",
    "v_italian = vegas_restaurants[vegas_restaurants['categories'].str.contains(\"Italian\") == True]\n",
    "v_pizza = vegas_restaurants[vegas_restaurants['categories'].str.contains(\"Pizza\") == True]\n",
    "v_chinese = vegas_restaurants[vegas_restaurants['categories'].str.contains(\"Chinese\") == True]\n",
    "v_indian = vegas_restaurants[vegas_restaurants['categories'].str.contains(\"Indian\") == True]\n",
    "v_steakhouses = vegas_restaurants[vegas_restaurants['categories'].str.contains(\"Steakhouses\") == True]\n",
    "v_japanese = vegas_restaurants[vegas_restaurants['categories'].str.contains(\"Japanese\") == True]\n",
    "v_mexican = vegas_restaurants[vegas_restaurants['categories'].str.contains(\"Mexican\") == True]\n",
    "v_american_new = vegas_restaurants[vegas_restaurants['categories'].str.contains(\"American \\(New\\)\") == True]\n",
    "v_greek = vegas_restaurants[vegas_restaurants['categories'].str.contains(\"Greek\") == True]\n",
    "v_thai = vegas_restaurants[vegas_restaurants['categories'].str.contains(\"Thai\") == True]\n",
    "v_fast_food = vegas_restaurants[vegas_restaurants['categories'].str.contains(\"Fast Food\") == True]\n",
    "v_american_trad = vegas_restaurants[vegas_restaurants['categories'].str.contains(\"American \\(Traditional\\)\") == True]\n",
    "v_bakeries = vegas_restaurants[vegas_restaurants['categories'].str.contains(\"Bakeries\") == True]\n",
    "v_canadian_new = vegas_restaurants[vegas_restaurants['categories'].str.contains(\"Canadian \\(New\\)\") == True]\n",
    "v_sandwiches = vegas_restaurants[vegas_restaurants['categories'].str.contains(\"Sandiwiches\") == True]\n",
    "v_asian_fusion = vegas_restaurants[vegas_restaurants['categories'].str.contains(\"Asian Fusion\") == True]"
   ]
  },
  {
   "cell_type": "code",
   "execution_count": null,
   "metadata": {
    "scrolled": true
   },
   "outputs": [],
   "source": [
    "t_italian['cuisine'] = str(\"italian\")\n",
    "t_pizza['cuisine'] = str(\"pizza\")\n",
    "t_chinese['cuisine'] = str(\"chinese\")\n",
    "t_indian['cuisine'] = str(\"indian\")\n",
    "t_steakhouses['cuisine'] = str(\"steakhouses\")\n",
    "t_japanese['cuisine'] = str(\"japanese\")\n",
    "t_mexican['cuisine'] = str(\"mexican\")\n",
    "t_american_new['cuisine'] = str(\"american\")\n",
    "t_greek['cuisine'] = str(\"greek\")\n",
    "t_thai['cuisine'] = str(\"thai\")\n",
    "t_fast_food['cuisine'] = str(\"fast_food\")\n",
    "t_american_trad['cuisine'] = str(\"american\")\n",
    "t_bakeries['cuisine'] = str(\"bakeries\")\n",
    "t_canadian_new['cuisine'] = str(\"canadian\")\n",
    "t_sandwiches['cuisine'] = str(\"sandwiches\")\n",
    "t_asian_fusion['cuisine'] = str(\"asian_fusion\")\n",
    "\n",
    "t_restaurants = t_italian.append([t_pizza, t_chinese, t_indian, t_steakhouses, t_japanese, t_mexican, \n",
    "                                  t_american_new, t_greek, t_thai, t_fast_food, t_american_trad, \n",
    "                                  t_bakeries, t_canadian_new, t_sandwiches, t_asian_fusion])"
   ]
  },
  {
   "cell_type": "code",
   "execution_count": null,
   "metadata": {},
   "outputs": [],
   "source": [
    "v_italian['cuisine'] = str(\"italian\")\n",
    "v_pizza['cuisine'] = str(\"pizza\")\n",
    "v_chinese['cuisine'] = str(\"chinese\")\n",
    "v_indian['cuisine'] = str(\"indian\")\n",
    "v_steakhouses['cuisine'] = str(\"steakhouses\")\n",
    "v_japanese['cuisine'] = str(\"japanese\")\n",
    "v_mexican['cuisine'] = str(\"mexican\")\n",
    "v_american_new['cuisine'] = str(\"american\")\n",
    "v_greek['cuisine'] = str(\"greek\")\n",
    "v_thai['cuisine'] = str(\"thai\")\n",
    "v_fast_food['cuisine'] = str(\"fast_food\")\n",
    "v_american_trad['cuisine'] = str(\"american\")\n",
    "v_bakeries['cuisine'] = str(\"bakeries\")\n",
    "v_canadian_new['cuisine'] = str(\"canadian\")\n",
    "v_sandwiches['cuisine'] = str(\"sandwiches\")\n",
    "v_asian_fusion['cuisine'] = str(\"asian_fusion\")\n",
    "\n",
    "v_restaurants = v_italian.append([v_pizza, v_chinese, v_indian, v_steakhouses, v_japanese, \n",
    "                                  v_mexican, v_american_new, v_greek, v_thai, v_fast_food,\n",
    "                                  v_american_trad, v_bakeries, v_canadian_new, v_sandwiches, \n",
    "                                  v_asian_fusion])"
   ]
  },
  {
   "cell_type": "markdown",
   "metadata": {},
   "source": [
    "### COMPARE CUISINE RANK BETWEEN TORONTO & LAS VEGAS RESTAURANTS"
   ]
  },
  {
   "cell_type": "code",
   "execution_count": null,
   "metadata": {
    "scrolled": true
   },
   "outputs": [],
   "source": [
    "f,ax = plt.subplots(1,2, figsize=(14,8))\n",
    "ax1,ax2,  = ax.flatten()\n",
    "cnt = t_restaurants['cuisine'].value_counts()[:20].to_frame()\n",
    "\n",
    "sns.barplot(cnt['cuisine'], cnt.index, palette = 'gist_rainbow', ax =ax1)\n",
    "ax1.set_xlabel('')\n",
    "ax1.set_title('Cuisine Ranked for Toronto')\n",
    "\n",
    "\n",
    "cnt = v_restaurants['cuisine'].value_counts()[:20].to_frame()\n",
    "\n",
    "sns.barplot(cnt['cuisine'], cnt.index, palette = 'gist_rainbow', ax =ax2)\n",
    "ax2.set_xlabel('')\n",
    "ax2.set_title('Cuisine Ranked for Las Vegas')\n"
   ]
  },
  {
   "cell_type": "markdown",
   "metadata": {},
   "source": [
    "##### Top cuisine in Toronto is Canadian, at 659 restaurants, while in Las Vegas, Fast Food type restaurant is top with 930 businesses. However, if we combine both American (Trad & New), we'll have a total of 1259 businesses."
   ]
  },
  {
   "cell_type": "code",
   "execution_count": null,
   "metadata": {},
   "outputs": [],
   "source": [
    "def basic_details(df):\n",
    "    print('Row:{}, columns:{}'.format(df.shape[0],df.shape[1]))\n",
    "    k = pd.DataFrame()\n",
    "    k['number of Unique value'] = df.nunique()\n",
    "    k['Number of missing value'] = df.isnull().sum()\n",
    "    k['Data type'] = df.dtypes\n",
    "    return k"
   ]
  },
  {
   "cell_type": "markdown",
   "metadata": {},
   "source": [
    "### ALL RESTAURANTS"
   ]
  },
  {
   "cell_type": "code",
   "execution_count": null,
   "metadata": {
    "scrolled": true
   },
   "outputs": [],
   "source": [
    "basic_details(all_restaurants)"
   ]
  },
  {
   "cell_type": "markdown",
   "metadata": {},
   "source": [
    "### LAS VEGAS RESTAURANTS"
   ]
  },
  {
   "cell_type": "code",
   "execution_count": null,
   "metadata": {},
   "outputs": [],
   "source": [
    "basic_details(vegas_restaurants)"
   ]
  },
  {
   "cell_type": "markdown",
   "metadata": {},
   "source": [
    "### TORONTO RESTATURANTS"
   ]
  },
  {
   "cell_type": "code",
   "execution_count": null,
   "metadata": {
    "scrolled": false
   },
   "outputs": [],
   "source": [
    "basic_details(toronto_restaurants)"
   ]
  },
  {
   "cell_type": "markdown",
   "metadata": {},
   "source": [
    "### Distribution of rating (ALL B)\n",
    "Let look at distribution of rating given by the user for different business."
   ]
  },
  {
   "cell_type": "code",
   "execution_count": null,
   "metadata": {},
   "outputs": [],
   "source": [
    "plt.figure(figsize=(12,4))\n",
    "ax = sns.countplot(all_restaurants['stars'])\n",
    "plt.title('Distribution of rating for All Restaurants');"
   ]
  },
  {
   "cell_type": "markdown",
   "metadata": {},
   "source": [
    "most gives ratings between 3.5 to 4.0"
   ]
  },
  {
   "cell_type": "code",
   "execution_count": null,
   "metadata": {},
   "outputs": [],
   "source": [
    "plt.figure(figsize=(12,4))\n",
    "ax = sns.countplot(vegas_restaurants['stars'])\n",
    "plt.title('Distribution of rating for Vegas Restaurants');"
   ]
  },
  {
   "cell_type": "code",
   "execution_count": null,
   "metadata": {},
   "outputs": [],
   "source": [
    "plt.figure(figsize=(12,4))\n",
    "ax = sns.countplot(toronto_restaurants['stars'])\n",
    "plt.title('Distribution of rating for Toronto Restaurants');"
   ]
  },
  {
   "cell_type": "markdown",
   "metadata": {},
   "source": [
    "### REVIEW COUNT FOR VEGAS RESTAURANTS"
   ]
  },
  {
   "cell_type": "code",
   "execution_count": null,
   "metadata": {
    "scrolled": false
   },
   "outputs": [],
   "source": [
    "print('Median review count',vegas_restaurants['review_count'].median())\n",
    "plt.figure(figsize = (14,10))\n",
    "sns.barplot(vegas_restaurants[vegas_restaurants['review_count'] >3000]['review_count'],vegas_restaurants[vegas_restaurants['review_count'] >3000]['name'],\n",
    "           palette = 'summer')\n",
    "plt.xlabel('')\n",
    "plt.title('Top review count of Vegas Restaurants');"
   ]
  },
  {
   "cell_type": "markdown",
   "metadata": {},
   "source": [
    "### REVIEW COUNT FOR TORONTO RESTAURANTS"
   ]
  },
  {
   "cell_type": "code",
   "execution_count": null,
   "metadata": {},
   "outputs": [],
   "source": [
    "print('Median review count',toronto_restaurants['review_count'].median())\n",
    "plt.figure(figsize = (14,10))\n",
    "sns.barplot(toronto_restaurants[toronto_restaurants['review_count'] >500]['review_count'],\n",
    "            toronto_restaurants[toronto_restaurants['review_count'] >500]['name'],\n",
    "           palette = 'summer')\n",
    "plt.xlabel('')\n",
    "plt.title('Top review count of Toronto Restaurants');"
   ]
  },
  {
   "cell_type": "markdown",
   "metadata": {},
   "source": [
    "### REVIEW COUNT FOR AMERICAN CUISINE RESTAURANTS IN VEGAS"
   ]
  },
  {
   "cell_type": "code",
   "execution_count": null,
   "metadata": {},
   "outputs": [],
   "source": [
    "len(amer_rest)"
   ]
  },
  {
   "cell_type": "code",
   "execution_count": null,
   "metadata": {
    "scrolled": true
   },
   "outputs": [],
   "source": [
    "amer_rest = v_american_new.append(v_american_trad)\n",
    "\n",
    "amer_rest = amer_rest[~amer_rest.index.duplicated(keep='first')]\n",
    "\n",
    "print('Median review count',amer_rest['review_count'].median())\n",
    "plt.figure(figsize = (14,10))\n",
    "sns.barplot(amer_rest[amer_rest['review_count'] >2500]['review_count'],amer_rest[amer_rest['review_count'] >2500]['name'],\n",
    "           palette = 'summer')\n",
    "plt.xlabel('')\n",
    "plt.title('Top review count of American Cuisine Restaurants in Vegas');"
   ]
  },
  {
   "cell_type": "code",
   "execution_count": null,
   "metadata": {},
   "outputs": [],
   "source": [
    "a = ps.sqldf('''select name from amer_rest order by review_count desc limit 10''', locals())\n",
    "a.head()"
   ]
  },
  {
   "cell_type": "markdown",
   "metadata": {},
   "source": [
    "### REVIEW COUNT FOR CANADIAN CUISINE RESTAURANTS IN TORONTO"
   ]
  },
  {
   "cell_type": "code",
   "execution_count": null,
   "metadata": {
    "scrolled": true
   },
   "outputs": [],
   "source": [
    "can_rest = toronto_restaurants[toronto_restaurants['categories'].str.contains(\"Canadian \\(New\\)\") == True]\n",
    "\n",
    "\n",
    "print('Median review count',can_rest['review_count'].median())\n",
    "plt.figure(figsize = (14,10))\n",
    "sns.barplot(can_rest[can_rest['review_count'] >300]['review_count'],can_rest[can_rest['review_count'] >300]['name'],\n",
    "           palette = 'summer')\n",
    "plt.xlabel('')\n",
    "plt.title('Top review count of Canadian Cuisine Restaurants');"
   ]
  },
  {
   "cell_type": "markdown",
   "metadata": {},
   "source": [
    "### REVIEW COUNT BY RATINGS"
   ]
  },
  {
   "cell_type": "code",
   "execution_count": null,
   "metadata": {
    "scrolled": false
   },
   "outputs": [],
   "source": [
    "plt.figure(figsize=(12,4))\n",
    "ax = sns.countplot(amer_rest['stars'])\n",
    "plt.title('Distribution of rating for American Cusine in Las Vegas');"
   ]
  },
  {
   "cell_type": "code",
   "execution_count": null,
   "metadata": {},
   "outputs": [],
   "source": [
    "q = \"\"\"SELECT count(distinct business_id) as no_of_restaurants, stars FROM \n",
    "        (select business_id,\n",
    "        case \n",
    "            when stars < 3.5 then 'low'\n",
    "            when stars = 3.5 then 'med'\n",
    "            else 'high'\n",
    "        end as stars\n",
    "        from amer_rest)\n",
    "        group by stars \"\"\"\n",
    "\n",
    "a = ps.sqldf(q, locals())\n",
    "\n",
    "a.head()"
   ]
  },
  {
   "cell_type": "code",
   "execution_count": null,
   "metadata": {
    "scrolled": false
   },
   "outputs": [],
   "source": [
    "plt.figure(figsize=(12,4))\n",
    "ax = sns.countplot(can_rest['stars'])\n",
    "plt.title('Distribution of rating for Canadian Cusine in Toronto');"
   ]
  },
  {
   "cell_type": "code",
   "execution_count": null,
   "metadata": {},
   "outputs": [],
   "source": [
    "q1 = \"\"\"SELECT count(distinct business_id) as no_of_restaurants, stars FROM \n",
    "        (select business_id,\n",
    "        case \n",
    "            when stars < 3.5 then 'low'\n",
    "            when stars = 3.5 then 'med'\n",
    "            else 'high'\n",
    "        end as stars\n",
    "        from can_rest)\n",
    "        group by stars \"\"\"\n",
    "\n",
    "a = ps.sqldf(q1, locals())\n",
    "\n",
    "a.head()"
   ]
  },
  {
   "cell_type": "markdown",
   "metadata": {},
   "source": [
    "## CONCLUSION"
   ]
  },
  {
   "cell_type": "markdown",
   "metadata": {},
   "source": [
    "#### Based on the data exploration done here, it is found that we could get more restaurant datasets if we specify on American Cuisine in Las Vegas.\n",
    "\n",
    "#### Furthermore, the top restaurant with most reviews for American Cuisine in Vegas is nearly 10 times more than the top restaurant with most reviews for Canadian Cuisine in Toronto.\n",
    "\n",
    "#### Restaurants with most reviews within the 'American Cuisine in Vegas' dataset is Gordon Ramsay BurGR."
   ]
  },
  {
   "cell_type": "code",
   "execution_count": null,
   "metadata": {},
   "outputs": [],
   "source": [
    "vegas_restaurants.to_csv(\"vegas_rest.csv\", sep='\\t', encoding='utf-8')\n",
    "amer_rest.to_csv(\"american_restaurants.csv\", sep='\\t', encoding='utf-8')"
   ]
  }
 ],
 "metadata": {
  "kernelspec": {
   "display_name": "Python 3",
   "language": "python",
   "name": "python3"
  },
  "language_info": {
   "codemirror_mode": {
    "name": "ipython",
    "version": 3
   },
   "file_extension": ".py",
   "mimetype": "text/x-python",
   "name": "python",
   "nbconvert_exporter": "python",
   "pygments_lexer": "ipython3",
   "version": "3.7.0"
  }
 },
 "nbformat": 4,
 "nbformat_minor": 2
}
