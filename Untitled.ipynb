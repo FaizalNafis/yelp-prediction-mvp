{
 "cells": [
  {
   "cell_type": "code",
   "execution_count": 3,
   "metadata": {},
   "outputs": [],
   "source": [
    "import folium\n",
    "import re\n",
    "import fileinput\n",
    "import pandas as pd\n",
    "from folium import IFrame\n",
    "from folium import plugins"
   ]
  },
  {
   "cell_type": "code",
   "execution_count": 4,
   "metadata": {},
   "outputs": [],
   "source": [
    "TORONTO_COORDINATES = (43.6532, -79.3832)\n",
    "map = folium.Map(location=TORONTO_COORDINATES, zoom_start=11)"
   ]
  },
  {
   "cell_type": "code",
   "execution_count": 6,
   "metadata": {},
   "outputs": [
    {
     "data": {
      "text/plain": [
       "['address',\n",
       " 'BikeParking',\n",
       " 'BusinessAcceptsCreditCards',\n",
       " 'Caters',\n",
       " 'CoatCheck',\n",
       " 'GoodForKids',\n",
       " 'HappyHour',\n",
       " 'HasTV',\n",
       " 'OutdoorSeating',\n",
       " 'RestaurantsDelivery',\n",
       " 'RestaurantsGoodForGroups',\n",
       " 'RestaurantsReservations',\n",
       " 'RestaurantsTableService',\n",
       " 'RestaurantsTakeOut',\n",
       " 'WheelchairAccessible',\n",
       " 'business_id',\n",
       " 'categories',\n",
       " 'city',\n",
       " 'Friday',\n",
       " 'Monday',\n",
       " 'Saturday',\n",
       " 'Sunday',\n",
       " 'Thursday',\n",
       " 'Tuesday',\n",
       " 'Wednesday',\n",
       " 'latitude',\n",
       " 'longitude',\n",
       " 'name',\n",
       " 'neighborhood',\n",
       " 'postal_code',\n",
       " 'review_count',\n",
       " 'stars',\n",
       " 'state',\n",
       " 'ambience_romantic',\n",
       " 'ambience_intimate',\n",
       " 'ambience_classy',\n",
       " 'ambience_hipster',\n",
       " 'ambience_touristy',\n",
       " 'ambience_trendy',\n",
       " 'ambience_upscale',\n",
       " 'ambience_casual',\n",
       " 'good_for_dessert',\n",
       " 'good_for_latenight',\n",
       " 'good_for_lunch',\n",
       " 'good_for_dinner',\n",
       " 'good_for_breakfast',\n",
       " 'good_for_brunch',\n",
       " 'parking_garage',\n",
       " 'parking_street',\n",
       " 'parking_validated',\n",
       " 'parking_lot',\n",
       " 'parking_valet',\n",
       " 'TotalOpenTimeInWeek',\n",
       " 'NumberOfWeekdaysWithEarlyOpening',\n",
       " 'NumberOfWeekdaysWithLateClosing',\n",
       " 'OpenOnWeekends',\n",
       " 'bestnight_monday',\n",
       " 'bestnight_tuesday',\n",
       " 'bestnight_wednesday',\n",
       " 'bestnight_thursday',\n",
       " 'bestnight_friday',\n",
       " 'bestnight_saturday',\n",
       " 'bestnight_sunday',\n",
       " 'music_dj',\n",
       " 'music_background_music',\n",
       " 'music_no_music',\n",
       " 'music_karaoke',\n",
       " 'music_live',\n",
       " 'music_video',\n",
       " 'music_jukebox',\n",
       " 'full_bar',\n",
       " 'beer_and_wine',\n",
       " 'none',\n",
       " 'smoking_outdoor',\n",
       " 'smoking_no',\n",
       " 'smoking_yes',\n",
       " 'wifi_free',\n",
       " 'wifi_no',\n",
       " 'wifi_paid',\n",
       " 'noise_average',\n",
       " 'noise_loud',\n",
       " 'noise_quiet',\n",
       " 'noise_very_loud',\n",
       " 'price_range_1',\n",
       " 'price_range_2',\n",
       " 'price_range_3',\n",
       " 'price_range_4',\n",
       " 'attire_casual',\n",
       " 'attire_dressy',\n",
       " 'negative_reviews',\n",
       " 'neutral_reviews',\n",
       " 'positive_reviews']"
      ]
     },
     "execution_count": 6,
     "metadata": {},
     "output_type": "execute_result"
    }
   ],
   "source": [
    "df = pd.read_csv('datasets/vegas_sme_dataset.csv')"
   ]
  },
  {
   "cell_type": "code",
   "execution_count": null,
   "metadata": {},
   "outputs": [],
   "source": []
  }
 ],
 "metadata": {
  "kernelspec": {
   "display_name": "Python 3",
   "language": "python",
   "name": "python3"
  },
  "language_info": {
   "codemirror_mode": {
    "name": "ipython",
    "version": 3
   },
   "file_extension": ".py",
   "mimetype": "text/x-python",
   "name": "python",
   "nbconvert_exporter": "python",
   "pygments_lexer": "ipython3",
   "version": "3.7.0"
  }
 },
 "nbformat": 4,
 "nbformat_minor": 2
}
