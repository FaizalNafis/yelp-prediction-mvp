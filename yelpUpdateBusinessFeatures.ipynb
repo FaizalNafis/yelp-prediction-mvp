{
 "cells": [
  {
   "cell_type": "markdown",
   "metadata": {},
   "source": [
    "### Import Necessary Packages"
   ]
  },
  {
   "cell_type": "code",
   "execution_count": 40,
   "metadata": {},
   "outputs": [],
   "source": [
    "import pandas as pd\n",
    "import pandasql as ps\n",
    "import numpy as np\n",
    "import matplotlib.pyplot as plt\n",
    "import seaborn as sns\n",
    "import gc\n",
    "import json\n",
    "\n",
    "\n",
    "from pandas.io.json import json_normalize\n",
    "import nltk\n",
    "from nltk.corpus import stopwords \n",
    "from nltk.stem.porter import PorterStemmer\n",
    "from nltk.stem.wordnet import WordNetLemmatizer\n",
    "import string\n",
    "import re \n",
    "\n",
    "%matplotlib inline\n",
    "plt.style.use('fivethirtyeight')\n",
    "plt.style.use('bmh')"
   ]
  },
  {
   "cell_type": "markdown",
   "metadata": {},
   "source": [
    "### Load Datasets"
   ]
  },
  {
   "cell_type": "code",
   "execution_count": 41,
   "metadata": {},
   "outputs": [
    {
     "name": "stderr",
     "output_type": "stream",
     "text": [
      "C:\\Users\\User\\Anaconda3\\lib\\site-packages\\IPython\\core\\interactiveshell.py:2785: DtypeWarning: Columns (2,3) have mixed types. Specify dtype option on import or set low_memory=False.\n",
      "  interactivity=interactivity, compiler=compiler, result=result)\n"
     ]
    }
   ],
   "source": [
    "features_df = pd.read_csv(\"datasets/odyssey_restaurants.csv\")\n",
    "reviews_df = pd.read_csv(\"datasets/odyssey_sentiment.csv\")\n",
    "sentiment_df = pd.read_csv(\"datasets/odyssey_sentiment_grouped.csv\")"
   ]
  },
  {
   "cell_type": "markdown",
   "metadata": {},
   "source": [
    "### Manipulate Datasets Accordingly"
   ]
  },
  {
   "cell_type": "code",
   "execution_count": 42,
   "metadata": {},
   "outputs": [],
   "source": [
    "## Clean Out Data\n",
    "\n",
    "del(features_df['Unnamed: 0'])\n",
    "\n",
    "reviews_df = reviews_df[reviews_df['stars'] != 'stars']\n",
    "reviews_df['stars'] = reviews_df['stars'].map({'5': 5, '4': 4, '3': 3, '2': 2, '1': 1, 5: 5, 4: 4, 3: 3, 2: 2, 1: 1})"
   ]
  },
  {
   "cell_type": "code",
   "execution_count": 43,
   "metadata": {},
   "outputs": [],
   "source": [
    "## Pivot Sentiment Data\n",
    "\n",
    "sentiment_df = sentiment_df.pivot(index='business_id', columns='label', values='size')\n",
    "sentiment_df = sentiment_df.rename_axis(None, axis=1).reset_index() \n",
    "sentiment_df.columns = ['business_id', 'negative_reviews', 'neutral_reviews', 'positive_reviews']"
   ]
  },
  {
   "cell_type": "code",
   "execution_count": 44,
   "metadata": {},
   "outputs": [],
   "source": [
    "## Average out Actual Star-Ratings per business\n",
    "\n",
    "reviews_df = reviews_df[['business_id', 'stars']]\n",
    "reviews_df = reviews_df.groupby(['business_id']).mean().reset_index()"
   ]
  },
  {
   "cell_type": "code",
   "execution_count": 45,
   "metadata": {
    "scrolled": false
   },
   "outputs": [],
   "source": [
    "## Drop categorised Star Ratings\n",
    "\n",
    "features_df = features_df.drop(columns=['stars'])"
   ]
  },
  {
   "cell_type": "code",
   "execution_count": 47,
   "metadata": {},
   "outputs": [],
   "source": [
    "## Dummy Variables for City_Cuisine\n",
    "\n",
    "features_df['cat'] = features_df['city']+ \"_\" +features_df['cuisine']+ \"_\" +features_df['RestaurantsPriceRange2'].map(str)\n",
    "\n",
    "features_df = pd.concat([features_df,pd.get_dummies(features_df['cat'], prefix='cat')],axis=1)"
   ]
  },
  {
   "cell_type": "code",
   "execution_count": 48,
   "metadata": {},
   "outputs": [],
   "source": [
    "## Merge new columns into Features Dataset\n",
    "\n",
    "features_df = pd.merge(features_df, sentiment_df, how='left', on='business_id')\n",
    "features_df = pd.merge(features_df, reviews_df, on='business_id', how='left')"
   ]
  },
  {
   "cell_type": "markdown",
   "metadata": {},
   "source": [
    "### Data Checking"
   ]
  },
  {
   "cell_type": "code",
   "execution_count": 49,
   "metadata": {
    "scrolled": true
   },
   "outputs": [
    {
     "data": {
      "text/html": [
       "<div>\n",
       "<style scoped>\n",
       "    .dataframe tbody tr th:only-of-type {\n",
       "        vertical-align: middle;\n",
       "    }\n",
       "\n",
       "    .dataframe tbody tr th {\n",
       "        vertical-align: top;\n",
       "    }\n",
       "\n",
       "    .dataframe thead th {\n",
       "        text-align: right;\n",
       "    }\n",
       "</style>\n",
       "<table border=\"1\" class=\"dataframe\">\n",
       "  <thead>\n",
       "    <tr style=\"text-align: right;\">\n",
       "      <th></th>\n",
       "      <th>address</th>\n",
       "      <th>AcceptsInsurance</th>\n",
       "      <th>AgesAllowed</th>\n",
       "      <th>Alcohol</th>\n",
       "      <th>Ambience</th>\n",
       "      <th>BYOB</th>\n",
       "      <th>BYOBCorkage</th>\n",
       "      <th>BestNights</th>\n",
       "      <th>BikeParking</th>\n",
       "      <th>BusinessAcceptsBitcoin</th>\n",
       "      <th>...</th>\n",
       "      <th>cat_Toronto_chinese_nan</th>\n",
       "      <th>cat_Toronto_italian_1.0</th>\n",
       "      <th>cat_Toronto_italian_2.0</th>\n",
       "      <th>cat_Toronto_italian_3.0</th>\n",
       "      <th>cat_Toronto_italian_4.0</th>\n",
       "      <th>cat_Toronto_italian_nan</th>\n",
       "      <th>negative_reviews</th>\n",
       "      <th>neutral_reviews</th>\n",
       "      <th>positive_reviews</th>\n",
       "      <th>stars</th>\n",
       "    </tr>\n",
       "  </thead>\n",
       "  <tbody>\n",
       "    <tr>\n",
       "      <th>4555</th>\n",
       "      <td>6630 4 St NE</td>\n",
       "      <td>NaN</td>\n",
       "      <td>NaN</td>\n",
       "      <td>none</td>\n",
       "      <td>{'romantic': False, 'intimate': False, 'classy...</td>\n",
       "      <td>NaN</td>\n",
       "      <td>NaN</td>\n",
       "      <td>NaN</td>\n",
       "      <td>False</td>\n",
       "      <td>NaN</td>\n",
       "      <td>...</td>\n",
       "      <td>0</td>\n",
       "      <td>0</td>\n",
       "      <td>0</td>\n",
       "      <td>0</td>\n",
       "      <td>0</td>\n",
       "      <td>0</td>\n",
       "      <td>5.0</td>\n",
       "      <td>9.0</td>\n",
       "      <td>31.0</td>\n",
       "      <td>3.711111</td>\n",
       "    </tr>\n",
       "  </tbody>\n",
       "</table>\n",
       "<p>1 rows × 108 columns</p>\n",
       "</div>"
      ],
      "text/plain": [
       "           address  AcceptsInsurance AgesAllowed Alcohol  \\\n",
       "4555  6630 4 St NE               NaN         NaN    none   \n",
       "\n",
       "                                               Ambience BYOB BYOBCorkage  \\\n",
       "4555  {'romantic': False, 'intimate': False, 'classy...  NaN         NaN   \n",
       "\n",
       "     BestNights BikeParking BusinessAcceptsBitcoin    ...     \\\n",
       "4555        NaN       False                    NaN    ...      \n",
       "\n",
       "     cat_Toronto_chinese_nan cat_Toronto_italian_1.0 cat_Toronto_italian_2.0  \\\n",
       "4555                       0                       0                       0   \n",
       "\n",
       "     cat_Toronto_italian_3.0 cat_Toronto_italian_4.0 cat_Toronto_italian_nan  \\\n",
       "4555                       0                       0                       0   \n",
       "\n",
       "     negative_reviews neutral_reviews positive_reviews     stars  \n",
       "4555              5.0             9.0             31.0  3.711111  \n",
       "\n",
       "[1 rows x 108 columns]"
      ]
     },
     "execution_count": 49,
     "metadata": {},
     "output_type": "execute_result"
    }
   ],
   "source": [
    "features_df[features_df.business_id == 'jg37O7ANF7hqggS6bxUpcQ']"
   ]
  },
  {
   "cell_type": "code",
   "execution_count": 50,
   "metadata": {
    "scrolled": true
   },
   "outputs": [
    {
     "data": {
      "text/html": [
       "<div>\n",
       "<style scoped>\n",
       "    .dataframe tbody tr th:only-of-type {\n",
       "        vertical-align: middle;\n",
       "    }\n",
       "\n",
       "    .dataframe tbody tr th {\n",
       "        vertical-align: top;\n",
       "    }\n",
       "\n",
       "    .dataframe thead th {\n",
       "        text-align: right;\n",
       "    }\n",
       "</style>\n",
       "<table border=\"1\" class=\"dataframe\">\n",
       "  <thead>\n",
       "    <tr style=\"text-align: right;\">\n",
       "      <th></th>\n",
       "      <th>business_id</th>\n",
       "      <th>stars</th>\n",
       "    </tr>\n",
       "  </thead>\n",
       "  <tbody>\n",
       "    <tr>\n",
       "      <th>3217</th>\n",
       "      <td>jg37O7ANF7hqggS6bxUpcQ</td>\n",
       "      <td>3.711111</td>\n",
       "    </tr>\n",
       "  </tbody>\n",
       "</table>\n",
       "</div>"
      ],
      "text/plain": [
       "                 business_id     stars\n",
       "3217  jg37O7ANF7hqggS6bxUpcQ  3.711111"
      ]
     },
     "execution_count": 50,
     "metadata": {},
     "output_type": "execute_result"
    }
   ],
   "source": [
    "reviews_df[reviews_df.business_id == 'jg37O7ANF7hqggS6bxUpcQ']"
   ]
  },
  {
   "cell_type": "code",
   "execution_count": 51,
   "metadata": {},
   "outputs": [
    {
     "data": {
      "text/plain": [
       "['address',\n",
       " 'AcceptsInsurance',\n",
       " 'AgesAllowed',\n",
       " 'Alcohol',\n",
       " 'Ambience',\n",
       " 'BYOB',\n",
       " 'BYOBCorkage',\n",
       " 'BestNights',\n",
       " 'BikeParking',\n",
       " 'BusinessAcceptsBitcoin',\n",
       " 'BusinessAcceptsCreditCards',\n",
       " 'BusinessParking',\n",
       " 'ByAppointmentOnly',\n",
       " 'Caters',\n",
       " 'CoatCheck',\n",
       " 'Corkage',\n",
       " 'DietaryRestrictions',\n",
       " 'DogsAllowed',\n",
       " 'DriveThru',\n",
       " 'GoodForDancing',\n",
       " 'GoodForKids',\n",
       " 'GoodForMeal',\n",
       " 'HairSpecializesIn',\n",
       " 'HappyHour',\n",
       " 'HasTV',\n",
       " 'Music',\n",
       " 'NoiseLevel',\n",
       " 'Open24Hours',\n",
       " 'OutdoorSeating',\n",
       " 'RestaurantsAttire',\n",
       " 'RestaurantsCounterService',\n",
       " 'RestaurantsDelivery',\n",
       " 'RestaurantsGoodForGroups',\n",
       " 'RestaurantsPriceRange2',\n",
       " 'RestaurantsReservations',\n",
       " 'RestaurantsTableService',\n",
       " 'RestaurantsTakeOut',\n",
       " 'Smoking',\n",
       " 'WheelchairAccessible',\n",
       " 'WiFi',\n",
       " 'business_id',\n",
       " 'categories',\n",
       " 'city',\n",
       " 'Friday',\n",
       " 'Monday',\n",
       " 'Saturday',\n",
       " 'Sunday',\n",
       " 'Thursday',\n",
       " 'Tuesday',\n",
       " 'Wednesday',\n",
       " 'is_open',\n",
       " 'latitude',\n",
       " 'longitude',\n",
       " 'name',\n",
       " 'neighborhood',\n",
       " 'postal_code',\n",
       " 'review_count',\n",
       " 'state',\n",
       " 'cuisine',\n",
       " 'cat',\n",
       " 'cat_Calgary_american_1.0',\n",
       " 'cat_Calgary_american_2.0',\n",
       " 'cat_Calgary_american_3.0',\n",
       " 'cat_Calgary_american_4.0',\n",
       " 'cat_Calgary_american_nan',\n",
       " 'cat_Calgary_chinese_1.0',\n",
       " 'cat_Calgary_chinese_2.0',\n",
       " 'cat_Calgary_chinese_3.0',\n",
       " 'cat_Calgary_chinese_nan',\n",
       " 'cat_Calgary_italian_1.0',\n",
       " 'cat_Calgary_italian_2.0',\n",
       " 'cat_Calgary_italian_3.0',\n",
       " 'cat_Calgary_italian_4.0',\n",
       " 'cat_Calgary_italian_nan',\n",
       " 'cat_Las Vegas_american_1.0',\n",
       " 'cat_Las Vegas_american_2.0',\n",
       " 'cat_Las Vegas_american_3.0',\n",
       " 'cat_Las Vegas_american_4.0',\n",
       " 'cat_Las Vegas_american_nan',\n",
       " 'cat_Las Vegas_chinese_1.0',\n",
       " 'cat_Las Vegas_chinese_2.0',\n",
       " 'cat_Las Vegas_chinese_3.0',\n",
       " 'cat_Las Vegas_chinese_4.0',\n",
       " 'cat_Las Vegas_chinese_nan',\n",
       " 'cat_Las Vegas_italian_1.0',\n",
       " 'cat_Las Vegas_italian_2.0',\n",
       " 'cat_Las Vegas_italian_3.0',\n",
       " 'cat_Las Vegas_italian_4.0',\n",
       " 'cat_Las Vegas_italian_nan',\n",
       " 'cat_Toronto_american_1.0',\n",
       " 'cat_Toronto_american_2.0',\n",
       " 'cat_Toronto_american_3.0',\n",
       " 'cat_Toronto_american_4.0',\n",
       " 'cat_Toronto_american_nan',\n",
       " 'cat_Toronto_chinese_1.0',\n",
       " 'cat_Toronto_chinese_2.0',\n",
       " 'cat_Toronto_chinese_3.0',\n",
       " 'cat_Toronto_chinese_4.0',\n",
       " 'cat_Toronto_chinese_nan',\n",
       " 'cat_Toronto_italian_1.0',\n",
       " 'cat_Toronto_italian_2.0',\n",
       " 'cat_Toronto_italian_3.0',\n",
       " 'cat_Toronto_italian_4.0',\n",
       " 'cat_Toronto_italian_nan',\n",
       " 'negative_reviews',\n",
       " 'neutral_reviews',\n",
       " 'positive_reviews',\n",
       " 'stars']"
      ]
     },
     "execution_count": 51,
     "metadata": {},
     "output_type": "execute_result"
    }
   ],
   "source": [
    "list(features_df)"
   ]
  },
  {
   "cell_type": "markdown",
   "metadata": {},
   "source": [
    "### Save Updated Business Features Dataset"
   ]
  },
  {
   "cell_type": "code",
   "execution_count": 52,
   "metadata": {},
   "outputs": [],
   "source": [
    "features_df.to_csv('datasets/odyssey_features.csv', index = False)"
   ]
  },
  {
   "cell_type": "code",
   "execution_count": null,
   "metadata": {},
   "outputs": [],
   "source": []
  }
 ],
 "metadata": {
  "kernelspec": {
   "display_name": "Python 3",
   "language": "python",
   "name": "python3"
  },
  "language_info": {
   "codemirror_mode": {
    "name": "ipython",
    "version": 3
   },
   "file_extension": ".py",
   "mimetype": "text/x-python",
   "name": "python",
   "nbconvert_exporter": "python",
   "pygments_lexer": "ipython3",
   "version": "3.7.0"
  }
 },
 "nbformat": 4,
 "nbformat_minor": 2
}
