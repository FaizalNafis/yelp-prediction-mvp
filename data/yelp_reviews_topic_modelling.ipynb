{
 "cells": [
  {
   "cell_type": "markdown",
   "metadata": {},
   "source": [
    "## Yelp Reviews Topic Modelling\n",
    "\n",
    "Create topic groups by analysing positive and negative review datasets per cuisine/location combination and save to CSV file.  \n",
    "Reference : *https://github.com/Vishwacorp/yelp_nlp/blob/master/2_text_processing.ipynb*"
   ]
  },
  {
   "cell_type": "markdown",
   "metadata": {},
   "source": [
    "### Import Necessary Packages & Modules"
   ]
  },
  {
   "cell_type": "code",
   "execution_count": 27,
   "metadata": {},
   "outputs": [],
   "source": [
    "from pprint import pprint\n",
    "import numpy as np\n",
    "import pandas as pd\n",
    "import requests\n",
    "import matplotlib.pyplot as plt\n",
    "import seaborn as sns\n",
    "from zipfile import ZipFile\n",
    "from io import BytesIO\n",
    "from IPython.core.interactiveshell import InteractiveShell\n",
    "from IPython.display import display, HTML\n",
    "from sklearn.feature_extraction import text  # Stopwords\n",
    "from sklearn.feature_extraction.text import TfidfVectorizer # for TFIDF Vectoriser\n",
    "from gensim import corpora, models, similarities, matutils # for LSA\n",
    "from sklearn.decomposition import NMF # to run Non-negative matrix factorization \n",
    "import sklearn.metrics.pairwise as smp # to compute cosine similarities\n",
    "from sklearn.feature_extraction.text import CountVectorizer \n",
    "\n",
    "%matplotlib inline\n",
    "sns.set()"
   ]
  },
  {
   "cell_type": "markdown",
   "metadata": {},
   "source": [
    "### Load Datasets "
   ]
  },
  {
   "cell_type": "code",
   "execution_count": 4,
   "metadata": {},
   "outputs": [
    {
     "name": "stderr",
     "output_type": "stream",
     "text": [
      "C:\\Users\\User\\Anaconda3\\lib\\site-packages\\IPython\\core\\interactiveshell.py:2785: DtypeWarning: Columns (2,3) have mixed types. Specify dtype option on import or set low_memory=False.\n",
      "  interactivity=interactivity, compiler=compiler, result=result)\n"
     ]
    }
   ],
   "source": [
    "## Load Business Features & Reviews\n",
    "\n",
    "restaurants_df = pd.read_csv(\"datasets/odyssey_restaurants.csv\") # Business Feature dataset\n",
    "reviews_df = pd.read_csv(\"datasets/odyssey_sentiment.csv\") # Review dataset\n"
   ]
  },
  {
   "cell_type": "markdown",
   "metadata": {},
   "source": [
    "### Run Data Manipulaltion"
   ]
  },
  {
   "cell_type": "code",
   "execution_count": 5,
   "metadata": {},
   "outputs": [],
   "source": [
    "# Remove Unwanted Variable [Index]\n",
    "\n",
    "del(restaurants_df['Unnamed: 0'])\n",
    "\n",
    "# del(reviews_df['Unnamed: 0'])\n",
    "\n",
    "# restaurants_df = restaurants_df[restaurants_df['RestaurantsPriceRange2'] == 2]\n",
    "# reviews_df = reviews_df.loc[reviews_df['business_id'].isin(restaurants_df.business_id)]\n"
   ]
  },
  {
   "cell_type": "code",
   "execution_count": 6,
   "metadata": {},
   "outputs": [],
   "source": [
    "# Merge Required Variables from Business_Features \n",
    "\n",
    "reviews_df = reviews_df.merge(restaurants_df[['business_id', 'name', 'city','latitude','longitude','cuisine']],\\\n",
    "                              left_on='business_id', right_on='business_id'\\\n",
    "                             )[['business_id', 'name', 'city','latitude','longitude','cuisine', 'stars', 'text','label']]\n",
    "\n",
    "reviews_df= reviews_df.drop_duplicates()"
   ]
  },
  {
   "cell_type": "code",
   "execution_count": 7,
   "metadata": {},
   "outputs": [
    {
     "data": {
      "text/plain": [
       "array([1, 3, 5, 4, 2, '1', '5', '3', '4', '2'], dtype=object)"
      ]
     },
     "execution_count": 7,
     "metadata": {},
     "output_type": "execute_result"
    }
   ],
   "source": [
    "# Check Star-ratings Types\n",
    "\n",
    "reviews_df['stars'].unique()\n",
    "\n",
    "# reviews_df = reviews_df[reviews_df['stars'] != 'stars']"
   ]
  },
  {
   "cell_type": "code",
   "execution_count": 8,
   "metadata": {},
   "outputs": [
    {
     "data": {
      "text/plain": [
       "array([1, 3, 5, 4, 2], dtype=int64)"
      ]
     },
     "execution_count": 8,
     "metadata": {},
     "output_type": "execute_result"
    }
   ],
   "source": [
    "# Amend Star-ratings for consistency & effectiveness\n",
    "\n",
    "reviews_df['stars'] = reviews_df['stars'].map({'5': 5, '4': 4, '3': 3, '2': 2, '1': 1, 5: 5, 4: 4, 3: 3, 2: 2, 1: 1})\n",
    "\n",
    "reviews_df['stars'].unique()"
   ]
  },
  {
   "cell_type": "code",
   "execution_count": 9,
   "metadata": {
    "scrolled": true
   },
   "outputs": [
    {
     "data": {
      "image/png": "[encoded data removed]",
      "text/plain": [
       "<Figure size 1080x216 with 5 Axes>"
      ]
     },
     "metadata": {
      "needs_background": "light"
     },
     "output_type": "display_data"
    }
   ],
   "source": [
    "# Check distribution of length of Reviews\n",
    "\n",
    "reviews_df['review_length'] = reviews_df.text.map(len)\n",
    "\n",
    "ax = sns.FacetGrid(data=reviews_df, col='stars', xlim=(0, 2000)).map(plt.hist, 'review_length', bins=50)\n",
    "\n",
    "ax.axes[0][1].set(ylabel='number of reviews');"
   ]
  },
  {
   "cell_type": "markdown",
   "metadata": {},
   "source": [
    "We can see here that generally, the higher ratings a reviews received, the longer the  review is."
   ]
  },
  {
   "cell_type": "markdown",
   "metadata": {},
   "source": [
    "### Run for specific City+Cuisine (to have different list of Topics per combination)"
   ]
  },
  {
   "cell_type": "code",
   "execution_count": 10,
   "metadata": {},
   "outputs": [
    {
     "name": "stdout",
     "output_type": "stream",
     "text": [
      "Postive Reviews:  26,480\n",
      "Negative Reviews:  5,134\n"
     ]
    }
   ],
   "source": [
    "# Split positive & negative reviews according to results of Sentiment Analysis\n",
    "\n",
    "pos_reviews = reviews_df.text[(reviews_df.city == 'Toronto') & (reviews_df.cuisine == 'american') &\\\n",
    "                              (reviews_df.label == 1)].values # change city name and cuisine type\n",
    "\n",
    "neg_reviews = reviews_df.text[(reviews_df.city == 'Toronto') & (reviews_df.cuisine == 'american') &\\\n",
    "                              (reviews_df.label == -1)].values # change city name and cuisine type\n",
    "\n",
    "print('Postive Reviews:  {:,}'.format(len(pos_reviews)))\n",
    "print('Negative Reviews:  {:,}'.format(len(neg_reviews)))"
   ]
  },
  {
   "cell_type": "markdown",
   "metadata": {},
   "source": [
    "### Proceed with analysing texts"
   ]
  },
  {
   "cell_type": "code",
   "execution_count": 60,
   "metadata": {},
   "outputs": [],
   "source": [
    "# Add additional stopwords \n",
    "\n",
    "extrawords = ['ve', 'like', 'got', 'american','toronto','just', \n",
    "               'don', 'really', 'said', 'told', 'ok',\n",
    "               'came', 'went', 'did', 'didn', 'good', 'kim', 'pho']\n",
    "stopwords = text.ENGLISH_STOP_WORDS.union(extra_words)"
   ]
  },
  {
   "cell_type": "markdown",
   "metadata": {},
   "source": [
    "### TFIDF Vectoriser"
   ]
  },
  {
   "cell_type": "code",
   "execution_count": 29,
   "metadata": {},
   "outputs": [],
   "source": [
    "# Run TFIDF Vectoriser\n",
    "\n",
    "# Create vectoriser objects to get counts of term document\n",
    "pos_tfidf = TfidfVectorizer(stop_words=stopwords, min_df=10, max_df=0.5, \n",
    "                        ngram_range=(1,1), token_pattern='[a-z][a-z]+')\n",
    "\n",
    "neg_tfidf = TfidfVectorizer(stop_words=stopwords, min_df=10, max_df=0.5, \n",
    "                        ngram_range=(1,1), token_pattern='[a-z][a-z]+')\n",
    "\n",
    "# Get random subset of reviews\n",
    "\n",
    "np.random.seed(23)\n",
    "num_reviews = 17500\n",
    "pos_random = np.random.choice(pos_reviews, size=num_reviews)\n",
    "neg_random = np.random.choice(neg_reviews, size=num_reviews)\n",
    "\n",
    "\n",
    "dictionary = {'pizzas':'pizza', 'burgers':'burger', 'ordered':'order',\n",
    "         'prices':'price', 'topping':'toppings', 'noodle':'noodles', 'dumpling':'dumplings'}\n",
    "\n",
    "def replace_words(text, dictionary):\n",
    "    for i,j in dictionary.items():\n",
    "        text = text.replace(i,j)\n",
    "    return text # Returns text with word substitutions made according to the passed dictionary.\n",
    "\n",
    "pos_random = [replace_words(w, dictionary) for w in pos_random]\n",
    "neg_random = [replace_words(w, dictionary) for w in neg_random]\n",
    "\n",
    "# Obtain the vectors by fitting the vocabulary.\n",
    "pos_vectors = pos_tfidf.fit_transform(pos_random)\n",
    "neg_vectors = neg_tfidf.fit_transform(neg_random)\n"
   ]
  },
  {
   "cell_type": "code",
   "execution_count": 30,
   "metadata": {},
   "outputs": [
    {
     "name": "stdout",
     "output_type": "stream",
     "text": [
      "Top 10 words in Positive reviews:[('great',), ('place',), ('service',), ('order',), ('chicken',), ('time',), ('nice',), ('burger',), ('menu',), ('restaurant',)]\n",
      "Top 10 words in Negative reviews:[('service',), ('place',), ('order',), ('time',), ('restaurant',), ('chicken',), ('burger',), ('bad',), ('server',), ('table',)]\n"
     ]
    }
   ],
   "source": [
    "# Store TFIDF vectors in a Pandas DF for further analysis\n",
    "\n",
    "pos_df = pd.DataFrame(pos_vectors.todense(), columns=[pos_tfidf.get_feature_names()])\n",
    "neg_df = pd.DataFrame(neg_vectors.todense(), columns=[neg_tfidf.get_feature_names()])\n",
    "\n",
    "# get mean for each column (word): highest means are most important words\n",
    "\n",
    "col_means_neg = {}\n",
    "for col in neg_df:\n",
    "    col_means_neg[col] = neg_df[col].mean()\n",
    "\n",
    "col_means_pos = {}\n",
    "for col in pos_df:\n",
    "    col_means_pos[col] = pos_df[col].mean()\n",
    "    \n",
    "num_top_words = 10\n",
    "\n",
    "# Print Top Words for Positive & Negative Reviews\n",
    "\n",
    "print('Top %d words in Positive reviews:' %num_top_words, end='')\n",
    "print(sorted(col_means_pos, key=col_means_pos.get, reverse=True)[:num_top_words])\n",
    "\n",
    "print('Top %d words in Negative reviews:' %num_top_words, end='')\n",
    "print(sorted(col_means_neg, key=col_means_neg.get, reverse=True)[:num_top_words])"
   ]
  },
  {
   "cell_type": "markdown",
   "metadata": {},
   "source": [
    "Analysis on TFIDF:\n",
    "\n",
    "i. Top 10 words for positive & negative reviews revolve around general atmosphere or/and service.\n",
    "\n",
    "ii. Some differences between the tow categories (pos/neg) are mainly on adjective i.e. nice,great,bad.\n",
    "\n",
    "iii. Hence, analysis on topics found in reviews need to proceed further than just the top words, and analyse other words that possibly group together within the same descriptions."
   ]
  },
  {
   "cell_type": "code",
   "execution_count": 31,
   "metadata": {},
   "outputs": [],
   "source": [
    "# Remove DataFrames to save memory\n",
    "del pos_df\n",
    "del neg_df"
   ]
  },
  {
   "cell_type": "markdown",
   "metadata": {},
   "source": [
    "### Latent Semantic Analysis (LSA)"
   ]
  },
  {
   "cell_type": "code",
   "execution_count": 32,
   "metadata": {},
   "outputs": [],
   "source": [
    "# Prepare for Latent Semantic Analysis (LSA)\n",
    "\n",
    "# Convert sparse matrix (of counts) to a gensim corpus\n",
    "# Genism requires terms by docs hence, transpose the matrix \n",
    "\n",
    "pos_corpus = matutils.Sparse2Corpus(pos_vectors.transpose())\n",
    "neg_corpus = matutils.Sparse2Corpus(neg_vectors.transpose())\n",
    "\n",
    "# Row indices\n",
    "pos_id2word = dict((v,k) for k,v in pos_tfidf.vocabulary_.items())\n",
    "neg_id2word = dict((v,k) for k,v in neg_tfidf.vocabulary_.items())\n",
    "\n",
    "# Run corpora (for Python 3 only)\n",
    "id2word_pos = corpora.Dictionary.from_corpus(pos_corpus, id2word=pos_id2word)\n",
    "id2word_neg = corpora.Dictionary.from_corpus(neg_corpus, id2word=neg_id2word)"
   ]
  },
  {
   "cell_type": "code",
   "execution_count": 33,
   "metadata": {},
   "outputs": [],
   "source": [
    "# Create the LSA model\n",
    "num_of_topics = 7\n",
    "lsa_pos = models.LsiModel(pos_corpus, id2word=id2word_pos, num_topics=num_of_topics)\n",
    "lsa_neg = models.LsiModel(neg_corpus, id2word=id2word_neg, num_topics=num_of_topics)"
   ]
  },
  {
   "cell_type": "code",
   "execution_count": 34,
   "metadata": {
    "scrolled": true
   },
   "outputs": [
    {
     "data": {
      "image/png": "[encoded data removed]",
      "text/plain": [
       "<Figure size 720x288 with 1 Axes>"
      ]
     },
     "metadata": {},
     "output_type": "display_data"
    }
   ],
   "source": [
    "# Plot the LSA Relative Topic Strength\n",
    "\n",
    "pos_singular_values = lsa_pos.projection.s.tolist()\n",
    "pos_rel = [sv/pos_singular_values[-1] for sv in pos_singular_values]\n",
    "neg_singular_values = lsa_neg.projection.s.tolist()\n",
    "neg_rel = [sv/neg_singular_values[-1] for sv in neg_singular_values]\n",
    "\n",
    "plt.style.use('ggplot')\n",
    "plt.figure(figsize=(10,4))\n",
    "plt.plot(range(len(pos_singular_values)), pos_rel, label='Positive Reviews', alpha=1.0)\n",
    "plt.plot(range(len(neg_singular_values)), neg_rel, label='Negative Reviews', alpha=0.7)\n",
    "plt.xticks(range(len(pos_singular_values)), range(len(pos_singular_values)))\n",
    "plt.xlabel('Num of Topics')\n",
    "plt.ylabel('Relative Strength')\n",
    "plt.title('LSA Relative Topic Strengths', color = 'black')\n",
    "plt.legend(framealpha = 0, loc = 'best');"
   ]
  },
  {
   "cell_type": "markdown",
   "metadata": {},
   "source": [
    "The LSA relative plot above shows that the 1st topic is about 2.5 times stronger than rest of the topics i.e.concept of diminishing returns can be observed. \n",
    "\n",
    "For further analyses, we shall choose top 5 or 6 topics"
   ]
  },
  {
   "cell_type": "code",
   "execution_count": 35,
   "metadata": {},
   "outputs": [],
   "source": [
    "topics = 5"
   ]
  },
  {
   "cell_type": "code",
   "execution_count": 36,
   "metadata": {},
   "outputs": [
    {
     "name": "stdout",
     "output_type": "stream",
     "text": [
      "Top 5 Topics on Positive reviews\n",
      "--------------------------------------------------\n",
      "[(0,\n",
      "  '0.212*\"great\" + 0.199*\"place\" + 0.161*\"service\" + 0.151*\"order\" + '\n",
      "  '0.133*\"chicken\" + 0.128*\"time\" + 0.125*\"burger\" + 0.123*\"nice\" + '\n",
      "  '0.119*\"menu\" + 0.117*\"restaurant\"'),\n",
      " (1,\n",
      "  '0.459*\"great\" + -0.313*\"chicken\" + -0.228*\"burger\" + 0.221*\"place\" + '\n",
      "  '0.169*\"service\" + -0.158*\"fried\" + -0.158*\"order\" + -0.156*\"fries\" + '\n",
      "  '0.142*\"drinks\" + 0.136*\"atmosphere\"'),\n",
      " (2,\n",
      "  '-0.691*\"burger\" + -0.237*\"fries\" + -0.167*\"wings\" + -0.150*\"place\" + '\n",
      "  '-0.134*\"great\" + -0.133*\"beer\" + 0.121*\"restaurant\" + 0.111*\"dessert\" + '\n",
      "  '0.110*\"brunch\" + 0.097*\"dish\"'),\n",
      " (3,\n",
      "  '-0.386*\"brunch\" + -0.329*\"chicken\" + 0.231*\"burger\" + -0.211*\"eggs\" + '\n",
      "  '-0.203*\"breakfast\" + -0.197*\"pancakes\" + -0.162*\"waffles\" + -0.152*\"fried\" '\n",
      "  '+ -0.135*\"great\" + 0.127*\"restaurant\"'),\n",
      " (4,\n",
      "  '0.428*\"burger\" + -0.414*\"wings\" + -0.323*\"chicken\" + 0.292*\"brunch\" + '\n",
      "  '0.186*\"eggs\" + 0.169*\"breakfast\" + 0.166*\"pancakes\" + -0.163*\"ribs\" + '\n",
      "  '-0.143*\"bar\" + -0.138*\"beer\"')]\n"
     ]
    }
   ],
   "source": [
    "# Review top Positive Topics\n",
    "print('Top %d Topics on Positive reviews' %(topics))\n",
    "print('-'*50)\n",
    "pprint(lsa_pos.show_topics()[0:topics])"
   ]
  },
  {
   "cell_type": "code",
   "execution_count": 37,
   "metadata": {},
   "outputs": [
    {
     "name": "stdout",
     "output_type": "stream",
     "text": [
      "Top 5 Topics on Negative reviews\n",
      "--------------------------------------------------\n",
      "[(0,\n",
      "  '0.226*\"service\" + 0.202*\"order\" + 0.191*\"place\" + 0.164*\"time\" + '\n",
      "  '0.132*\"restaurant\" + 0.129*\"minutes\" + 0.129*\"server\" + 0.128*\"table\" + '\n",
      "  '0.121*\"chicken\" + 0.118*\"bad\"'),\n",
      " (1,\n",
      "  '0.434*\"burger\" + 0.296*\"chicken\" + 0.237*\"fries\" + -0.212*\"minutes\" + '\n",
      "  '-0.188*\"table\" + -0.133*\"service\" + 0.132*\"dry\" + 0.119*\"sandwich\" + '\n",
      "  '-0.118*\"wait\" + -0.117*\"server\"'),\n",
      " (2,\n",
      "  '-0.439*\"burger\" + 0.314*\"place\" + -0.254*\"minutes\" + -0.217*\"order\" + '\n",
      "  '0.179*\"bar\" + -0.155*\"took\" + 0.141*\"great\" + -0.135*\"table\" + '\n",
      "  '-0.135*\"fries\" + -0.121*\"waited\"'),\n",
      " (3,\n",
      "  '-0.601*\"burger\" + 0.478*\"chicken\" + 0.195*\"wings\" + -0.189*\"place\" + '\n",
      "  '-0.157*\"bar\" + 0.155*\"order\" + 0.117*\"sandwich\" + 0.102*\"waffles\" + '\n",
      "  '-0.101*\"beer\" + -0.083*\"drinks\"'),\n",
      " (4,\n",
      "  '-0.560*\"wings\" + -0.270*\"bar\" + -0.202*\"beer\" + 0.202*\"service\" + '\n",
      "  '0.152*\"eggs\" + 0.134*\"restaurant\" + -0.132*\"chicken\" + 0.128*\"brunch\" + '\n",
      "  '0.126*\"breakfast\" + 0.107*\"steak\"')]\n"
     ]
    }
   ],
   "source": [
    "# Review top Negative Topics\n",
    "print('Top %d Topics on Negative reviews' %(topics))\n",
    "print('-'*50)\n",
    "pprint(lsa_neg.show_topics()[0:topics])"
   ]
  },
  {
   "cell_type": "code",
   "execution_count": 38,
   "metadata": {},
   "outputs": [],
   "source": [
    "# Transform Negative values from LSA Outputs, using Non-negative matrix factorization (NMF)\n",
    "\n",
    "# Change number of topics:\n",
    "num_of_topics = 6\n",
    "\n",
    "# Run NMF\n",
    "pos_nmf = NMF(n_components=num_of_topics)\n",
    "pos_w = pos_nmf.fit_transform(pos_vectors)\n",
    "pos_h = pos_nmf.components_\n",
    "\n",
    "neg_nmf = NMF(n_components=num_of_topics)\n",
    "neg_w = neg_nmf.fit_transform(neg_vectors)\n",
    "neg_h = neg_nmf.components_"
   ]
  },
  {
   "cell_type": "code",
   "execution_count": 39,
   "metadata": {},
   "outputs": [
    {
     "name": "stdout",
     "output_type": "stream",
     "text": [
      "Top topics + words for Positive reviews\n",
      "----------------------------------------------------------------------------------------------------\n",
      "Topic 0:   1.691*place, 1.139*bar, 0.919*beer, 0.869*drinks, 0.765*wings, 0.582*nice, 0.569*night\n",
      "Topic 1:   2.309*great, 0.841*service, 0.561*atmosphere, 0.538*staff, 0.535*amazing, 0.509*friendly, 0.316*place\n",
      "Topic 2:   2.764*burger, 0.787*fries, 0.281*onion, 0.278*rings, 0.240*patty, 0.214*bun, 0.210*order\n",
      "Topic 3:   1.616*brunch, 0.964*eggs, 0.891*breakfast, 0.858*pancakes, 0.571*wait, 0.520*toast, 0.467*coffee\n",
      "Topic 4:   1.846*chicken, 0.823*fried, 0.600*ribs, 0.505*sandwich, 0.496*pork, 0.486*sauce, 0.441*bbq\n",
      "Topic 5:   0.796*restaurant, 0.784*order, 0.622*menu, 0.557*meal, 0.536*dessert, 0.517*experience, 0.470*table\n",
      "\n",
      "\n",
      "Top topics + words for Negative reviews\n",
      "----------------------------------------------------------------------------------------------------\n",
      "Topic 0:   2.038*place, 1.123*bar, 0.713*beer, 0.572*drinks, 0.501*people, 0.464*night, 0.416*patio\n",
      "Topic 1:   1.805*chicken, 0.710*sandwich, 0.687*order, 0.679*salad, 0.591*fries, 0.472*dry, 0.462*cheese\n",
      "Topic 2:   1.209*minutes, 1.106*table, 0.979*order, 0.842*server, 0.777*time, 0.760*wait, 0.758*asked\n",
      "Topic 3:   2.860*burger, 0.709*fries, 0.281*bun, 0.281*patty, 0.270*onion, 0.267*cheese, 0.233*rings\n",
      "Topic 4:   2.430*wings, 0.324*sauce, 0.232*order, 0.219*wing, 0.213*beer, 0.210*louis, 0.199*ribs\n",
      "Topic 5:   2.181*service, 0.792*slow, 0.752*bad, 0.710*horrible, 0.655*terrible, 0.499*poor, 0.438*great\n"
     ]
    }
   ],
   "source": [
    "def display_topics(model, feature_names, num_topics, no_top_words):\n",
    "    for topic_idx, topic in enumerate(model.components_):\n",
    "        if topic_idx < num_topics:\n",
    "            print(\"{:11}\".format(\"Topic %d:\" %(topic_idx)), end='')\n",
    "            print(\", \".join(['{:04.3f}*'.format(topic[i])+feature_names[i] \\\n",
    "                             for i in topic.argsort()[:-no_top_words-1:-1]]))\n",
    "\n",
    "num_topics = num_of_topics\n",
    "num_top_words = 7\n",
    "\n",
    "print('Top topics + words for Positive reviews')\n",
    "print('-'*100)\n",
    "display_topics(pos_nmf, pos_tfidf.get_feature_names(), num_topics, num_top_words)\n",
    "\n",
    "print('')\n",
    "print('')\n",
    "\n",
    "print('Top topics + words for Negative reviews')\n",
    "print('-'*100)\n",
    "display_topics(neg_nmf, neg_tfidf.get_feature_names(), num_topics, num_top_words)"
   ]
  },
  {
   "cell_type": "markdown",
   "metadata": {},
   "source": [
    "### Have a look at Similarities of Reviews using NMF"
   ]
  },
  {
   "cell_type": "code",
   "execution_count": 40,
   "metadata": {},
   "outputs": [
    {
     "name": "stdout",
     "output_type": "stream",
     "text": [
      "1635\n",
      "I went to Canoe on Sunday for their Summerlicious promotion and it was AMAZING! The menu was definitely a \"best of Canoe\" menu which isn't usually the case for restaurants with Summerlicious promotions. I had the spinach salad followed by the Alberta beef sirloin and the chocolate ganache for dessert. My date had the lamb as an entree which was equally amazing! This place lives up to the hype and is definitely worth the price. Amazing service, ambiance (the view!) and food and will definitely be going back!\n"
     ]
    }
   ],
   "source": [
    "# Select a Random Positive Review\n",
    "\n",
    "review_num = np.random.randint(0, high=len(pos_random))\n",
    "print(review_num)\n",
    "print(pos_random[review_num])"
   ]
  },
  {
   "cell_type": "code",
   "execution_count": 41,
   "metadata": {},
   "outputs": [],
   "source": [
    "# Compute cosine similarities (smp) of review with all other reviews in the new space\n",
    "\n",
    "cosine = {}\n",
    "for ind, review in enumerate(pos_w):\n",
    "    similarity = smp.cosine_similarity(pos_w[review_num].reshape(1,-1), review.reshape(1,-1))\n",
    "    cosine[ind] = similarity[0][0]"
   ]
  },
  {
   "cell_type": "code",
   "execution_count": 42,
   "metadata": {},
   "outputs": [
    {
     "name": "stdout",
     "output_type": "stream",
     "text": [
      "--------------------------------------------------\n",
      ">> Similarity 1.000\n",
      "Had a wonderful time on my birthday in July 2016. \r",
      "\r\n",
      "\r",
      "\r\n",
      "On my way back from Eriau, ON where we AirBNB'ed we stopped in for a great meal. Chef Lynn Crawford was plating and she was very approachable. She was very interested in who we were and asked for my name. 30 mins after wrapping up my meal she said by Stefan. \r",
      "\r\n",
      "\r",
      "\r\n",
      "Ok let's get down to foof. The salad we had is probably the best salad I ever had, simple as that. Cocktails were well prepared. Ambience was great, nice buzz, cozy but you can laugh loud if you want. The wait staff is top notch and converse easily with you. I would suggest anyone try it. They are very accomodating to food allergies. As my fellow diner had dairy allergy she said she could \"tough it out\" the waiter said \"We don't do it like that here. We do it right.\"  She had no pains whatosever and adjusted the whole five course meal to what she could have. \r",
      "\r\n",
      "\r",
      "\r\n",
      "Well done Ruby. P.S. The name of the restaurant is based on a sign they found and just put it on the wall. lol\n",
      "--------------------------------------------------\n",
      ">> Similarity 0.999\n",
      "The experience and the food was excellent. \r",
      "\r\n",
      "\r",
      "\r\n",
      "I loved the fact that you could see Lynn Crawford working away checking everything that went out of the kitchen. \r",
      "\r\n",
      "\r",
      "\r\n",
      "I'll definitely go back.\n",
      "--------------------------------------------------\n",
      ">> Similarity 0.999\n",
      "Enjoyed their delicious wild salmon with orzo followed by a wonderful lime tart Brule with sour cream ice cream. And I had a vodka iced tea with ginger.... that was the best meal ever!  All while waiting for a TIFF Movie. Great way to enjoy the festival!\n",
      "--------------------------------------------------\n"
     ]
    }
   ],
   "source": [
    "# Generate top 3 similar reviews\n",
    "\n",
    "for n in sorted(cosine, key=cosine.get, reverse=True)[1:4]:\n",
    "    print('-'*50)\n",
    "    print('>> Similarity {:.3f}'.format(cosine[n]))\n",
    "    print(pos_random[n])\n",
    "print('-'*50)"
   ]
  },
  {
   "cell_type": "markdown",
   "metadata": {},
   "source": [
    "### Count Vectoriser"
   ]
  },
  {
   "cell_type": "code",
   "execution_count": 43,
   "metadata": {},
   "outputs": [],
   "source": [
    "# Create count vectoriser objects to generate counts of term document.\n",
    "\n",
    "pos_cvect = CountVectorizer(stop_words=stopwords, min_df=10, max_df=0.5,ngram_range=(1,1), token_pattern='[a-z][a-z]+')\n",
    "\n",
    "neg_cvect = CountVectorizer(stop_words=stopwords, min_df=10, max_df=0.5,ngram_range=(1,1), token_pattern='[a-z][a-z]+')\n",
    "\n",
    "# Get random subset of reviews\n",
    "np.random.seed(38)\n",
    "num_reviews = 10000\n",
    "random_pos_cvect = np.random.choice(pos_reviews, size=num_reviews)\n",
    "random_neg_cvect = np.random.choice(neg_reviews, size=num_reviews)\n",
    "\n",
    "# Change words from the defined 'dictionary' ran above.\n",
    "random_pos_cvect = [replace_words(w, dictionary) for w in random_pos_cvect]\n",
    "random_neg_cvect = [replace_words(w, dictionary) for w in random_neg_cvect]\n",
    "\n",
    "# Obtain the Vectors of the Cvects\n",
    "pos_cv_vectors = pos_cvect.fit_transform(random_pos_cvect).transpose()\n",
    "neg_cv_vectors = neg_cvect.fit_transform(random_neg_cvect).transpose()"
   ]
  },
  {
   "cell_type": "code",
   "execution_count": 44,
   "metadata": {},
   "outputs": [],
   "source": [
    "# Convert sparse matrix (of counts) to a gensim corpus\n",
    "pos_corpus = matutils.Sparse2Corpus(pos_cv_vectors)\n",
    "neg_corpus = matutils.Sparse2Corpus(neg_cv_vectors)\n",
    "\n",
    "# Save the mapping (dict) of row id to word (token) to be used later by Gensim \n",
    "pos_cvect_id2word = dict((v, k) for k, v in pos_cvect.vocabulary_.items())\n",
    "neg_cvect_id2word = dict((v, k) for k, v in neg_cvect.vocabulary_.items())"
   ]
  },
  {
   "cell_type": "markdown",
   "metadata": {},
   "source": [
    "### Latent Dirichlet Allocation (LDA)"
   ]
  },
  {
   "cell_type": "code",
   "execution_count": 45,
   "metadata": {},
   "outputs": [],
   "source": [
    "# Create LDA Models\n",
    "num_of_topics = 5\n",
    "pos_lda = models.ldamulticore.LdaMulticore(corpus=pos_corpus, num_topics=num_of_topics, \n",
    "                                           id2word=pos_cvect_id2word, passes=10, workers=15)\n",
    "neg_lda = models.ldamulticore.LdaMulticore(corpus=neg_corpus, num_topics=num_of_topics, \n",
    "                                           id2word=neg_cvect_id2word, passes=10, workers=15)"
   ]
  },
  {
   "cell_type": "code",
   "execution_count": 47,
   "metadata": {},
   "outputs": [
    {
     "name": "stdout",
     "output_type": "stream",
     "text": [
      "Top topics + words for Positive reviews\n",
      "----------------------------------------------------------------------------------------------------\n",
      "[(0,\n",
      "  '0.013*\"place\" + 0.011*\"great\" + 0.011*\"service\" + 0.009*\"chicken\" + '\n",
      "  '0.008*\"time\" + 0.008*\"order\" + 0.008*\"cheese\"'),\n",
      " (1,\n",
      "  '0.010*\"order\" + 0.008*\"great\" + 0.007*\"menu\" + 0.007*\"dish\" + '\n",
      "  '0.007*\"brunch\" + 0.006*\"dessert\" + 0.006*\"delicious\"'),\n",
      " (2,\n",
      "  '0.022*\"place\" + 0.021*\"great\" + 0.012*\"service\" + 0.010*\"bar\" + '\n",
      "  '0.007*\"drinks\" + 0.007*\"nice\" + 0.007*\"beer\"'),\n",
      " (3,\n",
      "  '0.012*\"order\" + 0.010*\"time\" + 0.010*\"restaurant\" + 0.010*\"service\" + '\n",
      "  '0.009*\"table\" + 0.007*\"menu\" + 0.006*\"place\"'),\n",
      " (4,\n",
      "  '0.016*\"burger\" + 0.014*\"chicken\" + 0.012*\"fries\" + 0.012*\"place\" + '\n",
      "  '0.011*\"order\" + 0.009*\"great\" + 0.008*\"sauce\"')]\n",
      "\n",
      "\n",
      "Top topics + words for Negative reviews\n",
      "----------------------------------------------------------------------------------------------------\n",
      "[(0,\n",
      "  '0.021*\"order\" + 0.017*\"service\" + 0.008*\"menu\" + 0.008*\"server\" + '\n",
      "  '0.007*\"place\" + 0.007*\"restaurant\" + 0.007*\"table\"'),\n",
      " (1,\n",
      "  '0.011*\"place\" + 0.010*\"order\" + 0.010*\"service\" + 0.010*\"minutes\" + '\n",
      "  '0.009*\"restaurant\" + 0.009*\"table\" + 0.007*\"drink\"'),\n",
      " (2,\n",
      "  '0.014*\"order\" + 0.013*\"chicken\" + 0.013*\"service\" + 0.011*\"time\" + '\n",
      "  '0.010*\"place\" + 0.008*\"burger\" + 0.008*\"minutes\"'),\n",
      " (3,\n",
      "  '0.013*\"service\" + 0.012*\"place\" + 0.009*\"order\" + 0.008*\"burger\" + '\n",
      "  '0.007*\"time\" + 0.006*\"salad\" + 0.006*\"restaurant\"'),\n",
      " (4,\n",
      "  '0.017*\"place\" + 0.013*\"service\" + 0.011*\"bar\" + 0.010*\"time\" + '\n",
      "  '0.009*\"restaurant\" + 0.008*\"beer\" + 0.008*\"order\"')]\n"
     ]
    }
   ],
   "source": [
    "num_top_words = 7\n",
    "\n",
    "print('Top topics + words for Positive reviews')\n",
    "print('-'*100)\n",
    "pprint(pos_lda.print_topics(num_words=num_top_words))\n",
    "\n",
    "print('')\n",
    "print('')\n",
    "\n",
    "print('Top topics + words for Negative reviews')\n",
    "print('-'*100)\n",
    "pprint(neg_lda.print_topics(num_words=num_top_words))"
   ]
  },
  {
   "cell_type": "markdown",
   "metadata": {},
   "source": [
    "## Continuing with NMF"
   ]
  },
  {
   "cell_type": "code",
   "execution_count": 53,
   "metadata": {
    "scrolled": false
   },
   "outputs": [
    {
     "name": "stdout",
     "output_type": "stream",
     "text": [
      "Top topics + words for Positive reviews\n",
      "----------------------------------------------------------------------------------------------------\n",
      "Topic 0:   1.691*place, 1.139*bar, 0.919*beer, 0.869*drinks, 0.765*wings, 0.582*nice, 0.569*night\n",
      "Topic 1:   2.309*great, 0.841*service, 0.561*atmosphere, 0.538*staff, 0.535*amazing, 0.509*friendly, 0.316*place\n",
      "Topic 2:   2.764*burger, 0.787*fries, 0.281*onion, 0.278*rings, 0.240*patty, 0.214*bun, 0.210*order\n",
      "Topic 3:   1.616*brunch, 0.964*eggs, 0.891*breakfast, 0.858*pancakes, 0.571*wait, 0.520*toast, 0.467*coffee\n",
      "Topic 4:   1.846*chicken, 0.823*fried, 0.600*ribs, 0.505*sandwich, 0.496*pork, 0.486*sauce, 0.441*bbq\n"
     ]
    }
   ],
   "source": [
    "# Recall the topics for Positive Reviews\n",
    "\n",
    "print('Top topics + words for Positive reviews')\n",
    "print('-'*100)\n",
    "display_topics(pos_nmf, pos_tfidf.get_feature_names(), num_of_topics, num_top_words)"
   ]
  },
  {
   "cell_type": "code",
   "execution_count": 55,
   "metadata": {},
   "outputs": [
    {
     "name": "stdout",
     "output_type": "stream",
     "text": [
      "Top topics + words for Negative reviews\n",
      "----------------------------------------------------------------------------------------------------\n",
      "Topic 0:   2.038*place, 1.123*bar, 0.713*beer, 0.572*drinks, 0.501*people, 0.464*night, 0.416*patio\n",
      "Topic 1:   1.805*chicken, 0.710*sandwich, 0.687*order, 0.679*salad, 0.591*fries, 0.472*dry, 0.462*cheese\n",
      "Topic 2:   1.209*minutes, 1.106*table, 0.979*order, 0.842*server, 0.777*time, 0.760*wait, 0.758*asked\n",
      "Topic 3:   2.860*burger, 0.709*fries, 0.281*bun, 0.281*patty, 0.270*onion, 0.267*cheese, 0.233*rings\n",
      "Topic 4:   2.430*wings, 0.324*sauce, 0.232*order, 0.219*wing, 0.213*beer, 0.210*louis, 0.199*ribs\n"
     ]
    }
   ],
   "source": [
    "# Recall the topics for Negative Reviews\n",
    "\n",
    "print('Top topics + words for Negative reviews')\n",
    "print('-'*100)\n",
    "display_topics(neg_nmf, neg_tfidf.get_feature_names(), num_of_topics, num_top_words)"
   ]
  },
  {
   "cell_type": "code",
   "execution_count": 54,
   "metadata": {},
   "outputs": [
    {
     "name": "stdout",
     "output_type": "stream",
     "text": [
      "Positive Review #14516\n",
      "----------------------------------------------------------------------------------------------------\n",
      "Have been to Ronnie B's twice in the last week and enjoyed the food, atmosphere and service thoroughly.  Try the grilled cheese made with raisin bread - excellent.  Shrimp etouffee very tasty and the bread pudding is rich and sweet and just the right amount to share.\n",
      "----------------------------------------------------------------------------------------------------\n",
      "Topic 5: 0.0380\n",
      "Topic 1: 0.0205\n",
      "Topic 4: 0.0094\n",
      "Topic 2: 0.0036\n",
      "Topic 0: 0.0000\n",
      "Topic 3: 0.0000\n"
     ]
    }
   ],
   "source": [
    "# Have a look at a random positive review and see the distribution across top topics\\\n",
    "\n",
    "review_num = np.random.randint(0, high=len(pos_random))\n",
    "print('Positive Review #%d' %review_num)\n",
    "print('-'*100)\n",
    "print(pos_random[review_num])\n",
    "print('-'*100)\n",
    "topic_dict = {}\n",
    "for ind, w in enumerate(pos_w[review_num]):\n",
    "    topic_dict[ind] = w\n",
    "for k in sorted(topic_dict, key=topic_dict.get, reverse=True):\n",
    "     print('Topic {}: {:.4f}'.format(k, topic_dict[k]))"
   ]
  },
  {
   "cell_type": "code",
   "execution_count": 58,
   "metadata": {},
   "outputs": [
    {
     "name": "stdout",
     "output_type": "stream",
     "text": [
      "Negative Review #3563\n",
      "----------------------------------------------------------------------------------------------------\n",
      "Actually the worst bar and  management in Toronto. The bouncers let a group of black out girls, by pass the line, who were slurring their words and puking in the alley way. And when I commented, a bouncer told me to \"shut the Fuck up. Quit my bitching, or leave.\". Once inside, the line for a drink was ridiculous and the cup they gave me had lipstick all over it. When I asked for a new cup the bartender rolled her eyes, waved over a bouncer and told him I was cut off. GREAT PLACE. hope it gets shut down.\n",
      "----------------------------------------------------------------------------------------------------\n",
      "Topic 0: 0.0349\n",
      "Topic 2: 0.0129\n",
      "Topic 5: 0.0001\n",
      "Topic 1: 0.0000\n",
      "Topic 3: 0.0000\n",
      "Topic 4: 0.0000\n"
     ]
    }
   ],
   "source": [
    "# Have a look at a random negative review and see the distribution across top topics\n",
    "\n",
    "review_num = np.random.randint(0, high=len(neg_random))\n",
    "print('Negative Review #%d' %review_num)\n",
    "print('-'*100)\n",
    "print(neg_random[review_num])\n",
    "print('-'*100)\n",
    "topic_dict = {}\n",
    "for ind, w in enumerate(neg_w[review_num]):\n",
    "    topic_dict[ind] = w\n",
    "for k in sorted(topic_dict, key=topic_dict.get, reverse=True):\n",
    "     print('Topic {}: {:.4f}'.format(k, topic_dict[k]))"
   ]
  },
  {
   "cell_type": "markdown",
   "metadata": {},
   "source": [
    "### Run Topic Modeling for All Reviews in Particular City+Cuisine\n",
    "\n",
    "By now, the topics found are generally interpretable and can be seen matching with the reviews that the topics are trying to group/categorise.\n",
    "\n",
    "Next, we proceed with topic modeling on all reviews and businesses (selected city+cuisine) using NMF."
   ]
  },
  {
   "cell_type": "code",
   "execution_count": 59,
   "metadata": {},
   "outputs": [
    {
     "name": "stdout",
     "output_type": "stream",
     "text": [
      "Postive Reviews:  26,480\n",
      "Negative Reviews:  5,134\n"
     ]
    }
   ],
   "source": [
    "print('Postive Reviews:  {:,}'.format(len(pos_reviews)))\n",
    "print('Negative Reviews:  {:,}'.format(len(neg_reviews)))"
   ]
  },
  {
   "cell_type": "code",
   "execution_count": 62,
   "metadata": {},
   "outputs": [],
   "source": [
    "# Create count vectoriser objects to generate counts of term document.\n",
    "\n",
    "pos_tfidf = TfidfVectorizer(stop_words=stopwords, min_df=10, max_df=0.5,ngram_range=(1,1), token_pattern='[a-z][a-z]+')\n",
    "\n",
    "neg_tfidf = TfidfVectorizer(stop_words=stopwords, min_df=10, max_df=0.5,ngram_range=(1,1), token_pattern='[a-z][a-z]+')\n",
    "\n",
    "# Change words from the defined 'dictionary' ran above.\n",
    "pos_reviews = [replace_words(w, dictionary) for w in pos_reviews]\n",
    "neg_reviews = [replace_words(w, dictionary) for w in neg_reviews]\n",
    "\n",
    "# Get the vectors\n",
    "pos_vectors = pos_tfidf.fit_transform(pos_reviews)\n",
    "neg_vectors = neg_tfidf.fit_transform(neg_reviews)"
   ]
  },
  {
   "cell_type": "code",
   "execution_count": 63,
   "metadata": {},
   "outputs": [],
   "source": [
    "## Run NMF\n",
    "\n",
    "# change num_topics\n",
    "num_of_topics = 6\n",
    "\n",
    "pos_nmf = NMF(n_components=num_of_topics)\n",
    "pos_w = pos_nmf.fit_transform(pos_vectors)\n",
    "pos_h = pos_nmf.components_\n",
    "\n",
    "neg_nmf = NMF(n_components=num_topics)\n",
    "neg_w = neg_nmf.fit_transform(neg_vectors)\n",
    "neg_h = neg_nmf.components_"
   ]
  },
  {
   "cell_type": "code",
   "execution_count": 65,
   "metadata": {},
   "outputs": [
    {
     "name": "stdout",
     "output_type": "stream",
     "text": [
      "Topics for Positive reviews\n",
      "----------------------------------------------------------------------------------------------------\n",
      "Topic 0:   1.732*place, 1.319*bar, 1.166*beer, 0.942*drinks, 0.895*wings, 0.652*night, 0.636*pretty, 0.619*nice, 0.610*patio, 0.579*drink\n",
      "Topic 1:   2.510*great, 0.900*service, 0.654*atmosphere, 0.613*amazing, 0.610*staff, 0.572*friendly, 0.373*definitely, 0.367*place, 0.363*recommend, 0.350*excellent\n",
      "Topic 2:   3.279*burger, 0.910*fries, 0.326*rings, 0.309*onion, 0.280*patty, 0.269*cheese, 0.262*bun, 0.220*order, 0.191*beef, 0.174*potato\n",
      "Topic 3:   2.569*chicken, 1.076*fried, 0.729*ribs, 0.662*sandwich, 0.647*sauce, 0.621*fries, 0.611*pork, 0.601*waffles, 0.530*bbq, 0.463*brisket\n",
      "Topic 4:   1.942*brunch, 1.066*eggs, 0.984*breakfast, 0.932*pancakes, 0.673*wait, 0.598*toast, 0.511*coffee, 0.462*bacon, 0.445*french, 0.374*benedict\n",
      "Topic 5:   0.831*order, 0.823*restaurant, 0.670*menu, 0.568*meal, 0.564*dessert, 0.549*experience, 0.514*time, 0.503*salad, 0.498*table, 0.469*steak\n",
      "\n",
      "Topics for Negative reviews\n",
      "----------------------------------------------------------------------------------------------------\n",
      "Topic 0:   0.989*minutes, 0.916*table, 0.810*order, 0.708*server, 0.670*time, 0.638*asked, 0.616*wait, 0.599*took, 0.507*waited, 0.489*waitress\n",
      "Topic 1:   1.353*chicken, 0.535*order, 0.480*sandwich, 0.475*salad, 0.377*fries, 0.372*steak, 0.353*cheese, 0.335*dry, 0.312*tasted, 0.307*fried\n",
      "Topic 2:   1.265*place, 0.706*bar, 0.459*beer, 0.316*drinks, 0.289*people, 0.270*night, 0.251*patio, 0.233*drink, 0.223*decent, 0.219*sports\n",
      "Topic 3:   2.063*burger, 0.532*fries, 0.232*cheese, 0.208*patty, 0.201*bun, 0.192*dry, 0.167*onion, 0.155*rings, 0.145*bacon, 0.138*order\n",
      "Topic 4:   1.972*wings, 0.239*sauce, 0.200*wing, 0.167*louis, 0.161*beer, 0.149*order, 0.148*st, 0.146*fries, 0.141*dry, 0.127*night\n",
      "Topic 5:   1.745*service, 0.667*slow, 0.561*bad, 0.540*terrible, 0.465*horrible, 0.399*poor, 0.378*great, 0.329*restaurant, 0.275*worst, 0.267*location\n"
     ]
    }
   ],
   "source": [
    "no_topics = num_of_topics\n",
    "no_top_words = 10\n",
    "\n",
    "print('Topics for Positive reviews')\n",
    "print('-'*100)\n",
    "display_topics(pos_nmf, pos_tfidf.get_feature_names(), no_topics, no_top_words)\n",
    "\n",
    "print('\\nTopics for Negative reviews')\n",
    "print('-'*100)\n",
    "display_topics(neg_nmf, neg_tfidf.get_feature_names(), no_topics, no_top_words)"
   ]
  },
  {
   "cell_type": "markdown",
   "metadata": {},
   "source": [
    "### Only Run The Lines Applicable To This Run's Combination of City + Cuisine"
   ]
  },
  {
   "cell_type": "code",
   "execution_count": 610,
   "metadata": {},
   "outputs": [],
   "source": [
    "# TORONTO AMERICAN TOPICS\n",
    "\n",
    "# create topic dictionaries to summarize the topic meanings\n",
    "pos_topics = {0:'Bar/Beer', 1:'Customer Service/Atmosphere', 2:'Burger/Fries', \n",
    "              3:'Chicken/Ribs/Sandwich', 4:'Brunch/Eggs', 5:'Order/Waiting Time'}\n",
    "\n",
    "neg_topics = {0:'Waiting Time', 1:'Chicken/Sandwich', 2:'Beer/Bar/Drinks', \n",
    "              3:'BUrger/Fries', 4:'Wings/Sauce', 5:'Customer Service'}\n",
    "\n",
    "t_amer_pos_topics = pos_topics\n",
    "t_amer_neg_topics = neg_topics"
   ]
  },
  {
   "cell_type": "code",
   "execution_count": 530,
   "metadata": {},
   "outputs": [],
   "source": [
    "# CALGARY CHINESE TOPICS\n",
    "\n",
    "# create topic dictionaries to summarize the topic meanings\n",
    "pos_topics = {0:'Soup/Pork', 1:'Dim Sum', 2:'Customer Service', \n",
    "              3:'Ginger Beef/Chicken', 4:'Pad Thai/Curry', 5:'Bubble Tea'}\n",
    "\n",
    "neg_topics = {0:'Buffet/Atmosphere', 1:'Chicken/Soup', 2:'Dim Sum', \n",
    "              3:'Order/Waiting Time', 4:'Ginger Beef/Pork', 5:'Customer Service'}\n",
    "\n",
    "c_chi_pos_topics = pos_topics\n",
    "c_chi_neg_topics = neg_topics"
   ]
  },
  {
   "cell_type": "code",
   "execution_count": 476,
   "metadata": {},
   "outputs": [],
   "source": [
    "# TORONTO ITALIAN TOPICS\n",
    "\n",
    "# create topic dictionaries to summarize the topic meanings\n",
    "pos_topics = {0:'Order/Waiting Time', 1:'Pizza', 2:'Customer Service', \n",
    "              3:'Pasta', 4:'Atmosphere'}\n",
    "\n",
    "neg_topics = {0:'Customer Service', 1:'Pizza', 2:'Pasta', \n",
    "              3:'Order/Waiting Time', 4:'Atmosphere'}\n",
    "\n",
    "t_ita_pos_topics = pos_topics\n",
    "t_ita_neg_topics = neg_topics"
   ]
  },
  {
   "cell_type": "code",
   "execution_count": 363,
   "metadata": {},
   "outputs": [],
   "source": [
    "# TORONTO CHINESE TOPICS\n",
    "\n",
    "# create topic dictionaries to summarize the topic meanings\n",
    "pos_topics = {0:'Waiting Time', 1:'Dim Sum', 2:'Dumplings', \n",
    "              3:'Noodles/Soup', 4:'Chicken Rice', 5:'Customer Service'}\n",
    "\n",
    "neg_topics = {0:'Waiting Time', 1:'Dim Sum', 2:'Customer Service', \n",
    "              3:'Dumplings', 4:'Chicken Rice', 5:'Noodles/Soup'}\n",
    "\n",
    "t_chi_pos_topics = pos_topics\n",
    "t_chi_neg_topics = neg_topics"
   ]
  },
  {
   "cell_type": "code",
   "execution_count": 295,
   "metadata": {},
   "outputs": [],
   "source": [
    "# LAS VEGAS CHINESE TOPICS\n",
    "\n",
    "# create topic dictionaries to summarize the topic meanings\n",
    "pos_topics = {0:'Chicken Rice/Shrimp', 1:'Dim Sum', 2:'Customer Service', \n",
    "              3:'Noodles/Soup', 4:'Waiting Time', 5:'Pad Thai/Curry'}\n",
    "\n",
    "neg_topics = {0:'Price', 1:'Chicken Rice', 2:'Dim Sum', \n",
    "              3:'Waiting Time', 4:'Soup/Noodle', 5:'Customer Service'}\n",
    "\n",
    "v_chi_pos_topics = pos_topics\n",
    "v_chi_neg_topics = neg_topics"
   ]
  },
  {
   "cell_type": "code",
   "execution_count": 129,
   "metadata": {},
   "outputs": [],
   "source": [
    "# LAS VEGAS AMERICAN TOPICS\n",
    "\n",
    "# create topic dictionaries to summarize the topic meanings\n",
    "pos_topics = {0:'Waiting Time', 1:'Burger/Fries/Shake', 2:'Customer Service', \n",
    "              3:'Breakfast/Eggs/Pancakes', 4:'Chicken/Waffles', 5:'Atmosphere'}\n",
    "\n",
    "neg_topics = {0:'Atmosphere', 1:'Burger/Fries', 2:'Waiting Time', \n",
    "              3:'Chicken/Steak', 4:'Customer Service', 5:'Buffet/Price'}\n",
    "\n",
    "v_amer_pos_topics = pos_topics\n",
    "v_amer_neg_topics = neg_topics"
   ]
  },
  {
   "cell_type": "code",
   "execution_count": 130,
   "metadata": {},
   "outputs": [],
   "source": [
    "# LAS VEGAS ITALIAN TOPICS\n",
    "\n",
    "# create topic dictionaries to summarize the topic meanings\n",
    "pos_topics = {0:'Waiting Time', 1:'Pizza', 2:'Price', \n",
    "              3:'Pasta/Chicken', 4:'Customer Service', 5:'Atmosphere'}\n",
    "\n",
    "neg_topics = {0:'Waiting Time', 1:'Pizza', 2:'Delivery/Reservation', \n",
    "              3:'Chicken/Pasta', 4:'Customer Service', 5:'Atmosphere'}\n",
    "\n",
    "v_ita_pos_topics = pos_topics\n",
    "v_ita_neg_topics = neg_topics"
   ]
  },
  {
   "cell_type": "code",
   "execution_count": null,
   "metadata": {},
   "outputs": [],
   "source": [
    "# CALGARY ITALIAN TOPICS\n",
    "\n",
    "# create topic dictionaries to summarize the topic meanings\n",
    "pos_topics = {0:'', 1:'', 2:'', \n",
    "              3:'', 4:'', 5:''}\n",
    "\n",
    "neg_topics = {0:'', 1:'', 2:'', \n",
    "              3:'', 4:'', 5:''}\n",
    "\n",
    "c_ita_pos_topics = pos_topics\n",
    "c_ita_neg_topics = neg_topics"
   ]
  },
  {
   "cell_type": "code",
   "execution_count": null,
   "metadata": {},
   "outputs": [],
   "source": [
    "# CALGARY AMERICAN TOPICS\n",
    "\n",
    "# create topic dictionaries to summarize the topic meanings\n",
    "pos_topics = {0:'', 1:'', 2:'', \n",
    "              3:'', 4:'', 5:''}\n",
    "\n",
    "neg_topics = {0:'', 1:'', 2:'', \n",
    "              3:'', 4:'', 5:''}\n",
    "\n",
    "c_amer_pos_topics = pos_topics\n",
    "c_amer_neg_topics = neg_topics"
   ]
  },
  {
   "cell_type": "markdown",
   "metadata": {},
   "source": [
    "## Adding Topic Weights to Pandas DataFrame"
   ]
  },
  {
   "cell_type": "code",
   "execution_count": 533,
   "metadata": {},
   "outputs": [],
   "source": [
    "# Create DFs for positive & negative reviews to be used for adding topic names\n",
    "\n",
    "pos_df = reviews_df[['business_id', 'stars', 'text', 'review_length']][(reviews_df.city == 'Calgary')\\\n",
    "                                                                       & (reviews_df.cuisine == 'italian') &\\\n",
    "                                                                       (reviews_df.label == 1)].reset_index()\n",
    "neg_df = reviews_df[['business_id', 'stars', 'text', 'review_length']][(reviews_df.city == 'Calgary')\\\n",
    "                                                                       & (reviews_df.cuisine == 'italian') &\\\n",
    "                                                                       (reviews_df.label == -1)].reset_index()\n",
    "pos_df.drop(labels='index', axis=1, inplace=True)\n",
    "neg_df.drop(labels='index', axis=1, inplace=True)"
   ]
  },
  {
   "cell_type": "code",
   "execution_count": 536,
   "metadata": {},
   "outputs": [],
   "source": [
    "# Normalise topic weights on each positive & negative reviews\n",
    "pos_df = pd.concat([pos_df, pd.DataFrame(normalize(pos_w, norm='l1'))], axis=1)\n",
    "neg_df = pd.concat([neg_df, pd.DataFrame(normalize(neg_w, norm='l1'))], axis=1)"
   ]
  },
  {
   "cell_type": "code",
   "execution_count": 537,
   "metadata": {},
   "outputs": [
    {
     "data": {
      "text/html": [
       "<div>\n",
       "<style scoped>\n",
       "    .dataframe tbody tr th:only-of-type {\n",
       "        vertical-align: middle;\n",
       "    }\n",
       "\n",
       "    .dataframe tbody tr th {\n",
       "        vertical-align: top;\n",
       "    }\n",
       "\n",
       "    .dataframe thead th {\n",
       "        text-align: right;\n",
       "    }\n",
       "</style>\n",
       "<table border=\"1\" class=\"dataframe\">\n",
       "  <thead>\n",
       "    <tr style=\"text-align: right;\">\n",
       "      <th></th>\n",
       "      <th>business_id</th>\n",
       "      <th>stars</th>\n",
       "      <th>text</th>\n",
       "      <th>review_length</th>\n",
       "      <th>0</th>\n",
       "      <th>1</th>\n",
       "      <th>2</th>\n",
       "      <th>3</th>\n",
       "      <th>4</th>\n",
       "      <th>5</th>\n",
       "    </tr>\n",
       "  </thead>\n",
       "  <tbody>\n",
       "    <tr>\n",
       "      <th>0</th>\n",
       "      <td>QiRWdm4GkmtEMO_npOyBjA</td>\n",
       "      <td>2</td>\n",
       "      <td>We went on Boxing Day, they were busy and the ...</td>\n",
       "      <td>437</td>\n",
       "      <td>0.196476</td>\n",
       "      <td>0.046365</td>\n",
       "      <td>0.058278</td>\n",
       "      <td>0.088875</td>\n",
       "      <td>0.000000</td>\n",
       "      <td>0.610006</td>\n",
       "    </tr>\n",
       "    <tr>\n",
       "      <th>1</th>\n",
       "      <td>jg37O7ANF7hqggS6bxUpcQ</td>\n",
       "      <td>1</td>\n",
       "      <td>Bland soup and terrible service. I don't know ...</td>\n",
       "      <td>131</td>\n",
       "      <td>0.288655</td>\n",
       "      <td>0.219540</td>\n",
       "      <td>0.000000</td>\n",
       "      <td>0.000000</td>\n",
       "      <td>0.000000</td>\n",
       "      <td>0.491805</td>\n",
       "    </tr>\n",
       "    <tr>\n",
       "      <th>2</th>\n",
       "      <td>jg37O7ANF7hqggS6bxUpcQ</td>\n",
       "      <td>2</td>\n",
       "      <td>Terrible service , the servers were not friend...</td>\n",
       "      <td>288</td>\n",
       "      <td>0.000000</td>\n",
       "      <td>0.167955</td>\n",
       "      <td>0.000000</td>\n",
       "      <td>0.266047</td>\n",
       "      <td>0.339004</td>\n",
       "      <td>0.226993</td>\n",
       "    </tr>\n",
       "    <tr>\n",
       "      <th>3</th>\n",
       "      <td>jg37O7ANF7hqggS6bxUpcQ</td>\n",
       "      <td>2</td>\n",
       "      <td>This place is not as good as other viet restau...</td>\n",
       "      <td>110</td>\n",
       "      <td>0.939952</td>\n",
       "      <td>0.000000</td>\n",
       "      <td>0.000000</td>\n",
       "      <td>0.000000</td>\n",
       "      <td>0.000000</td>\n",
       "      <td>0.060048</td>\n",
       "    </tr>\n",
       "    <tr>\n",
       "      <th>4</th>\n",
       "      <td>jg37O7ANF7hqggS6bxUpcQ</td>\n",
       "      <td>5</td>\n",
       "      <td>Savory Pho with Chicken, so good!!!!</td>\n",
       "      <td>36</td>\n",
       "      <td>0.000000</td>\n",
       "      <td>1.000000</td>\n",
       "      <td>0.000000</td>\n",
       "      <td>0.000000</td>\n",
       "      <td>0.000000</td>\n",
       "      <td>0.000000</td>\n",
       "    </tr>\n",
       "  </tbody>\n",
       "</table>\n",
       "</div>"
      ],
      "text/plain": [
       "              business_id  stars  \\\n",
       "0  QiRWdm4GkmtEMO_npOyBjA      2   \n",
       "1  jg37O7ANF7hqggS6bxUpcQ      1   \n",
       "2  jg37O7ANF7hqggS6bxUpcQ      2   \n",
       "3  jg37O7ANF7hqggS6bxUpcQ      2   \n",
       "4  jg37O7ANF7hqggS6bxUpcQ      5   \n",
       "\n",
       "                                                text  review_length         0  \\\n",
       "0  We went on Boxing Day, they were busy and the ...            437  0.196476   \n",
       "1  Bland soup and terrible service. I don't know ...            131  0.288655   \n",
       "2  Terrible service , the servers were not friend...            288  0.000000   \n",
       "3  This place is not as good as other viet restau...            110  0.939952   \n",
       "4               Savory Pho with Chicken, so good!!!!             36  0.000000   \n",
       "\n",
       "          1         2         3         4         5  \n",
       "0  0.046365  0.058278  0.088875  0.000000  0.610006  \n",
       "1  0.219540  0.000000  0.000000  0.000000  0.491805  \n",
       "2  0.167955  0.000000  0.266047  0.339004  0.226993  \n",
       "3  0.000000  0.000000  0.000000  0.000000  0.060048  \n",
       "4  1.000000  0.000000  0.000000  0.000000  0.000000  "
      ]
     },
     "execution_count": 537,
     "metadata": {},
     "output_type": "execute_result"
    }
   ],
   "source": [
    "# Check dataframes produced on line above\n",
    "\n",
    "neg_df.head()"
   ]
  },
  {
   "cell_type": "code",
   "execution_count": 538,
   "metadata": {},
   "outputs": [],
   "source": [
    "# Group by business_id and apply mean/count functions to necessary columns\n",
    "\n",
    "pos_grp_df = pos_df.groupby('business_id').agg({'stars':'mean', 'text':'count',\n",
    "                                                 'review_length':'mean',0:'mean', \n",
    "                                                 1:'mean', 2:'mean', 3:'mean',\n",
    "                                                 4:'mean',5:'mean'}).reset_index()\n",
    "neg_grp_df = neg_df.groupby('business_id').agg({'stars':'mean', 'text':'count',\n",
    "                                                 'review_length':'mean',0:'mean', \n",
    "                                                 1:'mean', 2:'mean', 3:'mean',\n",
    "                                                 4:'mean',5:'mean'}).reset_index()"
   ]
  },
  {
   "cell_type": "code",
   "execution_count": 539,
   "metadata": {},
   "outputs": [
    {
     "data": {
      "text/html": [
       "<div>\n",
       "<style scoped>\n",
       "    .dataframe tbody tr th:only-of-type {\n",
       "        vertical-align: middle;\n",
       "    }\n",
       "\n",
       "    .dataframe tbody tr th {\n",
       "        vertical-align: top;\n",
       "    }\n",
       "\n",
       "    .dataframe thead th {\n",
       "        text-align: right;\n",
       "    }\n",
       "</style>\n",
       "<table border=\"1\" class=\"dataframe\">\n",
       "  <thead>\n",
       "    <tr style=\"text-align: right;\">\n",
       "      <th></th>\n",
       "      <th>business_id</th>\n",
       "      <th>stars</th>\n",
       "      <th>text</th>\n",
       "      <th>review_length</th>\n",
       "      <th>0</th>\n",
       "      <th>1</th>\n",
       "      <th>2</th>\n",
       "      <th>3</th>\n",
       "      <th>4</th>\n",
       "      <th>5</th>\n",
       "    </tr>\n",
       "  </thead>\n",
       "  <tbody>\n",
       "    <tr>\n",
       "      <th>0</th>\n",
       "      <td>-r8SvItXXG6_T3mP5GXRAw</td>\n",
       "      <td>4.625000</td>\n",
       "      <td>8</td>\n",
       "      <td>712.875000</td>\n",
       "      <td>0.191907</td>\n",
       "      <td>0.017617</td>\n",
       "      <td>0.478255</td>\n",
       "      <td>0.162229</td>\n",
       "      <td>0.069903</td>\n",
       "      <td>0.080089</td>\n",
       "    </tr>\n",
       "    <tr>\n",
       "      <th>1</th>\n",
       "      <td>0gVPTer9PnXRmSjuHt-XgQ</td>\n",
       "      <td>3.888889</td>\n",
       "      <td>9</td>\n",
       "      <td>944.222222</td>\n",
       "      <td>0.187242</td>\n",
       "      <td>0.007360</td>\n",
       "      <td>0.166207</td>\n",
       "      <td>0.594204</td>\n",
       "      <td>0.030508</td>\n",
       "      <td>0.014479</td>\n",
       "    </tr>\n",
       "    <tr>\n",
       "      <th>2</th>\n",
       "      <td>1jxxXQYOdP91LkF2Mz9Q9Q</td>\n",
       "      <td>4.000000</td>\n",
       "      <td>4</td>\n",
       "      <td>423.500000</td>\n",
       "      <td>0.265271</td>\n",
       "      <td>0.000000</td>\n",
       "      <td>0.052772</td>\n",
       "      <td>0.272512</td>\n",
       "      <td>0.079026</td>\n",
       "      <td>0.330420</td>\n",
       "    </tr>\n",
       "    <tr>\n",
       "      <th>3</th>\n",
       "      <td>1oJG7PcNNNfazaSLOxwmmQ</td>\n",
       "      <td>4.500000</td>\n",
       "      <td>2</td>\n",
       "      <td>404.500000</td>\n",
       "      <td>0.410481</td>\n",
       "      <td>0.000000</td>\n",
       "      <td>0.228052</td>\n",
       "      <td>0.253979</td>\n",
       "      <td>0.107488</td>\n",
       "      <td>0.000000</td>\n",
       "    </tr>\n",
       "    <tr>\n",
       "      <th>4</th>\n",
       "      <td>2-l_q7HBRak5i6X46l0OHw</td>\n",
       "      <td>3.388889</td>\n",
       "      <td>18</td>\n",
       "      <td>976.722222</td>\n",
       "      <td>0.137392</td>\n",
       "      <td>0.016383</td>\n",
       "      <td>0.195692</td>\n",
       "      <td>0.018200</td>\n",
       "      <td>0.038069</td>\n",
       "      <td>0.594265</td>\n",
       "    </tr>\n",
       "  </tbody>\n",
       "</table>\n",
       "</div>"
      ],
      "text/plain": [
       "              business_id     stars  text  review_length         0         1  \\\n",
       "0  -r8SvItXXG6_T3mP5GXRAw  4.625000     8     712.875000  0.191907  0.017617   \n",
       "1  0gVPTer9PnXRmSjuHt-XgQ  3.888889     9     944.222222  0.187242  0.007360   \n",
       "2  1jxxXQYOdP91LkF2Mz9Q9Q  4.000000     4     423.500000  0.265271  0.000000   \n",
       "3  1oJG7PcNNNfazaSLOxwmmQ  4.500000     2     404.500000  0.410481  0.000000   \n",
       "4  2-l_q7HBRak5i6X46l0OHw  3.388889    18     976.722222  0.137392  0.016383   \n",
       "\n",
       "          2         3         4         5  \n",
       "0  0.478255  0.162229  0.069903  0.080089  \n",
       "1  0.166207  0.594204  0.030508  0.014479  \n",
       "2  0.052772  0.272512  0.079026  0.330420  \n",
       "3  0.228052  0.253979  0.107488  0.000000  \n",
       "4  0.195692  0.018200  0.038069  0.594265  "
      ]
     },
     "execution_count": 539,
     "metadata": {},
     "output_type": "execute_result"
    }
   ],
   "source": [
    "pos_grp_df.head()"
   ]
  },
  {
   "cell_type": "code",
   "execution_count": 540,
   "metadata": {
    "scrolled": true
   },
   "outputs": [
    {
     "data": {
      "text/html": [
       "<div>\n",
       "<style scoped>\n",
       "    .dataframe tbody tr th:only-of-type {\n",
       "        vertical-align: middle;\n",
       "    }\n",
       "\n",
       "    .dataframe tbody tr th {\n",
       "        vertical-align: top;\n",
       "    }\n",
       "\n",
       "    .dataframe thead th {\n",
       "        text-align: right;\n",
       "    }\n",
       "</style>\n",
       "<table border=\"1\" class=\"dataframe\">\n",
       "  <thead>\n",
       "    <tr style=\"text-align: right;\">\n",
       "      <th></th>\n",
       "      <th>business_id</th>\n",
       "      <th>stars</th>\n",
       "      <th>text</th>\n",
       "      <th>review_length</th>\n",
       "      <th>0</th>\n",
       "      <th>1</th>\n",
       "      <th>2</th>\n",
       "      <th>3</th>\n",
       "      <th>4</th>\n",
       "      <th>5</th>\n",
       "    </tr>\n",
       "  </thead>\n",
       "  <tbody>\n",
       "    <tr>\n",
       "      <th>0</th>\n",
       "      <td>0gVPTer9PnXRmSjuHt-XgQ</td>\n",
       "      <td>2.000000</td>\n",
       "      <td>1</td>\n",
       "      <td>704.000000</td>\n",
       "      <td>0.384271</td>\n",
       "      <td>0.177961</td>\n",
       "      <td>0.021335</td>\n",
       "      <td>0.021309</td>\n",
       "      <td>0.395124</td>\n",
       "      <td>0.000000</td>\n",
       "    </tr>\n",
       "    <tr>\n",
       "      <th>1</th>\n",
       "      <td>1jxxXQYOdP91LkF2Mz9Q9Q</td>\n",
       "      <td>1.000000</td>\n",
       "      <td>3</td>\n",
       "      <td>248.000000</td>\n",
       "      <td>0.275628</td>\n",
       "      <td>0.040522</td>\n",
       "      <td>0.000771</td>\n",
       "      <td>0.507829</td>\n",
       "      <td>0.080587</td>\n",
       "      <td>0.094664</td>\n",
       "    </tr>\n",
       "    <tr>\n",
       "      <th>2</th>\n",
       "      <td>2-l_q7HBRak5i6X46l0OHw</td>\n",
       "      <td>2.000000</td>\n",
       "      <td>3</td>\n",
       "      <td>424.000000</td>\n",
       "      <td>0.189803</td>\n",
       "      <td>0.000000</td>\n",
       "      <td>0.002240</td>\n",
       "      <td>0.571950</td>\n",
       "      <td>0.005816</td>\n",
       "      <td>0.230191</td>\n",
       "    </tr>\n",
       "    <tr>\n",
       "      <th>3</th>\n",
       "      <td>21aDJ_xLGcEDkcyQRexlOQ</td>\n",
       "      <td>1.833333</td>\n",
       "      <td>6</td>\n",
       "      <td>491.166667</td>\n",
       "      <td>0.198490</td>\n",
       "      <td>0.076140</td>\n",
       "      <td>0.034792</td>\n",
       "      <td>0.313335</td>\n",
       "      <td>0.322016</td>\n",
       "      <td>0.055227</td>\n",
       "    </tr>\n",
       "    <tr>\n",
       "      <th>4</th>\n",
       "      <td>2M3tt_0FfsDiy-DDWIH4dg</td>\n",
       "      <td>1.000000</td>\n",
       "      <td>1</td>\n",
       "      <td>197.000000</td>\n",
       "      <td>0.061496</td>\n",
       "      <td>0.000000</td>\n",
       "      <td>0.124043</td>\n",
       "      <td>0.673644</td>\n",
       "      <td>0.037946</td>\n",
       "      <td>0.102871</td>\n",
       "    </tr>\n",
       "  </tbody>\n",
       "</table>\n",
       "</div>"
      ],
      "text/plain": [
       "              business_id     stars  text  review_length         0         1  \\\n",
       "0  0gVPTer9PnXRmSjuHt-XgQ  2.000000     1     704.000000  0.384271  0.177961   \n",
       "1  1jxxXQYOdP91LkF2Mz9Q9Q  1.000000     3     248.000000  0.275628  0.040522   \n",
       "2  2-l_q7HBRak5i6X46l0OHw  2.000000     3     424.000000  0.189803  0.000000   \n",
       "3  21aDJ_xLGcEDkcyQRexlOQ  1.833333     6     491.166667  0.198490  0.076140   \n",
       "4  2M3tt_0FfsDiy-DDWIH4dg  1.000000     1     197.000000  0.061496  0.000000   \n",
       "\n",
       "          2         3         4         5  \n",
       "0  0.021335  0.021309  0.395124  0.000000  \n",
       "1  0.000771  0.507829  0.080587  0.094664  \n",
       "2  0.002240  0.571950  0.005816  0.230191  \n",
       "3  0.034792  0.313335  0.322016  0.055227  \n",
       "4  0.124043  0.673644  0.037946  0.102871  "
      ]
     },
     "execution_count": 540,
     "metadata": {},
     "output_type": "execute_result"
    }
   ],
   "source": [
    "neg_grp_df.head()"
   ]
  },
  {
   "cell_type": "markdown",
   "metadata": {},
   "source": [
    "## Adding in Business Information "
   ]
  },
  {
   "cell_type": "code",
   "execution_count": 542,
   "metadata": {},
   "outputs": [],
   "source": [
    "# merge business name/city with topic data\n",
    "pos_df_tot = pos_grp_df.merge(restaurants_df\n",
    "                              [['business_id', 'name', 'city','neighborhood','latitude',\n",
    "                                'longitude','cuisine','RestaurantsPriceRange2']],\n",
    "                              left_on='business_id',right_on='business_id'\n",
    "                             )[['business_id', 'name', 'city','neighborhood','latitude',\n",
    "                                'longitude','cuisine','RestaurantsPriceRange2', 'stars', 0, 1, 2, 3, 4,5]]\n",
    "\n",
    "neg_df_tot = neg_grp_df.merge(restaurants_df\n",
    "                              [['business_id', 'name', 'city','neighborhood','latitude',\n",
    "                                'longitude','cuisine','RestaurantsPriceRange2']], \n",
    "                              left_on='business_id',right_on='business_id'\n",
    "                             )[['business_id', 'name', 'city','neighborhood','latitude',\n",
    "                                'longitude','cuisine','RestaurantsPriceRange2', 'stars', 0, 1, 2, 3, 4,5]]"
   ]
  },
  {
   "cell_type": "code",
   "execution_count": 543,
   "metadata": {
    "scrolled": true
   },
   "outputs": [
    {
     "data": {
      "text/html": [
       "<div>\n",
       "<style scoped>\n",
       "    .dataframe tbody tr th:only-of-type {\n",
       "        vertical-align: middle;\n",
       "    }\n",
       "\n",
       "    .dataframe tbody tr th {\n",
       "        vertical-align: top;\n",
       "    }\n",
       "\n",
       "    .dataframe thead th {\n",
       "        text-align: right;\n",
       "    }\n",
       "</style>\n",
       "<table border=\"1\" class=\"dataframe\">\n",
       "  <thead>\n",
       "    <tr style=\"text-align: right;\">\n",
       "      <th></th>\n",
       "      <th>business_id</th>\n",
       "      <th>stars</th>\n",
       "      <th>text</th>\n",
       "      <th>review_length</th>\n",
       "      <th>0</th>\n",
       "      <th>1</th>\n",
       "      <th>2</th>\n",
       "      <th>3</th>\n",
       "      <th>4</th>\n",
       "      <th>5</th>\n",
       "    </tr>\n",
       "  </thead>\n",
       "  <tbody>\n",
       "    <tr>\n",
       "      <th>156</th>\n",
       "      <td>jg37O7ANF7hqggS6bxUpcQ</td>\n",
       "      <td>3.861111</td>\n",
       "      <td>36</td>\n",
       "      <td>622.833333</td>\n",
       "      <td>0.197244</td>\n",
       "      <td>0.020252</td>\n",
       "      <td>0.490782</td>\n",
       "      <td>0.107854</td>\n",
       "      <td>0.098136</td>\n",
       "      <td>0.085733</td>\n",
       "    </tr>\n",
       "  </tbody>\n",
       "</table>\n",
       "</div>"
      ],
      "text/plain": [
       "                business_id     stars  text  review_length         0  \\\n",
       "156  jg37O7ANF7hqggS6bxUpcQ  3.861111    36     622.833333  0.197244   \n",
       "\n",
       "            1         2         3         4         5  \n",
       "156  0.020252  0.490782  0.107854  0.098136  0.085733  "
      ]
     },
     "execution_count": 543,
     "metadata": {},
     "output_type": "execute_result"
    }
   ],
   "source": [
    "# Check 1 business output for Positive Topic\n",
    "\n",
    "pos_grp_df[pos_grp_df.business_id == 'jg37O7ANF7hqggS6bxUpcQ']"
   ]
  },
  {
   "cell_type": "code",
   "execution_count": 544,
   "metadata": {
    "scrolled": true
   },
   "outputs": [
    {
     "data": {
      "text/html": [
       "<div>\n",
       "<style scoped>\n",
       "    .dataframe tbody tr th:only-of-type {\n",
       "        vertical-align: middle;\n",
       "    }\n",
       "\n",
       "    .dataframe tbody tr th {\n",
       "        vertical-align: top;\n",
       "    }\n",
       "\n",
       "    .dataframe thead th {\n",
       "        text-align: right;\n",
       "    }\n",
       "</style>\n",
       "<table border=\"1\" class=\"dataframe\">\n",
       "  <thead>\n",
       "    <tr style=\"text-align: right;\">\n",
       "      <th></th>\n",
       "      <th>business_id</th>\n",
       "      <th>stars</th>\n",
       "      <th>text</th>\n",
       "      <th>review_length</th>\n",
       "      <th>0</th>\n",
       "      <th>1</th>\n",
       "      <th>2</th>\n",
       "      <th>3</th>\n",
       "      <th>4</th>\n",
       "      <th>5</th>\n",
       "    </tr>\n",
       "  </thead>\n",
       "  <tbody>\n",
       "    <tr>\n",
       "      <th>134</th>\n",
       "      <td>jg37O7ANF7hqggS6bxUpcQ</td>\n",
       "      <td>3.0</td>\n",
       "      <td>5</td>\n",
       "      <td>130.2</td>\n",
       "      <td>0.337006</td>\n",
       "      <td>0.304949</td>\n",
       "      <td>0.026292</td>\n",
       "      <td>0.055292</td>\n",
       "      <td>0.067801</td>\n",
       "      <td>0.20866</td>\n",
       "    </tr>\n",
       "  </tbody>\n",
       "</table>\n",
       "</div>"
      ],
      "text/plain": [
       "                business_id  stars  text  review_length         0         1  \\\n",
       "134  jg37O7ANF7hqggS6bxUpcQ    3.0     5          130.2  0.337006  0.304949   \n",
       "\n",
       "            2         3         4        5  \n",
       "134  0.026292  0.055292  0.067801  0.20866  "
      ]
     },
     "execution_count": 544,
     "metadata": {},
     "output_type": "execute_result"
    }
   ],
   "source": [
    "# Check 1 business output for Negative Topic\n",
    "\n",
    "neg_grp_df[neg_grp_df.business_id == 'jg37O7ANF7hqggS6bxUpcQ']"
   ]
  },
  {
   "cell_type": "code",
   "execution_count": 376,
   "metadata": {},
   "outputs": [],
   "source": [
    "pos_df_tot = pos_df_tot.drop_duplicates()\n",
    "neg_df_tot = neg_df_tot.drop_duplicates()"
   ]
  },
  {
   "cell_type": "code",
   "execution_count": 545,
   "metadata": {},
   "outputs": [
    {
     "data": {
      "text/html": [
       "<div>\n",
       "<style scoped>\n",
       "    .dataframe tbody tr th:only-of-type {\n",
       "        vertical-align: middle;\n",
       "    }\n",
       "\n",
       "    .dataframe tbody tr th {\n",
       "        vertical-align: top;\n",
       "    }\n",
       "\n",
       "    .dataframe thead th {\n",
       "        text-align: right;\n",
       "    }\n",
       "</style>\n",
       "<table border=\"1\" class=\"dataframe\">\n",
       "  <thead>\n",
       "    <tr style=\"text-align: right;\">\n",
       "      <th></th>\n",
       "      <th>business_id</th>\n",
       "      <th>name</th>\n",
       "      <th>city</th>\n",
       "      <th>neighborhood</th>\n",
       "      <th>latitude</th>\n",
       "      <th>longitude</th>\n",
       "      <th>cuisine</th>\n",
       "      <th>RestaurantsPriceRange2</th>\n",
       "      <th>stars</th>\n",
       "      <th>0</th>\n",
       "      <th>1</th>\n",
       "      <th>2</th>\n",
       "      <th>3</th>\n",
       "      <th>4</th>\n",
       "      <th>5</th>\n",
       "    </tr>\n",
       "  </thead>\n",
       "  <tbody>\n",
       "    <tr>\n",
       "      <th>157</th>\n",
       "      <td>jg37O7ANF7hqggS6bxUpcQ</td>\n",
       "      <td>Pho Thanh Vietnamese Noodle House &amp; Restaurant</td>\n",
       "      <td>Calgary</td>\n",
       "      <td>NaN</td>\n",
       "      <td>51.11154</td>\n",
       "      <td>-114.055896</td>\n",
       "      <td>chinese</td>\n",
       "      <td>1.0</td>\n",
       "      <td>3.861111</td>\n",
       "      <td>0.197244</td>\n",
       "      <td>0.020252</td>\n",
       "      <td>0.490782</td>\n",
       "      <td>0.107854</td>\n",
       "      <td>0.098136</td>\n",
       "      <td>0.085733</td>\n",
       "    </tr>\n",
       "  </tbody>\n",
       "</table>\n",
       "</div>"
      ],
      "text/plain": [
       "                business_id                                            name  \\\n",
       "157  jg37O7ANF7hqggS6bxUpcQ  Pho Thanh Vietnamese Noodle House & Restaurant   \n",
       "\n",
       "        city neighborhood  latitude   longitude  cuisine  \\\n",
       "157  Calgary          NaN  51.11154 -114.055896  chinese   \n",
       "\n",
       "     RestaurantsPriceRange2     stars         0         1         2         3  \\\n",
       "157                     1.0  3.861111  0.197244  0.020252  0.490782  0.107854   \n",
       "\n",
       "            4         5  \n",
       "157  0.098136  0.085733  "
      ]
     },
     "execution_count": 545,
     "metadata": {},
     "output_type": "execute_result"
    }
   ],
   "source": [
    "# Check final output:\n",
    "\n",
    "pos_df_tot[pos_df_tot.business_id == 'jg37O7ANF7hqggS6bxUpcQ']"
   ]
  },
  {
   "cell_type": "code",
   "execution_count": 137,
   "metadata": {},
   "outputs": [],
   "source": [
    "# v_amer_pos = df_pos_tot.rename(columns={'0': 'Waiting Time', '1': 'Burger/Fries/Shake', '2': 'Customer Service', '3': 'Breakfast/Eggs/Pancakes',\\\n",
    "#                                         '4': 'Chicken/Waffles', '5': 'Atmosphere'})\n",
    "\n",
    "# v_amer_neg = df_neg_tot.rename(columns={'0': 'Atmosphere', '1': 'Burger/Fries', '2': 'Waiting Time', '3': 'Chicken/Steak',\\\n",
    "#                                        '4': 'Customer Service', '5': 'Buffet/Price'})"
   ]
  },
  {
   "cell_type": "code",
   "execution_count": 219,
   "metadata": {},
   "outputs": [],
   "source": [
    "# v_ita_pos = df_pos_tot.rename(columns={0:'Waiting Time', 1:'Pizza', 2:'Price',\\\n",
    "#                                        3:'Pasta/Chicken', 4:'Customer Service', 5:'Atmosphere'})\n",
    "\n",
    "# v_ita_neg = df_neg_tot.rename(columns={0:'Waiting Time', 1:'Pizza', 2:'Delivery/Reservation',\\\n",
    "#                                        3:'Chicken/Pasta', 4:'Customer Service', 5:'Atmosphere'})"
   ]
  },
  {
   "cell_type": "code",
   "execution_count": 327,
   "metadata": {},
   "outputs": [],
   "source": [
    "v_chi_pos = df_pos_tot.rename(columns={0:'Chicken Rice/Shrimp', 1:'Dim Sum', 2:'Customer Service',\\\n",
    "                                       3:'Noodles/Soup', 4:'Waiting Time', 5:'Pad Thai/Curry'})\n",
    "\n",
    "v_chi_neg = df_neg_tot.rename(columns={0:'Price', 1:'Chicken Rice', 2:'Dim Sum', \\\n",
    "                                       3:'Waiting Time', 4:'Soup/Noodle', 5:'Customer Service'})"
   ]
  },
  {
   "cell_type": "code",
   "execution_count": 379,
   "metadata": {},
   "outputs": [],
   "source": [
    "t_chi_pos = df_pos_tot.rename(columns={0:'Waiting Time', 1:'Dim Sum', 2:'Dumplings',\\\n",
    "                                       3:'Noodles/Soup', 4:'Chicken Rice', 5:'Customer Service'})\n",
    "\n",
    "t_chi_neg = df_neg_tot.rename(columns={0:'Waiting Time', 1:'Dim Sum', 2:'Customer Service',\\\n",
    "                                       3:'Dumplings', 4:'Chicken Rice', 5:'Noodles/Soup'})"
   ]
  },
  {
   "cell_type": "code",
   "execution_count": 431,
   "metadata": {},
   "outputs": [],
   "source": [
    "t_amer_pos = df_pos_tot.rename(columns={0:'Bar/Beer', 1:'Customer Service/Atmosphere', 2:'Burger/Fries',\\\n",
    "                                        3:'Chicken/Ribs/Sandwich', 4:'Brunch/Eggs', 5:'Order/Waiting Time'})\n",
    "\n",
    "t_amer_neg = df_neg_tot.rename(columns={0:'Waiting Time', 1:'Chicken/Sandwich', 2:'Beer/Bar/Drinks',\\\n",
    "                                        3:'BUrger/Fries', 4:'Wings/Sauce', 5:'Customer Service'})"
   ]
  },
  {
   "cell_type": "code",
   "execution_count": 493,
   "metadata": {},
   "outputs": [],
   "source": [
    "t_ita_pos = df_pos_tot.rename(columns={0:'Order/Waiting Time', 1:'Pizza', 2:'Customer Service',\\\n",
    "                                       3:'Pasta', 4:'Atmosphere'})\n",
    "\n",
    "t_ita_neg = df_neg_tot.rename(columns={0:'Customer Service', 1:'Pizza', 2:'Pasta',\\\n",
    "                                       3:'Order/Waiting Time', 4:'Atmosphere'})"
   ]
  },
  {
   "cell_type": "code",
   "execution_count": 548,
   "metadata": {},
   "outputs": [],
   "source": [
    "c_chi_pos = df_pos_tot.rename(columns={0:'Soup/Pork', 1:'Dim Sum', 2:'Customer Service',\\\n",
    "                                       3:'Ginger Beef/Chicken', 4:'Pad Thai/Curry', 5:'Bubble Tea'})\n",
    "\n",
    "c_chi_neg = df_neg_tot.rename(columns={0:'Buffet/Atmosphere', 1:'Chicken/Soup', 2:'Dim Sum',\\\n",
    "                                       3:'Order/Waiting Time', 4:'Ginger Beef/Pork', 5:'Customer Service'})"
   ]
  },
  {
   "cell_type": "code",
   "execution_count": 549,
   "metadata": {},
   "outputs": [
    {
     "name": "stdout",
     "output_type": "stream",
     "text": [
      "Wall time: 31.6 ms\n"
     ]
    }
   ],
   "source": [
    "# Write to CSV\n",
    "c_chi_pos.to_csv('datasets/pos_bsns_c_chi.csv', index=False)\n",
    "c_chi_neg.to_csv('datasets/neg_bsns_c_chi.csv', index=False)"
   ]
  }
 ],
 "metadata": {
  "kernelspec": {
   "display_name": "Python 3",
   "language": "python",
   "name": "python3"
  },
  "language_info": {
   "codemirror_mode": {
    "name": "ipython",
    "version": 3
   },
   "file_extension": ".py",
   "mimetype": "text/x-python",
   "name": "python",
   "nbconvert_exporter": "python",
   "pygments_lexer": "ipython3",
   "version": "3.7.0"
  }
 },
 "nbformat": 4,
 "nbformat_minor": 2
}
