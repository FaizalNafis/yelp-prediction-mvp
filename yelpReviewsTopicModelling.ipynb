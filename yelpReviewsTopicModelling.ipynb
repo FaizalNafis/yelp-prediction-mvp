{
 "cells": [
  {
   "cell_type": "code",
   "execution_count": 22,
   "metadata": {},
   "outputs": [],
   "source": [
    "## IMPORT NECESSARY PACKAGES #1\n",
    "\n",
    "from pprint import pprint\n",
    "# import pandasql as ps\n",
    "import numpy as np\n",
    "import pandas as pd\n",
    "import requests\n",
    "import matplotlib.pyplot as plt\n",
    "%matplotlib inline\n",
    "import seaborn as sns\n",
    "from zipfile import ZipFile\n",
    "from io import BytesIO\n",
    "from IPython.core.interactiveshell import InteractiveShell\n",
    "from IPython.display import display, HTML\n",
    "# InteractiveShell.ast_node_interactivity = \"all\"\n",
    "# CSS = \"\"\"\n",
    "# .output {\n",
    "#     flex-direction: row;\n",
    "# }\n",
    "# \"\"\"\n",
    "# HTML('<style>{}</style>'.format(CSS))\n",
    "\n",
    "sns.set()"
   ]
  },
  {
   "cell_type": "code",
   "execution_count": 23,
   "metadata": {},
   "outputs": [
    {
     "name": "stderr",
     "output_type": "stream",
     "text": [
      "/usr/local/lib/python3.7/site-packages/IPython/core/interactiveshell.py:2785: DtypeWarning: Columns (0,2) have mixed types. Specify dtype option on import or set low_memory=False.\n",
      "  interactivity=interactivity, compiler=compiler, result=result)\n"
     ]
    }
   ],
   "source": [
    "## LOAD TORONTO DATASETS & DELETE WEIRD \n",
    "\n",
    "restaurants_df = pd.read_csv(\"datasets/vegas_pr2_restaurants.csv\", sep=',', encoding='utf-8')\n",
    "reviews_df = pd.read_csv(\"datasets/american_reviews.csv\", sep='\\t', encoding='utf-8')\n",
    "\n",
    "#del(restaurants_df['Unnamed: 0'])\n",
    "del(reviews_df['Unnamed: 0'])\n",
    "\n",
    "#restaurants_df = restaurants_df[restaurants_df['RestaurantsPriceRange2'] == 2]\n",
    "reviews_df = reviews_df.loc[reviews_df['business_id'].isin(restaurants_df.business_id)]"
   ]
  },
  {
   "cell_type": "code",
   "execution_count": 73,
   "metadata": {
    "scrolled": true
   },
   "outputs": [
    {
     "data": {
      "text/html": [
       "<div>\n",
       "<style scoped>\n",
       "    .dataframe tbody tr th:only-of-type {\n",
       "        vertical-align: middle;\n",
       "    }\n",
       "\n",
       "    .dataframe tbody tr th {\n",
       "        vertical-align: top;\n",
       "    }\n",
       "\n",
       "    .dataframe thead th {\n",
       "        text-align: right;\n",
       "    }\n",
       "</style>\n",
       "<table border=\"1\" class=\"dataframe\">\n",
       "  <thead>\n",
       "    <tr style=\"text-align: right;\">\n",
       "      <th></th>\n",
       "      <th>address</th>\n",
       "      <th>BikeParking</th>\n",
       "      <th>BusinessAcceptsCreditCards</th>\n",
       "      <th>Caters</th>\n",
       "      <th>CoatCheck</th>\n",
       "      <th>GoodForKids</th>\n",
       "      <th>HappyHour</th>\n",
       "      <th>HasTV</th>\n",
       "      <th>OutdoorSeating</th>\n",
       "      <th>RestaurantsDelivery</th>\n",
       "      <th>...</th>\n",
       "      <th>noise_average</th>\n",
       "      <th>noise_loud</th>\n",
       "      <th>noise_quiet</th>\n",
       "      <th>noise_very_loud</th>\n",
       "      <th>price_range_1</th>\n",
       "      <th>price_range_2</th>\n",
       "      <th>price_range_3</th>\n",
       "      <th>price_range_4</th>\n",
       "      <th>attire_casual</th>\n",
       "      <th>attire_dressy</th>\n",
       "    </tr>\n",
       "  </thead>\n",
       "  <tbody>\n",
       "    <tr>\n",
       "      <th>0</th>\n",
       "      <td>2227 N Rampart Blvd</td>\n",
       "      <td>True</td>\n",
       "      <td>True</td>\n",
       "      <td>False</td>\n",
       "      <td>NaN</td>\n",
       "      <td>True</td>\n",
       "      <td>NaN</td>\n",
       "      <td>True</td>\n",
       "      <td>False</td>\n",
       "      <td>False</td>\n",
       "      <td>...</td>\n",
       "      <td>True</td>\n",
       "      <td>False</td>\n",
       "      <td>False</td>\n",
       "      <td>False</td>\n",
       "      <td>False</td>\n",
       "      <td>True</td>\n",
       "      <td>False</td>\n",
       "      <td>False</td>\n",
       "      <td>True</td>\n",
       "      <td>False</td>\n",
       "    </tr>\n",
       "    <tr>\n",
       "      <th>1</th>\n",
       "      <td>2201 S Fort Apache Rd</td>\n",
       "      <td>True</td>\n",
       "      <td>True</td>\n",
       "      <td>False</td>\n",
       "      <td>NaN</td>\n",
       "      <td>True</td>\n",
       "      <td>NaN</td>\n",
       "      <td>True</td>\n",
       "      <td>True</td>\n",
       "      <td>False</td>\n",
       "      <td>...</td>\n",
       "      <td>True</td>\n",
       "      <td>False</td>\n",
       "      <td>False</td>\n",
       "      <td>False</td>\n",
       "      <td>False</td>\n",
       "      <td>True</td>\n",
       "      <td>False</td>\n",
       "      <td>False</td>\n",
       "      <td>True</td>\n",
       "      <td>False</td>\n",
       "    </tr>\n",
       "    <tr>\n",
       "      <th>2</th>\n",
       "      <td>7530 S Las Vegas Blvd</td>\n",
       "      <td>True</td>\n",
       "      <td>True</td>\n",
       "      <td>True</td>\n",
       "      <td>False</td>\n",
       "      <td>True</td>\n",
       "      <td>True</td>\n",
       "      <td>True</td>\n",
       "      <td>False</td>\n",
       "      <td>False</td>\n",
       "      <td>...</td>\n",
       "      <td>True</td>\n",
       "      <td>False</td>\n",
       "      <td>False</td>\n",
       "      <td>False</td>\n",
       "      <td>False</td>\n",
       "      <td>True</td>\n",
       "      <td>False</td>\n",
       "      <td>False</td>\n",
       "      <td>True</td>\n",
       "      <td>False</td>\n",
       "    </tr>\n",
       "    <tr>\n",
       "      <th>3</th>\n",
       "      <td>2101 Texas Star Ln</td>\n",
       "      <td>True</td>\n",
       "      <td>True</td>\n",
       "      <td>False</td>\n",
       "      <td>NaN</td>\n",
       "      <td>True</td>\n",
       "      <td>NaN</td>\n",
       "      <td>False</td>\n",
       "      <td>False</td>\n",
       "      <td>False</td>\n",
       "      <td>...</td>\n",
       "      <td>True</td>\n",
       "      <td>False</td>\n",
       "      <td>False</td>\n",
       "      <td>False</td>\n",
       "      <td>False</td>\n",
       "      <td>True</td>\n",
       "      <td>False</td>\n",
       "      <td>False</td>\n",
       "      <td>True</td>\n",
       "      <td>False</td>\n",
       "    </tr>\n",
       "    <tr>\n",
       "      <th>4</th>\n",
       "      <td>10490 W Cheyenne Ave</td>\n",
       "      <td>True</td>\n",
       "      <td>True</td>\n",
       "      <td>False</td>\n",
       "      <td>NaN</td>\n",
       "      <td>True</td>\n",
       "      <td>NaN</td>\n",
       "      <td>True</td>\n",
       "      <td>False</td>\n",
       "      <td>False</td>\n",
       "      <td>...</td>\n",
       "      <td>True</td>\n",
       "      <td>False</td>\n",
       "      <td>False</td>\n",
       "      <td>False</td>\n",
       "      <td>False</td>\n",
       "      <td>True</td>\n",
       "      <td>False</td>\n",
       "      <td>False</td>\n",
       "      <td>True</td>\n",
       "      <td>False</td>\n",
       "    </tr>\n",
       "  </tbody>\n",
       "</table>\n",
       "<p>5 rows × 89 columns</p>\n",
       "</div>"
      ],
      "text/plain": [
       "                 address BikeParking BusinessAcceptsCreditCards Caters  \\\n",
       "0    2227 N Rampart Blvd        True                       True  False   \n",
       "1  2201 S Fort Apache Rd        True                       True  False   \n",
       "2  7530 S Las Vegas Blvd        True                       True   True   \n",
       "3     2101 Texas Star Ln        True                       True  False   \n",
       "4   10490 W Cheyenne Ave        True                       True  False   \n",
       "\n",
       "  CoatCheck GoodForKids HappyHour  HasTV OutdoorSeating RestaurantsDelivery  \\\n",
       "0       NaN        True       NaN   True          False               False   \n",
       "1       NaN        True       NaN   True           True               False   \n",
       "2     False        True      True   True          False               False   \n",
       "3       NaN        True       NaN  False          False               False   \n",
       "4       NaN        True       NaN   True          False               False   \n",
       "\n",
       "       ...      noise_average noise_loud noise_quiet noise_very_loud  \\\n",
       "0      ...               True      False       False           False   \n",
       "1      ...               True      False       False           False   \n",
       "2      ...               True      False       False           False   \n",
       "3      ...               True      False       False           False   \n",
       "4      ...               True      False       False           False   \n",
       "\n",
       "  price_range_1 price_range_2 price_range_3 price_range_4 attire_casual  \\\n",
       "0         False          True         False         False          True   \n",
       "1         False          True         False         False          True   \n",
       "2         False          True         False         False          True   \n",
       "3         False          True         False         False          True   \n",
       "4         False          True         False         False          True   \n",
       "\n",
       "  attire_dressy  \n",
       "0         False  \n",
       "1         False  \n",
       "2         False  \n",
       "3         False  \n",
       "4         False  \n",
       "\n",
       "[5 rows x 89 columns]"
      ]
     },
     "execution_count": 73,
     "metadata": {},
     "output_type": "execute_result"
    }
   ],
   "source": [
    "restaurants_df.head()"
   ]
  },
  {
   "cell_type": "code",
   "execution_count": 25,
   "metadata": {},
   "outputs": [
    {
     "data": {
      "text/html": [
       "<div>\n",
       "<style scoped>\n",
       "    .dataframe tbody tr th:only-of-type {\n",
       "        vertical-align: middle;\n",
       "    }\n",
       "\n",
       "    .dataframe tbody tr th {\n",
       "        vertical-align: top;\n",
       "    }\n",
       "\n",
       "    .dataframe thead th {\n",
       "        text-align: right;\n",
       "    }\n",
       "</style>\n",
       "<table border=\"1\" class=\"dataframe\">\n",
       "  <thead>\n",
       "    <tr style=\"text-align: right;\">\n",
       "      <th></th>\n",
       "      <th>business_id</th>\n",
       "      <th>cool</th>\n",
       "      <th>date</th>\n",
       "      <th>funny</th>\n",
       "      <th>review_id</th>\n",
       "      <th>stars</th>\n",
       "      <th>text</th>\n",
       "      <th>useful</th>\n",
       "      <th>user_id</th>\n",
       "    </tr>\n",
       "  </thead>\n",
       "  <tbody>\n",
       "    <tr>\n",
       "      <th>0</th>\n",
       "      <td>jtQARsP6P-LbkyjbO1qNGg</td>\n",
       "      <td>1</td>\n",
       "      <td>2014-10-23</td>\n",
       "      <td>1.0</td>\n",
       "      <td>LZp4UX5zK3e-c5ZGSeo3kA</td>\n",
       "      <td>1.0</td>\n",
       "      <td>Terrible. Dry corn bread. Rib tips were all fa...</td>\n",
       "      <td>3.0</td>\n",
       "      <td>msQe1u7Z_XuqjGoqhB0J5g</td>\n",
       "    </tr>\n",
       "    <tr>\n",
       "      <th>2</th>\n",
       "      <td>faPVqws-x-5k2CQKDNtHxw</td>\n",
       "      <td>0</td>\n",
       "      <td>2015-03-25</td>\n",
       "      <td>2.0</td>\n",
       "      <td>QHueaxKHuBpbDOkWb0Cyfw</td>\n",
       "      <td>1.0</td>\n",
       "      <td>People please...the only good thing about this...</td>\n",
       "      <td>2.0</td>\n",
       "      <td>0AIj432MvowwghnpurtP-Q</td>\n",
       "    </tr>\n",
       "    <tr>\n",
       "      <th>5</th>\n",
       "      <td>3kdSl5mo9dWC4clrQjEDGg</td>\n",
       "      <td>0</td>\n",
       "      <td>2015-10-17</td>\n",
       "      <td>1.0</td>\n",
       "      <td>Bay72mIfR-yGKZf_S9xQeg</td>\n",
       "      <td>4.0</td>\n",
       "      <td>????????????????????????????????????\\r\\n?????7...</td>\n",
       "      <td>0.0</td>\n",
       "      <td>5oy_MM1skY1LvmdNNVVM5Q</td>\n",
       "    </tr>\n",
       "    <tr>\n",
       "      <th>6</th>\n",
       "      <td>f4x1YBxkLrZg652xt2KR5g</td>\n",
       "      <td>0</td>\n",
       "      <td>2015-10-17</td>\n",
       "      <td>0.0</td>\n",
       "      <td>YeRRSIod4aDvNDQKvbSWnA</td>\n",
       "      <td>3.0</td>\n",
       "      <td>????????????????????\\r\\n???Link Hotel???????\\r...</td>\n",
       "      <td>0.0</td>\n",
       "      <td>5oy_MM1skY1LvmdNNVVM5Q</td>\n",
       "    </tr>\n",
       "    <tr>\n",
       "      <th>8</th>\n",
       "      <td>wuQDMDlqM17jQNo0lYQZ7g</td>\n",
       "      <td>0</td>\n",
       "      <td>2014-06-23</td>\n",
       "      <td>0.0</td>\n",
       "      <td>5kMnY9eUsskyknVszeqWQw</td>\n",
       "      <td>5.0</td>\n",
       "      <td>One of the best experiences I have had in Vega...</td>\n",
       "      <td>0.0</td>\n",
       "      <td>FHwl6kaKdD5-KAnfVb_pKQ</td>\n",
       "    </tr>\n",
       "  </tbody>\n",
       "</table>\n",
       "</div>"
      ],
      "text/plain": [
       "              business_id cool        date  funny               review_id  \\\n",
       "0  jtQARsP6P-LbkyjbO1qNGg    1  2014-10-23    1.0  LZp4UX5zK3e-c5ZGSeo3kA   \n",
       "2  faPVqws-x-5k2CQKDNtHxw    0  2015-03-25    2.0  QHueaxKHuBpbDOkWb0Cyfw   \n",
       "5  3kdSl5mo9dWC4clrQjEDGg    0  2015-10-17    1.0  Bay72mIfR-yGKZf_S9xQeg   \n",
       "6  f4x1YBxkLrZg652xt2KR5g    0  2015-10-17    0.0  YeRRSIod4aDvNDQKvbSWnA   \n",
       "8  wuQDMDlqM17jQNo0lYQZ7g    0  2014-06-23    0.0  5kMnY9eUsskyknVszeqWQw   \n",
       "\n",
       "   stars                                               text  useful  \\\n",
       "0    1.0  Terrible. Dry corn bread. Rib tips were all fa...     3.0   \n",
       "2    1.0  People please...the only good thing about this...     2.0   \n",
       "5    4.0  ????????????????????????????????????\\r\\n?????7...     0.0   \n",
       "6    3.0  ????????????????????\\r\\n???Link Hotel???????\\r...     0.0   \n",
       "8    5.0  One of the best experiences I have had in Vega...     0.0   \n",
       "\n",
       "                  user_id  \n",
       "0  msQe1u7Z_XuqjGoqhB0J5g  \n",
       "2  0AIj432MvowwghnpurtP-Q  \n",
       "5  5oy_MM1skY1LvmdNNVVM5Q  \n",
       "6  5oy_MM1skY1LvmdNNVVM5Q  \n",
       "8  FHwl6kaKdD5-KAnfVb_pKQ  "
      ]
     },
     "execution_count": 25,
     "metadata": {},
     "output_type": "execute_result"
    }
   ],
   "source": [
    "reviews_df.head()"
   ]
  },
  {
   "cell_type": "code",
   "execution_count": 26,
   "metadata": {},
   "outputs": [
    {
     "name": "stdout",
     "output_type": "stream",
     "text": [
      "Number of categories listed 1\n"
     ]
    },
    {
     "data": {
      "text/plain": [
       "0    Las Vegas\n",
       "1    Las Vegas\n",
       "2    Las Vegas\n",
       "3    Las Vegas\n",
       "4    Las Vegas\n",
       "Name: city, dtype: object"
      ]
     },
     "execution_count": 26,
     "metadata": {},
     "output_type": "execute_result"
    }
   ],
   "source": [
    "print('Number of categories listed',restaurants_df['city'].nunique())\n",
    "\n",
    "restaurants_df['city'].head()"
   ]
  },
  {
   "cell_type": "code",
   "execution_count": 27,
   "metadata": {},
   "outputs": [
    {
     "data": {
      "text/plain": [
       "801"
      ]
     },
     "execution_count": 27,
     "metadata": {},
     "output_type": "execute_result"
    }
   ],
   "source": [
    "len(restaurants_df)"
   ]
  },
  {
   "cell_type": "code",
   "execution_count": 28,
   "metadata": {},
   "outputs": [
    {
     "data": {
      "image/png": "[encoded data removed]",
      "text/plain": [
       "<Figure size 1080x216 with 5 Axes>"
      ]
     },
     "metadata": {},
     "output_type": "display_data"
    }
   ],
   "source": [
    "# check how the review lengths are distributed\n",
    "reviews_df['review_length'] = reviews_df.text.map(len)\n",
    "\n",
    "ax = sns.FacetGrid(data=reviews_df, col='stars', xlim=(0, 2000)).map(plt.hist, 'review_length', bins=50)\n",
    "\n",
    "ax.axes[0][0].set(ylabel='number of reviews');"
   ]
  },
  {
   "cell_type": "code",
   "execution_count": 29,
   "metadata": {},
   "outputs": [
    {
     "name": "stdout",
     "output_type": "stream",
     "text": [
      "Postive Reviews:  147,567\n",
      "Negative Reviews:  85,357\n"
     ]
    }
   ],
   "source": [
    "pos_reviews = reviews_df.text[reviews_df.stars>3.5].values\n",
    "neg_reviews = reviews_df.text[reviews_df.stars<=3.5].values\n",
    "print('Postive Reviews:  {:,}'.format(len(pos_reviews)))\n",
    "print('Negative Reviews:  {:,}'.format(len(neg_reviews)))"
   ]
  },
  {
   "cell_type": "code",
   "execution_count": 30,
   "metadata": {},
   "outputs": [],
   "source": [
    "# additional stopwords\n",
    "from sklearn.feature_extraction import text \n",
    "extra_words = ['ve', 'like', 'got', 'toronto', 'just', \n",
    "               'don', 'really', 'said', 'told', 'ok',\n",
    "               'came', 'went', 'did', 'didn', 'good']\n",
    "stop_words = text.ENGLISH_STOP_WORDS.union(extra_words)"
   ]
  },
  {
   "cell_type": "code",
   "execution_count": 31,
   "metadata": {},
   "outputs": [
    {
     "name": "stdout",
     "output_type": "stream",
     "text": [
      "CPU times: user 5.55 s, sys: 210 ms, total: 5.76 s\n",
      "Wall time: 6.3 s\n"
     ]
    }
   ],
   "source": [
    "%%time\n",
    "from sklearn.feature_extraction.text import TfidfVectorizer\n",
    "\n",
    "# Create a vectorizer object to generate term document counts\n",
    "tfidf_pos = TfidfVectorizer(stop_words=stop_words, min_df=10, max_df=0.5, \n",
    "                        ngram_range=(1,1), token_pattern='[a-z][a-z]+')\n",
    "\n",
    "tfidf_neg = TfidfVectorizer(stop_words=stop_words, min_df=10, max_df=0.5, \n",
    "                        ngram_range=(1,1), token_pattern='[a-z][a-z]+')\n",
    "\n",
    "# Get random subset of reviews\n",
    "np.random.seed(38)\n",
    "num_reviews = 20000\n",
    "random_neg = np.random.choice(neg_reviews, size=num_reviews)\n",
    "random_pos = np.random.choice(pos_reviews, size=num_reviews)\n",
    "\n",
    "dicty = {'pizzas':'pizza', 'burgers':'burger', 'ordered':'order',\n",
    "         'prices':'price', 'topping':'toppings'}\n",
    "def replace_words(text, dicty):\n",
    "    '''Returns text with word substitutions made according\n",
    "       to the passed `dicty` dictionary'''\n",
    "    for i,j in dicty.items():\n",
    "        text = text.replace(i,j)\n",
    "    return text\n",
    "\n",
    "random_neg = [replace_words(w, dicty) for w in random_neg]\n",
    "random_pos = [replace_words(w, dicty) for w in random_pos]\n",
    "\n",
    "# Get the vectors\n",
    "neg_vectors = tfidf_neg.fit_transform(random_neg)\n",
    "pos_vectors = tfidf_pos.fit_transform(random_pos)"
   ]
  },
  {
   "cell_type": "code",
   "execution_count": 32,
   "metadata": {},
   "outputs": [],
   "source": [
    "# Store TFIDF vectors in a Pandas DataFrame to investigate further\n",
    "neg_df = pd.DataFrame(neg_vectors.todense(), columns=[tfidf_neg.get_feature_names()])\n",
    "pos_df = pd.DataFrame(pos_vectors.todense(), columns=[tfidf_pos.get_feature_names()])\n",
    "\n",
    "# get mean for each column (word): highest means are most important words\n",
    "col_means_neg = {}\n",
    "for col in neg_df:\n",
    "    col_means_neg[col] = neg_df[col].mean()\n",
    "\n",
    "col_means_pos = {}\n",
    "for col in pos_df:\n",
    "    col_means_pos[col] = pos_df[col].mean()"
   ]
  },
  {
   "cell_type": "code",
   "execution_count": 33,
   "metadata": {
    "scrolled": true
   },
   "outputs": [
    {
     "name": "stdout",
     "output_type": "stream",
     "text": [
      "Top 10 words in POSITIVE reviews:[('great',), ('place',), ('service',), ('burger',), ('time',), ('order',), ('vegas',), ('amazing',), ('delicious',), ('chicken',)]\n",
      "Top 10 words in NEGATIVE reviews:[('order',), ('service',), ('place',), ('burger',), ('time',), ('great',), ('chicken',), ('minutes',), ('fries',), ('restaurant',)]\n"
     ]
    }
   ],
   "source": [
    "no_top_words = 10\n",
    "\n",
    "print('Top %d words in POSITIVE reviews:' %no_top_words, end='')\n",
    "print(sorted(col_means_pos, key=col_means_pos.get, reverse=True)[:no_top_words])\n",
    "\n",
    "print('Top %d words in NEGATIVE reviews:' %no_top_words, end='')\n",
    "print(sorted(col_means_neg, key=col_means_neg.get, reverse=True)[:no_top_words])"
   ]
  },
  {
   "cell_type": "code",
   "execution_count": 34,
   "metadata": {},
   "outputs": [],
   "source": [
    "# delete dataframes to save memory\n",
    "del neg_df\n",
    "del pos_df"
   ]
  },
  {
   "cell_type": "code",
   "execution_count": 35,
   "metadata": {},
   "outputs": [],
   "source": [
    "# LSA\n",
    "from gensim import corpora, models, similarities, matutils\n",
    "\n",
    "# Convert sparse matrix of counts to a gensim corpus\n",
    "# Need to transpose it for gensim which wants terms by docs instead of docs by terms\n",
    "tfidf_pos_corpus = matutils.Sparse2Corpus(pos_vectors.transpose())\n",
    "tfidf_neg_corpus = matutils.Sparse2Corpus(neg_vectors.transpose())\n",
    "\n",
    "# Row indices\n",
    "id2word_pos = dict((v,k) for k,v in tfidf_pos.vocabulary_.items())\n",
    "id2word_neg = dict((v,k) for k,v in tfidf_neg.vocabulary_.items())\n",
    "\n",
    "# This is a hack for Python 3!\n",
    "id2word_pos = corpora.Dictionary.from_corpus(tfidf_pos_corpus, id2word=id2word_pos)\n",
    "id2word_neg = corpora.Dictionary.from_corpus(tfidf_neg_corpus, id2word=id2word_neg)"
   ]
  },
  {
   "cell_type": "code",
   "execution_count": 36,
   "metadata": {},
   "outputs": [],
   "source": [
    "# create LSA model\n",
    "num_topics = 7\n",
    "lsi_pos = models.LsiModel(tfidf_pos_corpus, id2word=id2word_pos, num_topics=num_topics)\n",
    "lsi_neg = models.LsiModel(tfidf_neg_corpus, id2word=id2word_neg, num_topics=num_topics)"
   ]
  },
  {
   "cell_type": "code",
   "execution_count": 37,
   "metadata": {},
   "outputs": [
    {
     "data": {
      "image/png": "[encoded data removed]",
      "text/plain": [
       "<Figure size 864x360 with 1 Axes>"
      ]
     },
     "metadata": {},
     "output_type": "display_data"
    }
   ],
   "source": [
    "# elbow plot\n",
    "singular_values_pos = lsi_pos.projection.s.tolist()\n",
    "singular_values_pos_rel = [sv/singular_values_pos[-1] for sv in singular_values_pos]\n",
    "singular_values_neg = lsi_neg.projection.s.tolist()\n",
    "singular_values_neg_rel = [sv/singular_values_neg[-1] for sv in singular_values_neg]\n",
    "\n",
    "plt.style.use('fivethirtyeight')\n",
    "plt.figure(figsize=(12,5))\n",
    "plt.plot(range(len(singular_values_pos)), singular_values_pos_rel, label='Positive Reviews', alpha=1.0)\n",
    "plt.plot(range(len(singular_values_neg)), singular_values_neg_rel, label='Negative Reviews', alpha=0.7)\n",
    "plt.xticks(range(len(singular_values_pos)), range(len(singular_values_pos)))\n",
    "plt.xlabel('Topic #')\n",
    "plt.ylabel('Relative Strength')\n",
    "plt.title('LSI Topic Strengths (Relative)')\n",
    "plt.legend(loc=0, fontsize='medium');"
   ]
  },
  {
   "cell_type": "code",
   "execution_count": 38,
   "metadata": {},
   "outputs": [],
   "source": [
    "topics_to_print = 5"
   ]
  },
  {
   "cell_type": "code",
   "execution_count": 39,
   "metadata": {},
   "outputs": [
    {
     "name": "stdout",
     "output_type": "stream",
     "text": [
      "Top 5 topics for POSITIVE reviews\n",
      "---------------------------------\n",
      "[(0,\n",
      "  '0.281*\"great\" + 0.229*\"place\" + 0.224*\"burger\" + 0.196*\"service\" + '\n",
      "  '0.145*\"order\" + 0.144*\"time\" + 0.137*\"vegas\" + 0.129*\"amazing\" + '\n",
      "  '0.127*\"breakfast\" + 0.126*\"chicken\"'),\n",
      " (1,\n",
      "  '-0.784*\"burger\" + -0.294*\"fries\" + 0.223*\"great\" + 0.172*\"breakfast\" + '\n",
      "  '0.127*\"service\" + 0.103*\"place\" + -0.096*\"truffle\" + -0.093*\"shake\" + '\n",
      "  '-0.085*\"cheese\" + 0.077*\"friendly\"'),\n",
      " (2,\n",
      "  '-0.567*\"great\" + 0.288*\"chicken\" + -0.250*\"service\" + -0.215*\"burger\" + '\n",
      "  '0.184*\"order\" + 0.161*\"fried\" + 0.132*\"waffles\" + 0.122*\"breakfast\" + '\n",
      "  '-0.118*\"atmosphere\" + 0.117*\"eggs\"'),\n",
      " (3,\n",
      "  '-0.604*\"breakfast\" + -0.208*\"pancakes\" + -0.190*\"burger\" + 0.174*\"bar\" + '\n",
      "  '0.162*\"happy\" + -0.159*\"eggs\" + 0.152*\"hour\" + 0.150*\"chicken\" + '\n",
      "  '-0.144*\"best\" + -0.126*\"vegas\"'),\n",
      " (4,\n",
      "  '0.426*\"chicken\" + 0.370*\"great\" + -0.328*\"place\" + -0.281*\"love\" + '\n",
      "  '0.239*\"service\" + 0.204*\"fried\" + 0.191*\"waffles\" + -0.136*\"bar\" + '\n",
      "  '-0.123*\"vegas\" + 0.097*\"amazing\"')]\n"
     ]
    }
   ],
   "source": [
    "# look at top positive topics\n",
    "print('Top %d topics for POSITIVE reviews' %(topics_to_print))\n",
    "print('-'*33)\n",
    "pprint(lsi_pos.show_topics()[0:topics_to_print])"
   ]
  },
  {
   "cell_type": "code",
   "execution_count": 40,
   "metadata": {},
   "outputs": [
    {
     "name": "stdout",
     "output_type": "stream",
     "text": [
      "Top 5 topics for NEGATIVE reviews\n",
      "---------------------------------\n",
      "[(0,\n",
      "  '0.221*\"order\" + 0.215*\"burger\" + 0.187*\"place\" + 0.187*\"service\" + '\n",
      "  '0.150*\"time\" + 0.126*\"minutes\" + 0.116*\"great\" + 0.114*\"fries\" + '\n",
      "  '0.110*\"chicken\" + 0.106*\"table\"'),\n",
      " (1,\n",
      "  '0.774*\"burger\" + 0.280*\"fries\" + -0.152*\"minutes\" + 0.108*\"cheese\" + '\n",
      "  '-0.107*\"service\" + -0.100*\"table\" + -0.089*\"server\" + -0.087*\"time\" + '\n",
      "  '0.083*\"shake\" + -0.077*\"took\"'),\n",
      " (2,\n",
      "  '0.333*\"burger\" + 0.287*\"minutes\" + -0.241*\"chicken\" + -0.212*\"buffet\" + '\n",
      "  '-0.205*\"breakfast\" + 0.146*\"waited\" + 0.143*\"table\" + 0.133*\"took\" + '\n",
      "  '0.126*\"order\" + -0.121*\"eggs\"'),\n",
      " (3,\n",
      "  '0.420*\"chicken\" + 0.328*\"order\" + -0.290*\"buffet\" + -0.190*\"place\" + '\n",
      "  '-0.168*\"bar\" + -0.150*\"service\" + -0.147*\"price\" + -0.139*\"vegas\" + '\n",
      "  '0.132*\"fried\" + 0.127*\"salad\"'),\n",
      " (4,\n",
      "  '-0.485*\"breakfast\" + -0.308*\"eggs\" + 0.300*\"chicken\" + 0.225*\"bar\" + '\n",
      "  '-0.168*\"pancakes\" + -0.165*\"coffee\" + 0.159*\"salad\" + -0.145*\"toast\" + '\n",
      "  '-0.143*\"hash\" + -0.136*\"buffet\"')]\n"
     ]
    }
   ],
   "source": [
    "\n",
    "# look at top negative topics\n",
    "print('Top %d topics for NEGATIVE reviews' %(topics_to_print))\n",
    "print('-'*33)\n",
    "pprint(lsi_neg.show_topics()[0:topics_to_print])"
   ]
  },
  {
   "cell_type": "code",
   "execution_count": 41,
   "metadata": {},
   "outputs": [
    {
     "name": "stdout",
     "output_type": "stream",
     "text": [
      "CPU times: user 5.69 s, sys: 310 ms, total: 6 s\n",
      "Wall time: 9.04 s\n"
     ]
    }
   ],
   "source": [
    "\n",
    "%%time\n",
    "# negative values in LSA topics are annoying\n",
    "# let's see if we can fix that with NMF\n",
    "from sklearn.decomposition import NMF\n",
    "\n",
    "# change num_topics\n",
    "num_topics = 6\n",
    "\n",
    "nmf_pos = NMF(n_components=num_topics)\n",
    "W_pos = nmf_pos.fit_transform(pos_vectors)\n",
    "H_pos = nmf_pos.components_\n",
    "\n",
    "nmf_neg = NMF(n_components=num_topics)\n",
    "W_neg = nmf_neg.fit_transform(neg_vectors)\n",
    "H_neg = nmf_neg.components_"
   ]
  },
  {
   "cell_type": "code",
   "execution_count": 42,
   "metadata": {},
   "outputs": [
    {
     "name": "stdout",
     "output_type": "stream",
     "text": [
      "Top topics + words for POSITIVE reviews\n",
      "---------------------------------------\n",
      "Topic 0:   1.097*order, 0.946*time, 0.797*menu, 0.637*nice, 0.637*restaurant, 0.602*bar\n",
      "Topic 1:   3.140*burger, 1.164*fries, 0.378*truffle, 0.354*shake, 0.331*cheese, 0.258*best\n",
      "Topic 2:   2.836*great, 1.480*service, 0.481*atmosphere, 0.421*excellent, 0.405*awesome, 0.395*friendly\n",
      "Topic 3:   2.221*breakfast, 0.854*pancakes, 0.684*eggs, 0.438*toast, 0.429*coffee, 0.370*hash\n",
      "Topic 4:   2.317*chicken, 1.090*fried, 0.981*waffles, 0.297*bacon, 0.292*cheese, 0.274*sage\n",
      "Topic 5:   2.331*place, 1.484*love, 0.950*amazing, 0.780*vegas, 0.531*best, 0.520*staff\n",
      "\n",
      "Top topics + words for NEGATIVE reviews\n",
      "---------------------------------------\n",
      "Topic 0:   1.518*minutes, 1.344*order, 1.045*table, 0.929*took, 0.906*server, 0.844*time\n",
      "Topic 1:   3.081*burger, 1.086*fries, 0.341*cheese, 0.324*shake, 0.244*better, 0.233*medium\n",
      "Topic 2:   1.484*place, 0.948*service, 0.895*great, 0.814*bar, 0.481*pretty, 0.477*nice\n",
      "Topic 3:   1.778*chicken, 0.815*salad, 0.720*order, 0.614*cheese, 0.601*sandwich, 0.568*fried\n",
      "Topic 4:   1.787*breakfast, 1.187*eggs, 0.672*pancakes, 0.609*coffee, 0.599*hash, 0.592*toast\n",
      "Topic 5:   2.097*buffet, 0.457*vegas, 0.423*price, 0.392*buffets, 0.352*better, 0.347*selection\n"
     ]
    }
   ],
   "source": [
    "def display_topics(model, feature_names, num_topics, no_top_words):\n",
    "    for topic_idx, topic in enumerate(model.components_):\n",
    "        if topic_idx < num_topics:\n",
    "            print(\"{:11}\".format(\"Topic %d:\" %(topic_idx)), end='')\n",
    "            print(\", \".join(['{:04.3f}*'.format(topic[i])+feature_names[i] \\\n",
    "                             for i in topic.argsort()[:-no_top_words-1:-1]]))\n",
    "\n",
    "no_topics = num_topics\n",
    "no_top_words = 6\n",
    "\n",
    "print('Top topics + words for POSITIVE reviews')\n",
    "print('-'*39)\n",
    "display_topics(nmf_pos, tfidf_pos.get_feature_names(), no_topics, no_top_words)\n",
    "\n",
    "print('\\nTop topics + words for NEGATIVE reviews')\n",
    "print('-'*39)\n",
    "display_topics(nmf_neg, tfidf_neg.get_feature_names(), no_topics, no_top_words)"
   ]
  },
  {
   "cell_type": "code",
   "execution_count": 43,
   "metadata": {},
   "outputs": [
    {
     "name": "stdout",
     "output_type": "stream",
     "text": [
      "4815\n",
      "I visited this little restaurant with my best friend on our way out of Las Vegas on my birthday weekend. \r\n",
      "\r\n",
      "We were greeted and seated promptly. The menu had some super appealing items on it, so it was hard to choose. The service was good although I felt like we were mis-heard on a few occasions, and it's not as though it's terribly loud in there. (I asked for water and said it three times, but he brought me coffee AND orange juice? Not sure how water sounds like coffee or orange juice.) \r\n",
      "\r\n",
      "The decor was modern and cool, as was the staff.\r\n",
      "\r\n",
      "After a lot of inner turmoil, I decided on the two eggs any style with chive potatoes and toast. The potatoes were awesome. The toast was soft and thick, which was nice. My friend had deviled eggs, if I'm not mistaken. She was happy with hers. We shared a large pancake, which both of us thought was just OK--nothing special. But it looked so fluffy!\r\n",
      "\r\n",
      "I think that overall it is worth the price and the experience. The food quality is great, as is the atmosphere. Definitely hit up this place if you're ever in North Vegas.\n"
     ]
    }
   ],
   "source": [
    "# look at a random positive review\n",
    "review_num = np.random.randint(0, high=len(random_pos))\n",
    "print(review_num)\n",
    "print(random_pos[review_num])\n"
   ]
  },
  {
   "cell_type": "code",
   "execution_count": 44,
   "metadata": {},
   "outputs": [
    {
     "name": "stdout",
     "output_type": "stream",
     "text": [
      "14024\n",
      "Food here is generally average, it's basically a fancy ice cream parlor.  I order a GIANT hot dog, more than any one person should even try to eat.  Service is seriously lacking, but the reason we keep coming back is the Frrrozen Hot Chocolate.  It is honestly the flavor of heaven in my dreams.  It's not cheap, but it is amazing.  I wish we had one in LA just so that I could get my fix without the 4 hour desert drive.  Until then, I'll keep coming back!\n"
     ]
    }
   ],
   "source": [
    "# look at a random negative review\n",
    "review_num = np.random.randint(0, high=len(random_neg))\n",
    "print(review_num)\n",
    "print(random_neg[review_num])\n"
   ]
  },
  {
   "cell_type": "code",
   "execution_count": 45,
   "metadata": {},
   "outputs": [],
   "source": [
    "\n",
    "# compute cosine similarities of this review with all other reviews in the new space\n",
    "import sklearn.metrics.pairwise as smp\n",
    "\n",
    "cosines = {}\n",
    "for ind, review in enumerate(W_pos):\n",
    "    similarity = smp.cosine_similarity(W_pos[review_num].reshape(1,-1), review.reshape(1,-1))\n",
    "    cosines[ind] = similarity[0][0]"
   ]
  },
  {
   "cell_type": "code",
   "execution_count": 46,
   "metadata": {},
   "outputs": [
    {
     "name": "stdout",
     "output_type": "stream",
     "text": [
      "--------------------------------------------------\n",
      ">> Similarity 0.994\n",
      "Outstanding food and service - Yardbird is not to miss. We booked the room for a private event. Magin from the sales office was very responsive and helped me arrange a pre fixe menu which made logistics very easy. \r\n",
      "\r\n",
      "The menu was incredible; I now understand all the rave reviews. The savory, crisp-chewy cheddar waffle was my favorite. Others enjoyed the Yardbird Benedict, although I found it a bit on the rich side. \r\n",
      "\r\n",
      "The room is lovely, decorated with a private photo collection from John Wayne. The team taking care of us was fantastic. A fantastic and memorable experience!\n",
      "--------------------------------------------------\n",
      ">> Similarity 0.994\n",
      "Outstanding food and service - Yardbird is not to miss. We booked the room for a private event. Magin from the sales office was very responsive and helped me arrange a pre fixe menu which made logistics very easy. \r\n",
      "\r\n",
      "The menu was incredible; I now understand all the rave reviews. The savory, crisp-chewy cheddar waffle was my favorite. Others enjoyed the Yardbird Benedict, although I found it a bit on the rich side. \r\n",
      "\r\n",
      "The room is lovely, decorated with a private photo collection from John Wayne. The team taking care of us was fantastic. A fantastic and memorable experience!\n",
      "--------------------------------------------------\n",
      ">> Similarity 0.991\n",
      "This is a great locals spot! My husband and I went here on a Saturday night around 9 and did not have to wait to be seated. I had the chicken and artichokes and it was delicious! They also have a great house sangria. I was going to order their raspberry beer, but our server was honest with me and told me it was really bitter and suggested the sangria instead. I'm glad she did.\r\n",
      "\r\n",
      "The price were good and the portions were large enough to have left overs the next day. The first time you go in mention it's your first time there and you'll get a slice of their cheesecake for free! They were out the night we went, but they offered us German chocolate cake instead and assured us we could have the cheesecake next time we're there. I'm looking forward to it. :)\n",
      "--------------------------------------------------\n"
     ]
    }
   ],
   "source": [
    "\n",
    "# get top 3 matching reviews\n",
    "for n in sorted(cosines, key=cosines.get, reverse=True)[1:4]:\n",
    "    print('-'*50)\n",
    "    print('>> Similarity {:.3f}'.format(cosines[n]))\n",
    "    print(random_pos[n])\n",
    "print('-'*50)"
   ]
  },
  {
   "cell_type": "code",
   "execution_count": 47,
   "metadata": {},
   "outputs": [],
   "source": [
    "from sklearn.feature_extraction.text import CountVectorizer\n",
    "\n",
    "# Create a vectorizer object to generate term document counts\n",
    "cv_pos = CountVectorizer(stop_words=stop_words, min_df=10, max_df=0.5, \n",
    "                        ngram_range=(1,1), token_pattern='[a-z][a-z]+')\n",
    "\n",
    "cv_neg = CountVectorizer(stop_words=stop_words, min_df=10, max_df=0.5, \n",
    "                        ngram_range=(1,1), token_pattern='[a-z][a-z]+')\n",
    "\n",
    "# Get random subset of reviews\n",
    "np.random.seed(38)\n",
    "num_reviews = 15000\n",
    "cv_random_neg = np.random.choice(neg_reviews, size=num_reviews)\n",
    "cv_random_pos = np.random.choice(pos_reviews, size=num_reviews)\n",
    "\n",
    "# replace words from defined dictionary 'dicty'\n",
    "cv_random_neg = [replace_words(w, dicty) for w in cv_random_neg]\n",
    "cv_random_pos = [replace_words(w, dicty) for w in cv_random_pos]\n",
    "\n",
    "# Get the cv vectors\n",
    "cv_neg_vectors = cv_neg.fit_transform(cv_random_neg).transpose()\n",
    "cv_pos_vectors = cv_pos.fit_transform(cv_random_pos).transpose()"
   ]
  },
  {
   "cell_type": "code",
   "execution_count": 48,
   "metadata": {},
   "outputs": [],
   "source": [
    "# Convert sparse matrix of counts to a gensim corpus\n",
    "corpus_neg = matutils.Sparse2Corpus(cv_neg_vectors)\n",
    "corpus_pos = matutils.Sparse2Corpus(cv_pos_vectors)\n",
    "\n",
    "# save a mapping (dict) of row id to word (token) for later use by gensim \n",
    "id2word_cv_pos = dict((v, k) for k, v in cv_pos.vocabulary_.items())\n",
    "id2word_cv_neg = dict((v, k) for k, v in cv_neg.vocabulary_.items())"
   ]
  },
  {
   "cell_type": "code",
   "execution_count": 49,
   "metadata": {},
   "outputs": [
    {
     "name": "stdout",
     "output_type": "stream",
     "text": [
      "CPU times: user 6min 57s, sys: 4min 10s, total: 11min 8s\n",
      "Wall time: 18min 30s\n"
     ]
    }
   ],
   "source": [
    "%%time\n",
    "# create lda multicore model\n",
    "lda_pos = models.ldamulticore.LdaMulticore(corpus=corpus_pos, num_topics=5, \n",
    "                                           id2word=id2word_cv_pos, passes=10, workers=15)\n",
    "lda_neg = models.ldamulticore.LdaMulticore(corpus=corpus_neg, num_topics=5, \n",
    "                                           id2word=id2word_cv_neg, passes=10, workers=15)"
   ]
  },
  {
   "cell_type": "code",
   "execution_count": 50,
   "metadata": {},
   "outputs": [
    {
     "name": "stdout",
     "output_type": "stream",
     "text": [
      "Top topics + words for POSITIVE reviews\n",
      "---------------------------------------\n",
      "[(0,\n",
      "  '0.042*\"burger\" + 0.017*\"fries\" + 0.012*\"place\" + 0.011*\"great\" + '\n",
      "  '0.011*\"time\" + 0.010*\"service\" + 0.009*\"order\"'),\n",
      " (1,\n",
      "  '0.032*\"great\" + 0.020*\"service\" + 0.019*\"place\" + 0.011*\"chicken\" + '\n",
      "  '0.010*\"amazing\" + 0.010*\"delicious\" + 0.009*\"order\"'),\n",
      " (2,\n",
      "  '0.012*\"chicken\" + 0.011*\"order\" + 0.009*\"cheese\" + 0.009*\"sauce\" + '\n",
      "  '0.007*\"delicious\" + 0.006*\"fries\" + 0.006*\"burger\"'),\n",
      " (3,\n",
      "  '0.017*\"place\" + 0.015*\"great\" + 0.010*\"time\" + 0.010*\"vegas\" + '\n",
      "  '0.010*\"service\" + 0.008*\"love\" + 0.007*\"burger\"'),\n",
      " (4,\n",
      "  '0.019*\"breakfast\" + 0.016*\"place\" + 0.011*\"great\" + 0.010*\"order\" + '\n",
      "  '0.009*\"eggs\" + 0.008*\"vegas\" + 0.008*\"time\"')]\n",
      "\n",
      "Top topics + words for NEGATIVE reviews\n",
      "---------------------------------------\n",
      "[(0,\n",
      "  '0.012*\"breakfast\" + 0.011*\"place\" + 0.008*\"service\" + 0.008*\"buffet\" + '\n",
      "  '0.008*\"price\" + 0.008*\"vegas\" + 0.008*\"order\"'),\n",
      " (1,\n",
      "  '0.012*\"menu\" + 0.011*\"service\" + 0.011*\"order\" + 0.011*\"bar\" + '\n",
      "  '0.009*\"place\" + 0.009*\"great\" + 0.008*\"happy\"'),\n",
      " (2,\n",
      "  '0.015*\"place\" + 0.014*\"burger\" + 0.011*\"cheese\" + 0.010*\"service\" + '\n",
      "  '0.010*\"fries\" + 0.008*\"order\" + 0.007*\"great\"'),\n",
      " (3,\n",
      "  '0.021*\"burger\" + 0.020*\"order\" + 0.011*\"place\" + 0.011*\"chicken\" + '\n",
      "  '0.009*\"fries\" + 0.008*\"salad\" + 0.007*\"time\"'),\n",
      " (4,\n",
      "  '0.017*\"service\" + 0.016*\"order\" + 0.012*\"time\" + 0.012*\"place\" + '\n",
      "  '0.012*\"minutes\" + 0.010*\"table\" + 0.008*\"server\"')]\n"
     ]
    }
   ],
   "source": [
    "print('Top topics + words for POSITIVE reviews')\n",
    "print('-'*39)\n",
    "pprint(lda_pos.print_topics(num_words=7))\n",
    "\n",
    "print('\\nTop topics + words for NEGATIVE reviews')\n",
    "print('-'*39)\n",
    "pprint(lda_neg.print_topics(num_words=7))"
   ]
  },
  {
   "cell_type": "markdown",
   "metadata": {},
   "source": [
    "## Continuing with NMF"
   ]
  },
  {
   "cell_type": "code",
   "execution_count": 51,
   "metadata": {},
   "outputs": [
    {
     "name": "stdout",
     "output_type": "stream",
     "text": [
      "Top topics + words for POSITIVE reviews\n",
      "---------------------------------------\n",
      "Topic 0:   1.097*order, 0.946*time, 0.797*menu, 0.637*nice, 0.637*restaurant, 0.602*bar\n",
      "Topic 1:   3.140*burger, 1.164*fries, 0.378*truffle, 0.354*shake, 0.331*cheese, 0.258*best\n",
      "Topic 2:   2.836*great, 1.480*service, 0.481*atmosphere, 0.421*excellent, 0.405*awesome, 0.395*friendly\n",
      "Topic 3:   2.221*breakfast, 0.854*pancakes, 0.684*eggs, 0.438*toast, 0.429*coffee, 0.370*hash\n",
      "Topic 4:   2.317*chicken, 1.090*fried, 0.981*waffles, 0.297*bacon, 0.292*cheese, 0.274*sage\n",
      "Topic 5:   2.331*place, 1.484*love, 0.950*amazing, 0.780*vegas, 0.531*best, 0.520*staff\n"
     ]
    }
   ],
   "source": [
    "# let's remind ourselves of the POSITIVE topics\n",
    "print('Top topics + words for POSITIVE reviews')\n",
    "print('-'*39)\n",
    "display_topics(nmf_pos, tfidf_pos.get_feature_names(), no_topics, no_top_words)"
   ]
  },
  {
   "cell_type": "code",
   "execution_count": 52,
   "metadata": {},
   "outputs": [
    {
     "name": "stdout",
     "output_type": "stream",
     "text": [
      "Positive Review #17123\n",
      "-------------------------\n",
      "I've been here about 4-5 times and no one ever told me about the rewards card.. The normal girl that rings me out isn't very friendly nor does she smile much which is a huge turn off in any customer service establishment.\n",
      "However! What saved my opinion on this place was Dakota! Absolutely incredible guy awesome personality and signed me up for the loyalty program and was very apologetic that no one else mentioned it.\n",
      "I'm a manager and honestly this is what I strive to have my employees be like.\n",
      "Great food and smoothies plus it's a healthy place to eat which I enjoy!\n",
      "-------------------------\n",
      "Topic 5: 0.0379\n",
      "Topic 2: 0.0267\n",
      "Topic 0: 0.0053\n",
      "Topic 1: 0.0022\n",
      "Topic 3: 0.0000\n",
      "Topic 4: 0.0000\n"
     ]
    }
   ],
   "source": [
    "# we can investigate a random positive review and see how it's distributed across those topics\n",
    "review_num = np.random.randint(0, high=len(random_pos))\n",
    "print('Positive Review #%d' %review_num)\n",
    "print('-'*25)\n",
    "print(random_pos[review_num])\n",
    "print('-'*25)\n",
    "topic_dict = {}\n",
    "for ind, w in enumerate(W_pos[review_num]):\n",
    "    topic_dict[ind] = w\n",
    "for k in sorted(topic_dict, key=topic_dict.get, reverse=True):\n",
    "     print('Topic {}: {:.4f}'.format(k, topic_dict[k]))"
   ]
  },
  {
   "cell_type": "code",
   "execution_count": 53,
   "metadata": {},
   "outputs": [
    {
     "name": "stdout",
     "output_type": "stream",
     "text": [
      "Top topics + words for NEGATIVE reviews\n",
      "---------------------------------------\n",
      "Topic 0:   1.518*minutes, 1.344*order, 1.045*table, 0.929*took, 0.906*server, 0.844*time\n",
      "Topic 1:   3.081*burger, 1.086*fries, 0.341*cheese, 0.324*shake, 0.244*better, 0.233*medium\n",
      "Topic 2:   1.484*place, 0.948*service, 0.895*great, 0.814*bar, 0.481*pretty, 0.477*nice\n",
      "Topic 3:   1.778*chicken, 0.815*salad, 0.720*order, 0.614*cheese, 0.601*sandwich, 0.568*fried\n",
      "Topic 4:   1.787*breakfast, 1.187*eggs, 0.672*pancakes, 0.609*coffee, 0.599*hash, 0.592*toast\n",
      "Topic 5:   2.097*buffet, 0.457*vegas, 0.423*price, 0.392*buffets, 0.352*better, 0.347*selection\n"
     ]
    }
   ],
   "source": [
    "print('Top topics + words for NEGATIVE reviews')\n",
    "print('-'*39)\n",
    "display_topics(nmf_neg, tfidf_neg.get_feature_names(), no_topics, no_top_words)"
   ]
  },
  {
   "cell_type": "code",
   "execution_count": 54,
   "metadata": {},
   "outputs": [
    {
     "name": "stdout",
     "output_type": "stream",
     "text": [
      "Negative Review #18063\n",
      "-------------------------\n",
      "Dear Lord, stay away. I'm reminded of the commissary in college eating here. Granted, the dishes and variety is far superior to what we had in college. The quality is not up to standard. The lunch price of $19.99 is fair for a buffet but, the overall quality of the dishes still doesn't support it. \n",
      "\n",
      "The Luxor could spend a bit more effort in delivering a higher quality experience\n",
      "-------------------------\n",
      "Topic 5: 0.0761\n",
      "Topic 2: 0.0068\n",
      "Topic 3: 0.0020\n",
      "Topic 1: 0.0015\n",
      "Topic 0: 0.0000\n",
      "Topic 4: 0.0000\n"
     ]
    }
   ],
   "source": [
    "# now investigate a random negative review and see how it's distributed across those topics\n",
    "review_num = np.random.randint(0, high=len(random_neg))\n",
    "print('Negative Review #%d' %review_num)\n",
    "print('-'*25)\n",
    "print(random_neg[review_num])\n",
    "print('-'*25)\n",
    "topic_dict = {}\n",
    "for ind, w in enumerate(W_neg[review_num]):\n",
    "    topic_dict[ind] = w\n",
    "for k in sorted(topic_dict, key=topic_dict.get, reverse=True):\n",
    "     print('Topic {}: {:.4f}'.format(k, topic_dict[k]))"
   ]
  },
  {
   "cell_type": "markdown",
   "metadata": {},
   "source": [
    "## Topic Modeling All Reviews \n",
    "At this point, we can see that our topics are relatively interpretable and match along with the reviews they're trying to categorize. Let's proceed with topic modeling all reviews and businesses using NMF."
   ]
  },
  {
   "cell_type": "code",
   "execution_count": 55,
   "metadata": {},
   "outputs": [
    {
     "name": "stdout",
     "output_type": "stream",
     "text": [
      "Postive Reviews:  147,567\n",
      "Negative Reviews:  85,357\n"
     ]
    }
   ],
   "source": [
    "print('Postive Reviews:  {:,}'.format(len(pos_reviews)))\n",
    "print('Negative Reviews:  {:,}'.format(len(neg_reviews)))"
   ]
  },
  {
   "cell_type": "code",
   "execution_count": 56,
   "metadata": {},
   "outputs": [
    {
     "name": "stdout",
     "output_type": "stream",
     "text": [
      "CPU times: user 31 s, sys: 9.11 s, total: 40.1 s\n",
      "Wall time: 1min 33s\n"
     ]
    }
   ],
   "source": [
    "%%time\n",
    "# Create a vectorizer object to generate term document counts\n",
    "tfidf_pos = TfidfVectorizer(stop_words=stop_words, min_df=10, max_df=0.5, \n",
    "                        ngram_range=(1,1), token_pattern='[a-z][a-z]+')\n",
    "\n",
    "tfidf_neg = TfidfVectorizer(stop_words=stop_words, min_df=10, max_df=0.5, \n",
    "                        ngram_range=(1,1), token_pattern='[a-z][a-z]+')\n",
    "\n",
    "# replace words with defined dictionary 'dicty'\n",
    "pos_reviews = [replace_words(w, dicty) for w in pos_reviews]\n",
    "neg_reviews = [replace_words(w, dicty) for w in neg_reviews]\n",
    "\n",
    "# Get the vectors\n",
    "neg_vectors = tfidf_neg.fit_transform(neg_reviews)\n",
    "pos_vectors = tfidf_pos.fit_transform(pos_reviews)"
   ]
  },
  {
   "cell_type": "code",
   "execution_count": 57,
   "metadata": {},
   "outputs": [
    {
     "name": "stdout",
     "output_type": "stream",
     "text": [
      "CPU times: user 28.2 s, sys: 1.06 s, total: 29.3 s\n",
      "Wall time: 31 s\n"
     ]
    }
   ],
   "source": [
    "%%time\n",
    "# NMF for all reviews\n",
    "from sklearn.decomposition import NMF\n",
    "\n",
    "# change num_topics\n",
    "num_topics = 6\n",
    "\n",
    "nmf_pos = NMF(n_components=num_topics)\n",
    "W_pos = nmf_pos.fit_transform(pos_vectors)\n",
    "H_pos = nmf_pos.components_\n",
    "\n",
    "nmf_neg = NMF(n_components=num_topics)\n",
    "W_neg = nmf_neg.fit_transform(neg_vectors)\n",
    "H_neg = nmf_neg.components_"
   ]
  },
  {
   "cell_type": "code",
   "execution_count": 58,
   "metadata": {},
   "outputs": [
    {
     "name": "stdout",
     "output_type": "stream",
     "text": [
      "Topics for POSITIVE reviews\n",
      "---------------------------------------\n",
      "Topic 0:   1.770*order, 1.402*time, 1.259*menu, 1.122*nice, 1.053*restaurant, 1.039*bar\n",
      "Topic 1:   5.063*burger, 1.902*fries, 0.595*shake, 0.578*truffle, 0.539*cheese, 0.429*onion\n",
      "Topic 2:   4.700*great, 2.268*service, 0.766*atmosphere, 0.632*awesome, 0.622*excellent, 0.501*friendly\n",
      "Topic 3:   3.541*breakfast, 1.441*pancakes, 1.180*eggs, 0.787*toast, 0.660*coffee, 0.630*hash\n",
      "Topic 4:   3.844*chicken, 1.750*fried, 1.632*waffles, 0.485*bacon, 0.472*salad, 0.455*cheese\n",
      "Topic 5:   3.549*place, 2.208*love, 1.840*amazing, 1.427*vegas, 1.275*best, 1.037*staff\n",
      "\n",
      "Topics for NEGATIVE reviews\n",
      "---------------------------------------\n",
      "Topic 0:   2.159*minutes, 1.883*order, 1.455*table, 1.350*took, 1.314*server, 1.177*wait\n",
      "Topic 1:   4.353*burger, 1.590*fries, 0.448*shake, 0.438*cheese, 0.336*medium, 0.325*onion\n",
      "Topic 2:   2.095*place, 1.470*service, 1.244*great, 1.163*bar, 0.687*nice, 0.668*bad\n",
      "Topic 3:   2.496*chicken, 1.080*salad, 1.011*order, 0.883*cheese, 0.834*sandwich, 0.814*fried\n",
      "Topic 4:   2.712*breakfast, 1.728*eggs, 0.936*pancakes, 0.837*hash, 0.823*toast, 0.820*bacon\n",
      "Topic 5:   2.871*buffet, 0.529*price, 0.508*vegas, 0.506*buffets, 0.484*selection, 0.428*crab\n"
     ]
    }
   ],
   "source": [
    "no_topics = num_topics\n",
    "no_top_words = 6\n",
    "\n",
    "print('Topics for POSITIVE reviews')\n",
    "print('-'*39)\n",
    "display_topics(nmf_pos, tfidf_pos.get_feature_names(), no_topics, no_top_words)\n",
    "\n",
    "print('\\nTopics for NEGATIVE reviews')\n",
    "print('-'*39)\n",
    "display_topics(nmf_neg, tfidf_neg.get_feature_names(), no_topics, no_top_words)"
   ]
  },
  {
   "cell_type": "code",
   "execution_count": 59,
   "metadata": {},
   "outputs": [],
   "source": [
    "# create topic dictionaries to summarize the topic meanings\n",
    "pos_topics = {0:'menu/experience', 1:'burger/fries', 2:'service/atmosphere', \n",
    "              3:'breakfast/pancakes', 4:'chicken/waffles', 5:'location/atmosphere'}\n",
    "\n",
    "neg_topics = {0:'wait/table', 1:'burger/fries', 2:'bad_service', \n",
    "              3:'chicken/salad', 4:'breakfast/eggs', 5:'buffet/price'}"
   ]
  },
  {
   "cell_type": "markdown",
   "metadata": {},
   "source": [
    "## Adding Topic Weights to Pandas DataFrame"
   ]
  },
  {
   "cell_type": "code",
   "execution_count": 60,
   "metadata": {},
   "outputs": [],
   "source": [
    "# we create dataframes for positive & negative reviews that we can\n",
    "# later add topic information to\n",
    "df_pos = reviews_df[['business_id', 'stars', 'text', 'review_length']][reviews_df.stars>3].reset_index()\n",
    "df_neg = reviews_df[['business_id', 'stars', 'text', 'review_length']][reviews_df.stars<3].reset_index()\n",
    "df_pos.drop(labels='index', axis=1, inplace=True)\n",
    "df_neg.drop(labels='index', axis=1, inplace=True)"
   ]
  },
  {
   "cell_type": "code",
   "execution_count": 61,
   "metadata": {},
   "outputs": [
    {
     "name": "stdout",
     "output_type": "stream",
     "text": [
      "Topic weights :  [0. 0. 0. 0. 0. 0.]\n",
      "Sum of weights:  0.0\n"
     ]
    }
   ],
   "source": [
    "print('Topic weights : ', W_pos[0])\n",
    "print('Sum of weights: ', W_pos[0].sum())"
   ]
  },
  {
   "cell_type": "code",
   "execution_count": 62,
   "metadata": {},
   "outputs": [
    {
     "name": "stdout",
     "output_type": "stream",
     "text": [
      "Normalized Topic weights :  [[0. 0. 0. 0. 0. 0.]]\n",
      "Sum of normalized weights:  0.0\n"
     ]
    }
   ],
   "source": [
    "from sklearn.preprocessing import normalize\n",
    "print('Normalized Topic weights : ', normalize(W_pos[0].reshape(1,-1), norm='l1'))\n",
    "print('Sum of normalized weights: ', normalize(W_pos[0].reshape(1,-1), norm='l1').sum())"
   ]
  },
  {
   "cell_type": "code",
   "execution_count": 63,
   "metadata": {},
   "outputs": [],
   "source": [
    "# add normalized topic weights to each review\n",
    "df_pos = pd.concat([df_pos, pd.DataFrame(normalize(W_pos, norm='l1'))], axis=1)\n",
    "df_neg = pd.concat([df_neg, pd.DataFrame(normalize(W_neg, norm='l1'))], axis=1)"
   ]
  },
  {
   "cell_type": "code",
   "execution_count": 64,
   "metadata": {},
   "outputs": [
    {
     "data": {
      "text/html": [
       "<div>\n",
       "<style scoped>\n",
       "    .dataframe tbody tr th:only-of-type {\n",
       "        vertical-align: middle;\n",
       "    }\n",
       "\n",
       "    .dataframe tbody tr th {\n",
       "        vertical-align: top;\n",
       "    }\n",
       "\n",
       "    .dataframe thead th {\n",
       "        text-align: right;\n",
       "    }\n",
       "</style>\n",
       "<table border=\"1\" class=\"dataframe\">\n",
       "  <thead>\n",
       "    <tr style=\"text-align: right;\">\n",
       "      <th></th>\n",
       "      <th>business_id</th>\n",
       "      <th>stars</th>\n",
       "      <th>text</th>\n",
       "      <th>review_length</th>\n",
       "      <th>0</th>\n",
       "      <th>1</th>\n",
       "      <th>2</th>\n",
       "      <th>3</th>\n",
       "      <th>4</th>\n",
       "      <th>5</th>\n",
       "    </tr>\n",
       "  </thead>\n",
       "  <tbody>\n",
       "    <tr>\n",
       "      <th>0</th>\n",
       "      <td>jtQARsP6P-LbkyjbO1qNGg</td>\n",
       "      <td>1.0</td>\n",
       "      <td>Terrible. Dry corn bread. Rib tips were all fa...</td>\n",
       "      <td>156.0</td>\n",
       "      <td>0.000000</td>\n",
       "      <td>0.023054</td>\n",
       "      <td>0.000867</td>\n",
       "      <td>0.751708</td>\n",
       "      <td>0.000000</td>\n",
       "      <td>0.224370</td>\n",
       "    </tr>\n",
       "    <tr>\n",
       "      <th>1</th>\n",
       "      <td>faPVqws-x-5k2CQKDNtHxw</td>\n",
       "      <td>1.0</td>\n",
       "      <td>People please...the only good thing about this...</td>\n",
       "      <td>622.0</td>\n",
       "      <td>0.253096</td>\n",
       "      <td>0.013696</td>\n",
       "      <td>0.615945</td>\n",
       "      <td>0.117262</td>\n",
       "      <td>0.000000</td>\n",
       "      <td>0.000000</td>\n",
       "    </tr>\n",
       "    <tr>\n",
       "      <th>2</th>\n",
       "      <td>ZtsnwjxjzMUI6tDZNrJUeA</td>\n",
       "      <td>1.0</td>\n",
       "      <td>If there was an option to give this place nega...</td>\n",
       "      <td>734.0</td>\n",
       "      <td>0.000000</td>\n",
       "      <td>0.000000</td>\n",
       "      <td>0.304793</td>\n",
       "      <td>0.000000</td>\n",
       "      <td>0.101528</td>\n",
       "      <td>0.593679</td>\n",
       "    </tr>\n",
       "    <tr>\n",
       "      <th>3</th>\n",
       "      <td>NvKNe9DnQavC9GstglcBJQ</td>\n",
       "      <td>1.0</td>\n",
       "      <td>My friends and I went into Grand Lux Cafe at t...</td>\n",
       "      <td>580.0</td>\n",
       "      <td>0.204687</td>\n",
       "      <td>0.061922</td>\n",
       "      <td>0.377754</td>\n",
       "      <td>0.276894</td>\n",
       "      <td>0.078744</td>\n",
       "      <td>0.000000</td>\n",
       "    </tr>\n",
       "    <tr>\n",
       "      <th>4</th>\n",
       "      <td>jdAdf7keZac1idbgNKG2pw</td>\n",
       "      <td>1.0</td>\n",
       "      <td>Went with my daughter tonight and was refused ...</td>\n",
       "      <td>500.0</td>\n",
       "      <td>0.000000</td>\n",
       "      <td>0.965198</td>\n",
       "      <td>0.034802</td>\n",
       "      <td>0.000000</td>\n",
       "      <td>0.000000</td>\n",
       "      <td>0.000000</td>\n",
       "    </tr>\n",
       "  </tbody>\n",
       "</table>\n",
       "</div>"
      ],
      "text/plain": [
       "              business_id  stars  \\\n",
       "0  jtQARsP6P-LbkyjbO1qNGg    1.0   \n",
       "1  faPVqws-x-5k2CQKDNtHxw    1.0   \n",
       "2  ZtsnwjxjzMUI6tDZNrJUeA    1.0   \n",
       "3  NvKNe9DnQavC9GstglcBJQ    1.0   \n",
       "4  jdAdf7keZac1idbgNKG2pw    1.0   \n",
       "\n",
       "                                                text  review_length         0  \\\n",
       "0  Terrible. Dry corn bread. Rib tips were all fa...          156.0  0.000000   \n",
       "1  People please...the only good thing about this...          622.0  0.253096   \n",
       "2  If there was an option to give this place nega...          734.0  0.000000   \n",
       "3  My friends and I went into Grand Lux Cafe at t...          580.0  0.204687   \n",
       "4  Went with my daughter tonight and was refused ...          500.0  0.000000   \n",
       "\n",
       "          1         2         3         4         5  \n",
       "0  0.023054  0.000867  0.751708  0.000000  0.224370  \n",
       "1  0.013696  0.615945  0.117262  0.000000  0.000000  \n",
       "2  0.000000  0.304793  0.000000  0.101528  0.593679  \n",
       "3  0.061922  0.377754  0.276894  0.078744  0.000000  \n",
       "4  0.965198  0.034802  0.000000  0.000000  0.000000  "
      ]
     },
     "execution_count": 64,
     "metadata": {},
     "output_type": "execute_result"
    }
   ],
   "source": [
    "# peek into a dataframe to ensure it worked right\n",
    "df_neg.head()"
   ]
  },
  {
   "cell_type": "code",
   "execution_count": 65,
   "metadata": {},
   "outputs": [],
   "source": [
    "# group by business_id and apply mean/count functions to columns\n",
    "df_pos_bsns = df_pos.groupby('business_id').agg({'stars':'mean', 'text':'count',\n",
    "                                                 'review_length':'mean',0:'mean', \n",
    "                                                 1:'mean', 2:'mean', 3:'mean',\n",
    "                                                 4:'mean', 5:'mean'}).reset_index()\n",
    "df_neg_bsns = df_neg.groupby('business_id').agg({'stars':'mean', 'text':'count',\n",
    "                                                 'review_length':'mean',0:'mean', \n",
    "                                                 1:'mean', 2:'mean', 3:'mean',\n",
    "                                                 4:'mean', 5:'mean'}).reset_index()"
   ]
  },
  {
   "cell_type": "code",
   "execution_count": 66,
   "metadata": {},
   "outputs": [
    {
     "data": {
      "text/html": [
       "<div>\n",
       "<style scoped>\n",
       "    .dataframe tbody tr th:only-of-type {\n",
       "        vertical-align: middle;\n",
       "    }\n",
       "\n",
       "    .dataframe tbody tr th {\n",
       "        vertical-align: top;\n",
       "    }\n",
       "\n",
       "    .dataframe thead th {\n",
       "        text-align: right;\n",
       "    }\n",
       "</style>\n",
       "<table border=\"1\" class=\"dataframe\">\n",
       "  <thead>\n",
       "    <tr style=\"text-align: right;\">\n",
       "      <th></th>\n",
       "      <th>business_id</th>\n",
       "      <th>stars</th>\n",
       "      <th>text</th>\n",
       "      <th>review_length</th>\n",
       "      <th>0</th>\n",
       "      <th>1</th>\n",
       "      <th>2</th>\n",
       "      <th>3</th>\n",
       "      <th>4</th>\n",
       "      <th>5</th>\n",
       "    </tr>\n",
       "  </thead>\n",
       "  <tbody>\n",
       "    <tr>\n",
       "      <th>0</th>\n",
       "      <td>-CQokjildrY7UZezXCdEBw</td>\n",
       "      <td>4.875000</td>\n",
       "      <td>40</td>\n",
       "      <td>743.800000</td>\n",
       "      <td>0.317745</td>\n",
       "      <td>0.103765</td>\n",
       "      <td>0.176195</td>\n",
       "      <td>0.008446</td>\n",
       "      <td>0.142640</td>\n",
       "      <td>0.251209</td>\n",
       "    </tr>\n",
       "    <tr>\n",
       "      <th>1</th>\n",
       "      <td>-JfncbVURtvuzBbof40o1w</td>\n",
       "      <td>4.176471</td>\n",
       "      <td>34</td>\n",
       "      <td>556.735294</td>\n",
       "      <td>0.310097</td>\n",
       "      <td>0.054310</td>\n",
       "      <td>0.112984</td>\n",
       "      <td>0.281021</td>\n",
       "      <td>0.143596</td>\n",
       "      <td>0.097991</td>\n",
       "    </tr>\n",
       "    <tr>\n",
       "      <th>2</th>\n",
       "      <td>-OEIW0dO96-492qa_luxaw</td>\n",
       "      <td>4.557143</td>\n",
       "      <td>210</td>\n",
       "      <td>669.052381</td>\n",
       "      <td>0.339588</td>\n",
       "      <td>0.072047</td>\n",
       "      <td>0.272646</td>\n",
       "      <td>0.016357</td>\n",
       "      <td>0.048552</td>\n",
       "      <td>0.250810</td>\n",
       "    </tr>\n",
       "    <tr>\n",
       "      <th>3</th>\n",
       "      <td>-PGsEXB6DFTVKa1eDOlzWA</td>\n",
       "      <td>4.660550</td>\n",
       "      <td>109</td>\n",
       "      <td>459.532110</td>\n",
       "      <td>0.217718</td>\n",
       "      <td>0.029131</td>\n",
       "      <td>0.268024</td>\n",
       "      <td>0.218575</td>\n",
       "      <td>0.080800</td>\n",
       "      <td>0.185753</td>\n",
       "    </tr>\n",
       "    <tr>\n",
       "      <th>4</th>\n",
       "      <td>-SGZcGqnsp_uRIjKP2RGZg</td>\n",
       "      <td>4.666667</td>\n",
       "      <td>6</td>\n",
       "      <td>343.666667</td>\n",
       "      <td>0.332862</td>\n",
       "      <td>0.000000</td>\n",
       "      <td>0.251487</td>\n",
       "      <td>0.192183</td>\n",
       "      <td>0.012526</td>\n",
       "      <td>0.210942</td>\n",
       "    </tr>\n",
       "  </tbody>\n",
       "</table>\n",
       "</div>"
      ],
      "text/plain": [
       "              business_id     stars  text  review_length         0         1  \\\n",
       "0  -CQokjildrY7UZezXCdEBw  4.875000    40     743.800000  0.317745  0.103765   \n",
       "1  -JfncbVURtvuzBbof40o1w  4.176471    34     556.735294  0.310097  0.054310   \n",
       "2  -OEIW0dO96-492qa_luxaw  4.557143   210     669.052381  0.339588  0.072047   \n",
       "3  -PGsEXB6DFTVKa1eDOlzWA  4.660550   109     459.532110  0.217718  0.029131   \n",
       "4  -SGZcGqnsp_uRIjKP2RGZg  4.666667     6     343.666667  0.332862  0.000000   \n",
       "\n",
       "          2         3         4         5  \n",
       "0  0.176195  0.008446  0.142640  0.251209  \n",
       "1  0.112984  0.281021  0.143596  0.097991  \n",
       "2  0.272646  0.016357  0.048552  0.250810  \n",
       "3  0.268024  0.218575  0.080800  0.185753  \n",
       "4  0.251487  0.192183  0.012526  0.210942  "
      ]
     },
     "execution_count": 66,
     "metadata": {},
     "output_type": "execute_result"
    }
   ],
   "source": [
    "df_pos_bsns.head()"
   ]
  },
  {
   "cell_type": "code",
   "execution_count": 67,
   "metadata": {},
   "outputs": [
    {
     "data": {
      "text/html": [
       "<div>\n",
       "<style scoped>\n",
       "    .dataframe tbody tr th:only-of-type {\n",
       "        vertical-align: middle;\n",
       "    }\n",
       "\n",
       "    .dataframe tbody tr th {\n",
       "        vertical-align: top;\n",
       "    }\n",
       "\n",
       "    .dataframe thead th {\n",
       "        text-align: right;\n",
       "    }\n",
       "</style>\n",
       "<table border=\"1\" class=\"dataframe\">\n",
       "  <thead>\n",
       "    <tr style=\"text-align: right;\">\n",
       "      <th></th>\n",
       "      <th>business_id</th>\n",
       "      <th>stars</th>\n",
       "      <th>text</th>\n",
       "      <th>review_length</th>\n",
       "      <th>0</th>\n",
       "      <th>1</th>\n",
       "      <th>2</th>\n",
       "      <th>3</th>\n",
       "      <th>4</th>\n",
       "      <th>5</th>\n",
       "    </tr>\n",
       "  </thead>\n",
       "  <tbody>\n",
       "    <tr>\n",
       "      <th>0</th>\n",
       "      <td>-CQokjildrY7UZezXCdEBw</td>\n",
       "      <td>2.000000</td>\n",
       "      <td>1</td>\n",
       "      <td>1657.000000</td>\n",
       "      <td>0.111447</td>\n",
       "      <td>0.285122</td>\n",
       "      <td>0.393136</td>\n",
       "      <td>0.000000</td>\n",
       "      <td>0.000000</td>\n",
       "      <td>0.210296</td>\n",
       "    </tr>\n",
       "    <tr>\n",
       "      <th>1</th>\n",
       "      <td>-JfncbVURtvuzBbof40o1w</td>\n",
       "      <td>1.430769</td>\n",
       "      <td>65</td>\n",
       "      <td>642.630769</td>\n",
       "      <td>0.172101</td>\n",
       "      <td>0.128016</td>\n",
       "      <td>0.316126</td>\n",
       "      <td>0.162161</td>\n",
       "      <td>0.115720</td>\n",
       "      <td>0.105877</td>\n",
       "    </tr>\n",
       "    <tr>\n",
       "      <th>2</th>\n",
       "      <td>-OEIW0dO96-492qa_luxaw</td>\n",
       "      <td>1.363636</td>\n",
       "      <td>33</td>\n",
       "      <td>841.121212</td>\n",
       "      <td>0.228583</td>\n",
       "      <td>0.107326</td>\n",
       "      <td>0.225116</td>\n",
       "      <td>0.227096</td>\n",
       "      <td>0.146760</td>\n",
       "      <td>0.065119</td>\n",
       "    </tr>\n",
       "    <tr>\n",
       "      <th>3</th>\n",
       "      <td>-PGsEXB6DFTVKa1eDOlzWA</td>\n",
       "      <td>1.400000</td>\n",
       "      <td>65</td>\n",
       "      <td>940.276923</td>\n",
       "      <td>0.165311</td>\n",
       "      <td>0.094164</td>\n",
       "      <td>0.321069</td>\n",
       "      <td>0.176041</td>\n",
       "      <td>0.137894</td>\n",
       "      <td>0.105520</td>\n",
       "    </tr>\n",
       "    <tr>\n",
       "      <th>4</th>\n",
       "      <td>-SGZcGqnsp_uRIjKP2RGZg</td>\n",
       "      <td>1.000000</td>\n",
       "      <td>3</td>\n",
       "      <td>632.000000</td>\n",
       "      <td>0.082803</td>\n",
       "      <td>0.000000</td>\n",
       "      <td>0.207097</td>\n",
       "      <td>0.343421</td>\n",
       "      <td>0.292640</td>\n",
       "      <td>0.074038</td>\n",
       "    </tr>\n",
       "  </tbody>\n",
       "</table>\n",
       "</div>"
      ],
      "text/plain": [
       "              business_id     stars  text  review_length         0         1  \\\n",
       "0  -CQokjildrY7UZezXCdEBw  2.000000     1    1657.000000  0.111447  0.285122   \n",
       "1  -JfncbVURtvuzBbof40o1w  1.430769    65     642.630769  0.172101  0.128016   \n",
       "2  -OEIW0dO96-492qa_luxaw  1.363636    33     841.121212  0.228583  0.107326   \n",
       "3  -PGsEXB6DFTVKa1eDOlzWA  1.400000    65     940.276923  0.165311  0.094164   \n",
       "4  -SGZcGqnsp_uRIjKP2RGZg  1.000000     3     632.000000  0.082803  0.000000   \n",
       "\n",
       "          2         3         4         5  \n",
       "0  0.393136  0.000000  0.000000  0.210296  \n",
       "1  0.316126  0.162161  0.115720  0.105877  \n",
       "2  0.225116  0.227096  0.146760  0.065119  \n",
       "3  0.321069  0.176041  0.137894  0.105520  \n",
       "4  0.207097  0.343421  0.292640  0.074038  "
      ]
     },
     "execution_count": 67,
     "metadata": {},
     "output_type": "execute_result"
    }
   ],
   "source": [
    "df_neg_bsns.head()"
   ]
  },
  {
   "cell_type": "markdown",
   "metadata": {},
   "source": [
    "## Adding in Business Information "
   ]
  },
  {
   "cell_type": "code",
   "execution_count": 75,
   "metadata": {},
   "outputs": [],
   "source": [
    "# merge business name/city with topic data\n",
    "df_pos_tot = df_pos_bsns.merge(restaurants_df[['business_id', 'name', 'city', 'stars', 'latitude', 'longitude']], left_on='business_id', \n",
    "                               right_on='business_id')[['business_id', 'name', 'city', 'stars_y', 'latitude', 'longitude', 0, 1, 2, 3, 4, 5]]\n",
    "\n",
    "df_neg_tot = df_neg_bsns.merge(restaurants_df[['business_id', 'name', 'city', 'stars', 'latitude', 'longitude']], left_on='business_id', \n",
    "                               right_on='business_id')[['business_id', 'name', 'city', 'stars_y', 'latitude', 'longitude', 0, 1, 2, 3, 4, 5]]"
   ]
  },
  {
   "cell_type": "code",
   "execution_count": 76,
   "metadata": {},
   "outputs": [
    {
     "data": {
      "text/html": [
       "<div>\n",
       "<style scoped>\n",
       "    .dataframe tbody tr th:only-of-type {\n",
       "        vertical-align: middle;\n",
       "    }\n",
       "\n",
       "    .dataframe tbody tr th {\n",
       "        vertical-align: top;\n",
       "    }\n",
       "\n",
       "    .dataframe thead th {\n",
       "        text-align: right;\n",
       "    }\n",
       "</style>\n",
       "<table border=\"1\" class=\"dataframe\">\n",
       "  <thead>\n",
       "    <tr style=\"text-align: right;\">\n",
       "      <th></th>\n",
       "      <th>business_id</th>\n",
       "      <th>name</th>\n",
       "      <th>city</th>\n",
       "      <th>stars_y</th>\n",
       "      <th>latitude</th>\n",
       "      <th>longitude</th>\n",
       "      <th>0</th>\n",
       "      <th>1</th>\n",
       "      <th>2</th>\n",
       "      <th>3</th>\n",
       "      <th>4</th>\n",
       "      <th>5</th>\n",
       "    </tr>\n",
       "  </thead>\n",
       "  <tbody>\n",
       "    <tr>\n",
       "      <th>0</th>\n",
       "      <td>-CQokjildrY7UZezXCdEBw</td>\n",
       "      <td>Toddy Shop</td>\n",
       "      <td>Las Vegas</td>\n",
       "      <td>5.0</td>\n",
       "      <td>36.171428</td>\n",
       "      <td>-115.245080</td>\n",
       "      <td>0.111447</td>\n",
       "      <td>0.285122</td>\n",
       "      <td>0.393136</td>\n",
       "      <td>0.000000</td>\n",
       "      <td>0.000000</td>\n",
       "      <td>0.210296</td>\n",
       "    </tr>\n",
       "    <tr>\n",
       "      <th>1</th>\n",
       "      <td>-JfncbVURtvuzBbof40o1w</td>\n",
       "      <td>The Cafe at Monte Carlo</td>\n",
       "      <td>Las Vegas</td>\n",
       "      <td>2.5</td>\n",
       "      <td>36.104781</td>\n",
       "      <td>-115.174663</td>\n",
       "      <td>0.172101</td>\n",
       "      <td>0.128016</td>\n",
       "      <td>0.316126</td>\n",
       "      <td>0.162161</td>\n",
       "      <td>0.115720</td>\n",
       "      <td>0.105877</td>\n",
       "    </tr>\n",
       "    <tr>\n",
       "      <th>2</th>\n",
       "      <td>-OEIW0dO96-492qa_luxaw</td>\n",
       "      <td>Aces &amp; Ales</td>\n",
       "      <td>Las Vegas</td>\n",
       "      <td>4.0</td>\n",
       "      <td>36.121423</td>\n",
       "      <td>-115.064716</td>\n",
       "      <td>0.228583</td>\n",
       "      <td>0.107326</td>\n",
       "      <td>0.225116</td>\n",
       "      <td>0.227096</td>\n",
       "      <td>0.146760</td>\n",
       "      <td>0.065119</td>\n",
       "    </tr>\n",
       "    <tr>\n",
       "      <th>3</th>\n",
       "      <td>-PGsEXB6DFTVKa1eDOlzWA</td>\n",
       "      <td>Black Bear Diner</td>\n",
       "      <td>Las Vegas</td>\n",
       "      <td>3.5</td>\n",
       "      <td>36.142663</td>\n",
       "      <td>-115.278284</td>\n",
       "      <td>0.165311</td>\n",
       "      <td>0.094164</td>\n",
       "      <td>0.321069</td>\n",
       "      <td>0.176041</td>\n",
       "      <td>0.137894</td>\n",
       "      <td>0.105520</td>\n",
       "    </tr>\n",
       "    <tr>\n",
       "      <th>4</th>\n",
       "      <td>-SGZcGqnsp_uRIjKP2RGZg</td>\n",
       "      <td>Ranch House Grille</td>\n",
       "      <td>Las Vegas</td>\n",
       "      <td>3.5</td>\n",
       "      <td>36.042985</td>\n",
       "      <td>-115.288938</td>\n",
       "      <td>0.082803</td>\n",
       "      <td>0.000000</td>\n",
       "      <td>0.207097</td>\n",
       "      <td>0.343421</td>\n",
       "      <td>0.292640</td>\n",
       "      <td>0.074038</td>\n",
       "    </tr>\n",
       "    <tr>\n",
       "      <th>5</th>\n",
       "      <td>-U7tvCtaraTQ9b0zBhpBMA</td>\n",
       "      <td>MGM Grand Buffet</td>\n",
       "      <td>Las Vegas</td>\n",
       "      <td>2.5</td>\n",
       "      <td>36.102091</td>\n",
       "      <td>-115.171778</td>\n",
       "      <td>0.208903</td>\n",
       "      <td>0.087847</td>\n",
       "      <td>0.314483</td>\n",
       "      <td>0.166045</td>\n",
       "      <td>0.109821</td>\n",
       "      <td>0.112901</td>\n",
       "    </tr>\n",
       "    <tr>\n",
       "      <th>6</th>\n",
       "      <td>-UtYWvCnUppcSaC_u1pTYQ</td>\n",
       "      <td>Kopper Keg Restaurant &amp; Lounge</td>\n",
       "      <td>Las Vegas</td>\n",
       "      <td>4.0</td>\n",
       "      <td>36.100981</td>\n",
       "      <td>-115.074497</td>\n",
       "      <td>0.000000</td>\n",
       "      <td>0.235492</td>\n",
       "      <td>0.000000</td>\n",
       "      <td>0.677922</td>\n",
       "      <td>0.086586</td>\n",
       "      <td>0.000000</td>\n",
       "    </tr>\n",
       "    <tr>\n",
       "      <th>7</th>\n",
       "      <td>-Ylpy3VyRWwubf9dysuwjQ</td>\n",
       "      <td>The Cheesecake Factory</td>\n",
       "      <td>Las Vegas</td>\n",
       "      <td>3.5</td>\n",
       "      <td>36.117343</td>\n",
       "      <td>-115.176362</td>\n",
       "      <td>0.198620</td>\n",
       "      <td>0.100755</td>\n",
       "      <td>0.283538</td>\n",
       "      <td>0.228635</td>\n",
       "      <td>0.114589</td>\n",
       "      <td>0.073863</td>\n",
       "    </tr>\n",
       "    <tr>\n",
       "      <th>8</th>\n",
       "      <td>-a857YYdjzgOdOjFFRsRXQ</td>\n",
       "      <td>Beer Park</td>\n",
       "      <td>Las Vegas</td>\n",
       "      <td>3.5</td>\n",
       "      <td>36.111993</td>\n",
       "      <td>-115.172425</td>\n",
       "      <td>0.250286</td>\n",
       "      <td>0.086495</td>\n",
       "      <td>0.295853</td>\n",
       "      <td>0.169394</td>\n",
       "      <td>0.101435</td>\n",
       "      <td>0.096537</td>\n",
       "    </tr>\n",
       "    <tr>\n",
       "      <th>9</th>\n",
       "      <td>-kbPPBNsIPDfMfgUGO7QhA</td>\n",
       "      <td>Kopper Keg South</td>\n",
       "      <td>Las Vegas</td>\n",
       "      <td>4.0</td>\n",
       "      <td>36.029110</td>\n",
       "      <td>-115.119387</td>\n",
       "      <td>0.178385</td>\n",
       "      <td>0.050138</td>\n",
       "      <td>0.621796</td>\n",
       "      <td>0.061762</td>\n",
       "      <td>0.048663</td>\n",
       "      <td>0.039256</td>\n",
       "    </tr>\n",
       "  </tbody>\n",
       "</table>\n",
       "</div>"
      ],
      "text/plain": [
       "              business_id                            name       city  stars_y  \\\n",
       "0  -CQokjildrY7UZezXCdEBw                      Toddy Shop  Las Vegas      5.0   \n",
       "1  -JfncbVURtvuzBbof40o1w         The Cafe at Monte Carlo  Las Vegas      2.5   \n",
       "2  -OEIW0dO96-492qa_luxaw                     Aces & Ales  Las Vegas      4.0   \n",
       "3  -PGsEXB6DFTVKa1eDOlzWA                Black Bear Diner  Las Vegas      3.5   \n",
       "4  -SGZcGqnsp_uRIjKP2RGZg              Ranch House Grille  Las Vegas      3.5   \n",
       "5  -U7tvCtaraTQ9b0zBhpBMA                MGM Grand Buffet  Las Vegas      2.5   \n",
       "6  -UtYWvCnUppcSaC_u1pTYQ  Kopper Keg Restaurant & Lounge  Las Vegas      4.0   \n",
       "7  -Ylpy3VyRWwubf9dysuwjQ          The Cheesecake Factory  Las Vegas      3.5   \n",
       "8  -a857YYdjzgOdOjFFRsRXQ                       Beer Park  Las Vegas      3.5   \n",
       "9  -kbPPBNsIPDfMfgUGO7QhA                Kopper Keg South  Las Vegas      4.0   \n",
       "\n",
       "    latitude   longitude         0         1         2         3         4  \\\n",
       "0  36.171428 -115.245080  0.111447  0.285122  0.393136  0.000000  0.000000   \n",
       "1  36.104781 -115.174663  0.172101  0.128016  0.316126  0.162161  0.115720   \n",
       "2  36.121423 -115.064716  0.228583  0.107326  0.225116  0.227096  0.146760   \n",
       "3  36.142663 -115.278284  0.165311  0.094164  0.321069  0.176041  0.137894   \n",
       "4  36.042985 -115.288938  0.082803  0.000000  0.207097  0.343421  0.292640   \n",
       "5  36.102091 -115.171778  0.208903  0.087847  0.314483  0.166045  0.109821   \n",
       "6  36.100981 -115.074497  0.000000  0.235492  0.000000  0.677922  0.086586   \n",
       "7  36.117343 -115.176362  0.198620  0.100755  0.283538  0.228635  0.114589   \n",
       "8  36.111993 -115.172425  0.250286  0.086495  0.295853  0.169394  0.101435   \n",
       "9  36.029110 -115.119387  0.178385  0.050138  0.621796  0.061762  0.048663   \n",
       "\n",
       "          5  \n",
       "0  0.210296  \n",
       "1  0.105877  \n",
       "2  0.065119  \n",
       "3  0.105520  \n",
       "4  0.074038  \n",
       "5  0.112901  \n",
       "6  0.000000  \n",
       "7  0.073863  \n",
       "8  0.096537  \n",
       "9  0.039256  "
      ]
     },
     "execution_count": 76,
     "metadata": {},
     "output_type": "execute_result"
    }
   ],
   "source": [
    "# peek into business/topic distributions\n",
    "df_neg_tot.head(10)"
   ]
  },
  {
   "cell_type": "code",
   "execution_count": 77,
   "metadata": {},
   "outputs": [
    {
     "name": "stdout",
     "output_type": "stream",
     "text": [
      "Kopper Keg Restaurant & Lounge - Positive Reviews\n",
      "------------------------------------\n",
      "Topic 0: wait/table         > 0.0000\n",
      "Topic 1: burger/fries       > 0.2355\n",
      "Topic 2: bad_service        > 0.0000\n",
      "Topic 3: chicken/salad      > 0.6779\n",
      "Topic 4: breakfast/eggs     > 0.0866\n",
      "Topic 5: buffet/price       > 0.0000\n"
     ]
    }
   ],
   "source": [
    "scores = df_neg_bsns[df_neg_bsns.business_id == '-UtYWvCnUppcSaC_u1pTYQ'].iloc[:,-6:].values\n",
    "print(restaurants_df[restaurants_df.business_id == '-UtYWvCnUppcSaC_u1pTYQ']['name'].values[0] + ' - Positive Reviews')\n",
    "print('-'*36)\n",
    "for n in neg_topics:\n",
    "    print('Topic {}: {:18} > {:.4f}'.format(n, neg_topics[n], scores[0][n]))"
   ]
  },
  {
   "cell_type": "code",
   "execution_count": 79,
   "metadata": {},
   "outputs": [
    {
     "name": "stdout",
     "output_type": "stream",
     "text": [
      "CPU times: user 9.09 s, sys: 914 ms, total: 10 s\n",
      "Wall time: 10.7 s\n"
     ]
    }
   ],
   "source": [
    "%%time\n",
    "# write to CSV\n",
    "df_pos_tot.to_csv('pos_bsns.csv')\n",
    "df_neg_tot.to_csv('neg_bsns.csv')\n",
    "df_pos.to_csv('pos_reviews.csv')\n",
    "df_neg.to_csv('neg_reviews.csv')"
   ]
  },
  {
   "cell_type": "code",
   "execution_count": 81,
   "metadata": {},
   "outputs": [
    {
     "data": {
      "text/plain": [
       "(751, 12)"
      ]
     },
     "execution_count": 81,
     "metadata": {},
     "output_type": "execute_result"
    }
   ],
   "source": [
    "df_neg_tot.shape"
   ]
  },
  {
   "cell_type": "code",
   "execution_count": null,
   "metadata": {},
   "outputs": [],
   "source": []
  }
 ],
 "metadata": {
  "kernelspec": {
   "display_name": "Python 3",
   "language": "python",
   "name": "python3"
  },
  "language_info": {
   "codemirror_mode": {
    "name": "ipython",
    "version": 3
   },
   "file_extension": ".py",
   "mimetype": "text/x-python",
   "name": "python",
   "nbconvert_exporter": "python",
   "pygments_lexer": "ipython3",
   "version": "3.7.0"
  }
 },
 "nbformat": 4,
 "nbformat_minor": 2
}
